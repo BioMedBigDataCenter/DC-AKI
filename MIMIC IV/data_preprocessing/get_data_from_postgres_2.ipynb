{
 "cells": [
  {
   "cell_type": "code",
   "execution_count": 1,
   "metadata": {},
   "outputs": [],
   "source": [
    "import pandas as pd\n",
    "import numpy as np\n",
    "import psycopg2\n",
    "import getpass\n",
    "import gc\n",
    "from tqdm import tqdm\n",
    "from collections import Counter"
   ]
  },
  {
   "cell_type": "code",
   "execution_count": 2,
   "metadata": {},
   "outputs": [],
   "source": [
    "user = 'postgres'\n",
    "host = '10.10.116.166'\n",
    "#127.0.0.1\n",
    "#host = '127.0.0.1'\n",
    "port = 8088\n",
    "dbname = 'mimiciv'\n",
    "schema = 'public, mimiciv_derived, mimiciv_hosp, mimiciv_icu'"
   ]
  },
  {
   "cell_type": "code",
   "execution_count": 4,
   "metadata": {},
   "outputs": [
    {
     "name": "stdout",
     "output_type": "stream",
     "text": [
      "········\n"
     ]
    }
   ],
   "source": [
    "con = psycopg2.connect(user=user, host=host, port=port,\n",
    "                      dbname=dbname, password=getpass.getpass())\n",
    "cur = con.cursor()"
   ]
  },
  {
   "cell_type": "code",
   "execution_count": 39,
   "metadata": {},
   "outputs": [],
   "source": [
    "DATA_PATH = './data_rsmp6.tsv'\n",
    "RESAMPLE_INTERVAL = '6H'\n",
    "OUTPUT_FILENAME = './data.tsv'"
   ]
  },
  {
   "cell_type": "markdown",
   "metadata": {},
   "source": [
    "# add ventilation, sedatives and vasopressors"
   ]
  },
  {
   "cell_type": "code",
   "execution_count": 40,
   "metadata": {},
   "outputs": [],
   "source": [
    "data = pd.read_csv(DATA_PATH, sep='\\t')"
   ]
  },
  {
   "cell_type": "code",
   "execution_count": 41,
   "metadata": {},
   "outputs": [
    {
     "data": {
      "text/html": [
       "<div>\n",
       "<style scoped>\n",
       "    .dataframe tbody tr th:only-of-type {\n",
       "        vertical-align: middle;\n",
       "    }\n",
       "\n",
       "    .dataframe tbody tr th {\n",
       "        vertical-align: top;\n",
       "    }\n",
       "\n",
       "    .dataframe thead th {\n",
       "        text-align: right;\n",
       "    }\n",
       "</style>\n",
       "<table border=\"1\" class=\"dataframe\">\n",
       "  <thead>\n",
       "    <tr style=\"text-align: right;\">\n",
       "      <th></th>\n",
       "      <th>stay_id</th>\n",
       "      <th>charttime</th>\n",
       "      <th>heartrate</th>\n",
       "      <th>sysbp</th>\n",
       "      <th>diasbp</th>\n",
       "      <th>meanbp</th>\n",
       "      <th>resprate</th>\n",
       "      <th>tempc</th>\n",
       "      <th>spo2</th>\n",
       "      <th>aniongap</th>\n",
       "      <th>...</th>\n",
       "      <th>pt</th>\n",
       "      <th>sodium</th>\n",
       "      <th>bun</th>\n",
       "      <th>wbc</th>\n",
       "      <th>glucose</th>\n",
       "      <th>creatinine</th>\n",
       "      <th>uo_rt_6hr</th>\n",
       "      <th>uo_rt_12hr</th>\n",
       "      <th>uo_rt_24hr</th>\n",
       "      <th>aki_stage</th>\n",
       "    </tr>\n",
       "  </thead>\n",
       "  <tbody>\n",
       "    <tr>\n",
       "      <th>0</th>\n",
       "      <td>30000646</td>\n",
       "      <td>2194-04-29 00:00:00</td>\n",
       "      <td>94.666667</td>\n",
       "      <td>102.200000</td>\n",
       "      <td>62.400000</td>\n",
       "      <td>71.400000</td>\n",
       "      <td>25.666667</td>\n",
       "      <td>37.111111</td>\n",
       "      <td>96.000000</td>\n",
       "      <td>12.0</td>\n",
       "      <td>...</td>\n",
       "      <td>14.5</td>\n",
       "      <td>138.0</td>\n",
       "      <td>12.0</td>\n",
       "      <td>8.5</td>\n",
       "      <td>102.0</td>\n",
       "      <td>0.9</td>\n",
       "      <td>NaN</td>\n",
       "      <td>NaN</td>\n",
       "      <td>NaN</td>\n",
       "      <td>0.0</td>\n",
       "    </tr>\n",
       "    <tr>\n",
       "      <th>1</th>\n",
       "      <td>30000646</td>\n",
       "      <td>2194-04-29 06:00:00</td>\n",
       "      <td>89.880000</td>\n",
       "      <td>92.227273</td>\n",
       "      <td>51.380952</td>\n",
       "      <td>59.952381</td>\n",
       "      <td>29.826087</td>\n",
       "      <td>37.722222</td>\n",
       "      <td>96.375000</td>\n",
       "      <td>12.0</td>\n",
       "      <td>...</td>\n",
       "      <td>14.3</td>\n",
       "      <td>141.0</td>\n",
       "      <td>12.0</td>\n",
       "      <td>10.6</td>\n",
       "      <td>108.0</td>\n",
       "      <td>1.0</td>\n",
       "      <td>NaN</td>\n",
       "      <td>NaN</td>\n",
       "      <td>NaN</td>\n",
       "      <td>0.0</td>\n",
       "    </tr>\n",
       "    <tr>\n",
       "      <th>2</th>\n",
       "      <td>30000646</td>\n",
       "      <td>2194-04-29 12:00:00</td>\n",
       "      <td>72.500000</td>\n",
       "      <td>94.500000</td>\n",
       "      <td>60.333333</td>\n",
       "      <td>68.166667</td>\n",
       "      <td>18.833333</td>\n",
       "      <td>36.833333</td>\n",
       "      <td>98.666667</td>\n",
       "      <td>NaN</td>\n",
       "      <td>...</td>\n",
       "      <td>NaN</td>\n",
       "      <td>NaN</td>\n",
       "      <td>NaN</td>\n",
       "      <td>NaN</td>\n",
       "      <td>NaN</td>\n",
       "      <td>NaN</td>\n",
       "      <td>1.6727</td>\n",
       "      <td>NaN</td>\n",
       "      <td>NaN</td>\n",
       "      <td>0.0</td>\n",
       "    </tr>\n",
       "    <tr>\n",
       "      <th>3</th>\n",
       "      <td>30000646</td>\n",
       "      <td>2194-04-29 18:00:00</td>\n",
       "      <td>83.888889</td>\n",
       "      <td>91.235294</td>\n",
       "      <td>56.294118</td>\n",
       "      <td>64.000000</td>\n",
       "      <td>22.944444</td>\n",
       "      <td>37.000000</td>\n",
       "      <td>94.500000</td>\n",
       "      <td>13.0</td>\n",
       "      <td>...</td>\n",
       "      <td>NaN</td>\n",
       "      <td>143.0</td>\n",
       "      <td>9.0</td>\n",
       "      <td>7.9</td>\n",
       "      <td>144.0</td>\n",
       "      <td>0.6</td>\n",
       "      <td>2.4921</td>\n",
       "      <td>2.5419</td>\n",
       "      <td>NaN</td>\n",
       "      <td>0.0</td>\n",
       "    </tr>\n",
       "    <tr>\n",
       "      <th>4</th>\n",
       "      <td>30000646</td>\n",
       "      <td>2194-04-30 00:00:00</td>\n",
       "      <td>79.125000</td>\n",
       "      <td>84.125000</td>\n",
       "      <td>52.875000</td>\n",
       "      <td>60.000000</td>\n",
       "      <td>16.250000</td>\n",
       "      <td>36.583333</td>\n",
       "      <td>96.000000</td>\n",
       "      <td>10.0</td>\n",
       "      <td>...</td>\n",
       "      <td>16.8</td>\n",
       "      <td>140.0</td>\n",
       "      <td>7.0</td>\n",
       "      <td>7.2</td>\n",
       "      <td>86.0</td>\n",
       "      <td>NaN</td>\n",
       "      <td>NaN</td>\n",
       "      <td>NaN</td>\n",
       "      <td>NaN</td>\n",
       "      <td>NaN</td>\n",
       "    </tr>\n",
       "  </tbody>\n",
       "</table>\n",
       "<p>5 rows × 28 columns</p>\n",
       "</div>"
      ],
      "text/plain": [
       "    stay_id            charttime  heartrate       sysbp     diasbp     meanbp  \\\n",
       "0  30000646  2194-04-29 00:00:00  94.666667  102.200000  62.400000  71.400000   \n",
       "1  30000646  2194-04-29 06:00:00  89.880000   92.227273  51.380952  59.952381   \n",
       "2  30000646  2194-04-29 12:00:00  72.500000   94.500000  60.333333  68.166667   \n",
       "3  30000646  2194-04-29 18:00:00  83.888889   91.235294  56.294118  64.000000   \n",
       "4  30000646  2194-04-30 00:00:00  79.125000   84.125000  52.875000  60.000000   \n",
       "\n",
       "    resprate      tempc       spo2  aniongap  ...    pt  sodium   bun   wbc  \\\n",
       "0  25.666667  37.111111  96.000000      12.0  ...  14.5   138.0  12.0   8.5   \n",
       "1  29.826087  37.722222  96.375000      12.0  ...  14.3   141.0  12.0  10.6   \n",
       "2  18.833333  36.833333  98.666667       NaN  ...   NaN     NaN   NaN   NaN   \n",
       "3  22.944444  37.000000  94.500000      13.0  ...   NaN   143.0   9.0   7.9   \n",
       "4  16.250000  36.583333  96.000000      10.0  ...  16.8   140.0   7.0   7.2   \n",
       "\n",
       "   glucose  creatinine  uo_rt_6hr  uo_rt_12hr  uo_rt_24hr  aki_stage  \n",
       "0    102.0         0.9        NaN         NaN         NaN        0.0  \n",
       "1    108.0         1.0        NaN         NaN         NaN        0.0  \n",
       "2      NaN         NaN     1.6727         NaN         NaN        0.0  \n",
       "3    144.0         0.6     2.4921      2.5419         NaN        0.0  \n",
       "4     86.0         NaN        NaN         NaN         NaN        NaN  \n",
       "\n",
       "[5 rows x 28 columns]"
      ]
     },
     "execution_count": 41,
     "metadata": {},
     "output_type": "execute_result"
    }
   ],
   "source": [
    "data.head()"
   ]
  },
  {
   "cell_type": "code",
   "execution_count": 42,
   "metadata": {},
   "outputs": [],
   "source": [
    "data.charttime = pd.to_datetime(data.charttime)"
   ]
  },
  {
   "cell_type": "code",
   "execution_count": 43,
   "metadata": {},
   "outputs": [
    {
     "data": {
      "text/plain": [
       "25691"
      ]
     },
     "execution_count": 43,
     "metadata": {},
     "output_type": "execute_result"
    }
   ],
   "source": [
    "icustays = data.stay_id.unique().tolist()\n",
    "len(icustays)"
   ]
  },
  {
   "cell_type": "code",
   "execution_count": 45,
   "metadata": {},
   "outputs": [],
   "source": [
    "# 数据库查询语句\n",
    "ventilation = 'select * from mimiciv_derived.ventilation'\n",
    "sedative = 'select * from sedative'\n",
    "vasopressor = 'select * from mimiciv_derived.vasopressin'\n",
    "rrt = 'select * from rrt_all_admission_0721'\n",
    "crrt = 'select * from mimiciv_derived.crrt'\n",
    "\n",
    "query_dict = {\n",
    "    'ventilation': ventilation,\n",
    "    'sedative' : sedative\n",
    "    'vasopressor': vasopressor,\n",
    "    'rrt': rrt,\n",
    "    'crrt': crrt,\n",
    "}"
   ]
  },
  {
   "cell_type": "code",
   "execution_count": 46,
   "metadata": {},
   "outputs": [
    {
     "name": "stderr",
     "output_type": "stream",
     "text": [
      "100%|████████████████████████████████████████████████████████████████| 4/4 [09:31<00:00, 142.93s/it]"
     ]
    },
    {
     "name": "stdout",
     "output_type": "stream",
     "text": [
      "crrt has None!\n"
     ]
    },
    {
     "name": "stderr",
     "output_type": "stream",
     "text": [
      "\n"
     ]
    }
   ],
   "source": [
    "for name, query in tqdm(query_dict.items(), ncols=100):\n",
    "    table = pd.read_sql_query(query, con)\n",
    "    table = table[table.stay_id.isin(icustays)]\n",
    "    if pd.isna(table).any().any():\n",
    "        print('{0} has None!'.format(name))\n",
    "        continue\n",
    "    table = table[['stay_id', 'starttime', 'endtime']]\n",
    "    table['starttime'] = pd.to_datetime(table['starttime'])\n",
    "    table['endtime'] = pd.to_datetime(table['endtime'])\n",
    "    table.drop_duplicates(inplace=True)\n",
    "    table.sort_values(by=['stay_id', 'starttime'], inplace=True, ascending=True, ignore_index=True)\n",
    "    \n",
    "    table_group = table.groupby('stay_id')\n",
    "    data_group = data.copy()\n",
    "    data_group[name] = 0\n",
    "    data_group = data_group.set_index('charttime').groupby('stay_id')\n",
    "    \n",
    "    result_list = []\n",
    "    for i in icustays:\n",
    "        tmp_data = data_group.get_group(i).copy()\n",
    "        try:\n",
    "            tmp_table = table_group.get_group(i).copy()\n",
    "            for idx in tmp_table.index:\n",
    "                starttime, endtime = tmp_table.loc[idx, 'starttime'], tmp_table.loc[idx, 'endtime']\n",
    "                tmp_data.loc[starttime:endtime, name] = 1\n",
    "        except:\n",
    "            pass\n",
    "        result_list.append(tmp_data.reset_index(drop=False))\n",
    "    data = pd.concat(result_list, axis=0, ignore_index=True)\n",
    "#     print('{0} first: {1}'.format(name, Counter(data[name])))\n",
    "    \n",
    "    data_group = data.groupby('stay_id')\n",
    "    table_start = table[['stay_id', 'starttime']]\n",
    "    table_end = table[['stay_id', 'endtime']]\n",
    "    table_end.columns = ['stay_id', 'starttime']\n",
    "    table = pd.concat([table_start, table_end], axis=0)\n",
    "    table.sort_values(by=['stay_id', 'starttime'], axis=0, ascending=True, inplace=True)\n",
    "    table.drop_duplicates(inplace=True)\n",
    "    table_group = table.set_index('starttime').groupby('stay_id')\n",
    "    \n",
    "    result_list = []\n",
    "    for i in icustays:\n",
    "        tmp_data = data_group.get_group(i).copy()\n",
    "        try:\n",
    "            tmp_table = table_group.get_group(i).copy()\n",
    "            for idx in tmp_data.index:\n",
    "                starttime = tmp_data.loc[idx, 'charttime']\n",
    "                endtime = starttime + pd.Timedelta(RESAMPLE_INTERVAL) - pd.Timedelta('1s')\n",
    "                if len(tmp_table.loc[starttime:endtime, ]) == 0:\n",
    "                    pass\n",
    "                else:\n",
    "                    tmp_data.loc[idx, name] = 1\n",
    "        except:\n",
    "            pass\n",
    "        result_list.append(tmp_data)\n",
    "    data = pd.concat(result_list, axis=0, ignore_index=True)\n",
    "#     print('{0} second: {1}'.format(name, Counter(data[name])))\n",
    "    \n",
    "    del table, table_start, table_end, table_group, tmp_data, tmp_table, data_group, result_list\n",
    "    gc.collect()"
   ]
  },
  {
   "cell_type": "code",
   "execution_count": 47,
   "metadata": {},
   "outputs": [
    {
     "data": {
      "text/plain": [
       "Index(['charttime', 'stay_id', 'heartrate', 'sysbp', 'diasbp', 'meanbp',\n",
       "       'resprate', 'tempc', 'spo2', 'aniongap', 'bicarbonate', 'chloride',\n",
       "       'hematocrit', 'hemoglobin', 'platelet', 'potassium', 'ptt', 'inr', 'pt',\n",
       "       'sodium', 'bun', 'wbc', 'glucose', 'creatinine', 'uo_rt_6hr',\n",
       "       'uo_rt_12hr', 'uo_rt_24hr', 'aki_stage', 'ventilation', 'vasopressor',\n",
       "       'rrt'],\n",
       "      dtype='object')"
      ]
     },
     "execution_count": 47,
     "metadata": {},
     "output_type": "execute_result"
    }
   ],
   "source": [
    "data.columns"
   ]
  },
  {
   "cell_type": "code",
   "execution_count": 48,
   "metadata": {},
   "outputs": [
    {
     "name": "stderr",
     "output_type": "stream",
     "text": [
      "100%|████████████████████████████████████████████████████████████████| 1/1 [07:14<00:00, 434.63s/it]\n"
     ]
    }
   ],
   "source": [
    "# 数据库查询语句\n",
    "#ventilation = 'select * from ventilation'\n",
    "ventilation = 'select * from mimiciv_derived.ventilation'\n",
    "sedative = 'select * from sedative'\n",
    "vasopressor = 'select * from mimiciv_derived.vasopressin'\n",
    "rrt = 'select * from rrt_all_admission_0721'\n",
    "crrt = 'select * from mimiciv_derived.crrt'\n",
    "#adenosine = 'select * from adenosine'\n",
    "#isuprel = 'select * from isuprel'\n",
    "query_dict = {\n",
    "    #'ventilation': ventilation,\n",
    "    'sedative': sedative,\n",
    "    #'vasopressor': vasopressor,\n",
    "    #'rrt': rrt,\n",
    "    #'crrt': crrt,\n",
    "    #'adenosine': adenosine,\n",
    "    #'isuprel': isuprel\n",
    "}\n",
    "for name, query in tqdm(query_dict.items(), ncols=100):\n",
    "    table = pd.read_sql_query(query, con)\n",
    "    table = table[table.stay_id.isin(icustays)]\n",
    "    if pd.isna(table).any().any():\n",
    "        print('{0} has None!'.format(name))\n",
    "        continue\n",
    "    table = table[['stay_id', 'starttime', 'endtime']]\n",
    "    table['starttime'] = pd.to_datetime(table['starttime'])\n",
    "    table['endtime'] = pd.to_datetime(table['endtime'])\n",
    "    table.drop_duplicates(inplace=True)\n",
    "    table.sort_values(by=['stay_id', 'starttime'], inplace=True, ascending=True, ignore_index=True)\n",
    "    \n",
    "    table_group = table.groupby('stay_id')\n",
    "    data_group = data.copy()\n",
    "    data_group[name] = 0\n",
    "    data_group = data_group.set_index('charttime').groupby('stay_id')\n",
    "    \n",
    "    result_list = []\n",
    "    for i in icustays:\n",
    "        tmp_data = data_group.get_group(i).copy()\n",
    "        try:\n",
    "            tmp_table = table_group.get_group(i).copy()\n",
    "            for idx in tmp_table.index:\n",
    "                starttime, endtime = tmp_table.loc[idx, 'starttime'], tmp_table.loc[idx, 'endtime']\n",
    "                tmp_data.loc[starttime:endtime, name] = 1\n",
    "        except:\n",
    "            pass\n",
    "        result_list.append(tmp_data.reset_index(drop=False))\n",
    "    data = pd.concat(result_list, axis=0, ignore_index=True)\n",
    "#     print('{0} first: {1}'.format(name, Counter(data[name])))\n",
    "    \n",
    "    data_group = data.groupby('stay_id')\n",
    "    table_start = table[['stay_id', 'starttime']]\n",
    "    table_end = table[['stay_id', 'endtime']]\n",
    "    table_end.columns = ['stay_id', 'starttime']\n",
    "    table = pd.concat([table_start, table_end], axis=0)\n",
    "    table.sort_values(by=['stay_id', 'starttime'], axis=0, ascending=True, inplace=True)\n",
    "    table.drop_duplicates(inplace=True)\n",
    "    table_group = table.set_index('starttime').groupby('stay_id')\n",
    "    \n",
    "    result_list = []\n",
    "    for i in icustays:\n",
    "        tmp_data = data_group.get_group(i).copy()\n",
    "        try:\n",
    "            tmp_table = table_group.get_group(i).copy()\n",
    "            for idx in tmp_data.index:\n",
    "                starttime = tmp_data.loc[idx, 'charttime']\n",
    "                endtime = starttime + pd.Timedelta(RESAMPLE_INTERVAL) - pd.Timedelta('1s')\n",
    "                if len(tmp_table.loc[starttime:endtime, ]) == 0:\n",
    "                    pass\n",
    "                else:\n",
    "                    tmp_data.loc[idx, name] = 1\n",
    "        except:\n",
    "            pass\n",
    "        result_list.append(tmp_data)\n",
    "    data = pd.concat(result_list, axis=0, ignore_index=True)\n",
    "#     print('{0} second: {1}'.format(name, Counter(data[name])))\n",
    "    \n",
    "    del table, table_start, table_end, table_group, tmp_data, tmp_table, data_group, result_list\n",
    "    gc.collect()"
   ]
  },
  {
   "cell_type": "code",
   "execution_count": 49,
   "metadata": {},
   "outputs": [
    {
     "data": {
      "text/plain": [
       "Index(['charttime', 'stay_id', 'heartrate', 'sysbp', 'diasbp', 'meanbp',\n",
       "       'resprate', 'tempc', 'spo2', 'aniongap', 'bicarbonate', 'chloride',\n",
       "       'hematocrit', 'hemoglobin', 'platelet', 'potassium', 'ptt', 'inr', 'pt',\n",
       "       'sodium', 'bun', 'wbc', 'glucose', 'creatinine', 'uo_rt_6hr',\n",
       "       'uo_rt_12hr', 'uo_rt_24hr', 'aki_stage', 'ventilation', 'vasopressor',\n",
       "       'rrt', 'sedative'],\n",
       "      dtype='object')"
      ]
     },
     "execution_count": 49,
     "metadata": {},
     "output_type": "execute_result"
    }
   ],
   "source": [
    "data.columns"
   ]
  },
  {
   "cell_type": "markdown",
   "metadata": {},
   "source": [
    "# add time independent data"
   ]
  },
  {
   "cell_type": "code",
   "execution_count": 52,
   "metadata": {},
   "outputs": [],
   "source": [
    "details = 'select * from icustay_detail_0721'\n",
    "details = pd.read_sql_query(details, con)"
   ]
  },
  {
   "cell_type": "code",
   "execution_count": 53,
   "metadata": {},
   "outputs": [
    {
     "data": {
      "text/html": [
       "<div>\n",
       "<style scoped>\n",
       "    .dataframe tbody tr th:only-of-type {\n",
       "        vertical-align: middle;\n",
       "    }\n",
       "\n",
       "    .dataframe tbody tr th {\n",
       "        vertical-align: top;\n",
       "    }\n",
       "\n",
       "    .dataframe thead th {\n",
       "        text-align: right;\n",
       "    }\n",
       "</style>\n",
       "<table border=\"1\" class=\"dataframe\">\n",
       "  <thead>\n",
       "    <tr style=\"text-align: right;\">\n",
       "      <th></th>\n",
       "      <th>subject_id</th>\n",
       "      <th>hadm_id</th>\n",
       "      <th>stay_id</th>\n",
       "      <th>gender</th>\n",
       "      <th>admittime</th>\n",
       "      <th>dischtime</th>\n",
       "      <th>admission_age</th>\n",
       "      <th>race</th>\n",
       "      <th>admission_type</th>\n",
       "    </tr>\n",
       "  </thead>\n",
       "  <tbody>\n",
       "    <tr>\n",
       "      <th>0</th>\n",
       "      <td>10001884</td>\n",
       "      <td>26184834</td>\n",
       "      <td>37510196</td>\n",
       "      <td>F</td>\n",
       "      <td>2131-01-07 20:39:00</td>\n",
       "      <td>2131-01-20 05:15:00</td>\n",
       "      <td>77.018296</td>\n",
       "      <td>BLACK/AFRICAN AMERICAN</td>\n",
       "      <td>OBSERVATION ADMIT</td>\n",
       "    </tr>\n",
       "    <tr>\n",
       "      <th>1</th>\n",
       "      <td>10002155</td>\n",
       "      <td>23822395</td>\n",
       "      <td>33685454</td>\n",
       "      <td>F</td>\n",
       "      <td>2129-08-04 12:44:00</td>\n",
       "      <td>2129-08-18 16:53:00</td>\n",
       "      <td>81.592179</td>\n",
       "      <td>WHITE</td>\n",
       "      <td>EW EMER.</td>\n",
       "    </tr>\n",
       "    <tr>\n",
       "      <th>2</th>\n",
       "      <td>10002155</td>\n",
       "      <td>28994087</td>\n",
       "      <td>31090461</td>\n",
       "      <td>F</td>\n",
       "      <td>2130-09-23 21:59:00</td>\n",
       "      <td>2130-09-29 18:55:00</td>\n",
       "      <td>82.729467</td>\n",
       "      <td>WHITE</td>\n",
       "      <td>EW EMER.</td>\n",
       "    </tr>\n",
       "    <tr>\n",
       "      <th>3</th>\n",
       "      <td>10002348</td>\n",
       "      <td>22725460</td>\n",
       "      <td>32610785</td>\n",
       "      <td>F</td>\n",
       "      <td>2112-11-30 22:22:00</td>\n",
       "      <td>2112-12-10 17:56:00</td>\n",
       "      <td>77.917014</td>\n",
       "      <td>WHITE</td>\n",
       "      <td>OBSERVATION ADMIT</td>\n",
       "    </tr>\n",
       "    <tr>\n",
       "      <th>4</th>\n",
       "      <td>10002428</td>\n",
       "      <td>20321825</td>\n",
       "      <td>34807493</td>\n",
       "      <td>F</td>\n",
       "      <td>2156-04-30 20:35:00</td>\n",
       "      <td>2156-05-03 16:36:00</td>\n",
       "      <td>81.330235</td>\n",
       "      <td>WHITE</td>\n",
       "      <td>EW EMER.</td>\n",
       "    </tr>\n",
       "  </tbody>\n",
       "</table>\n",
       "</div>"
      ],
      "text/plain": [
       "   subject_id   hadm_id   stay_id gender           admittime  \\\n",
       "0    10001884  26184834  37510196      F 2131-01-07 20:39:00   \n",
       "1    10002155  23822395  33685454      F 2129-08-04 12:44:00   \n",
       "2    10002155  28994087  31090461      F 2130-09-23 21:59:00   \n",
       "3    10002348  22725460  32610785      F 2112-11-30 22:22:00   \n",
       "4    10002428  20321825  34807493      F 2156-04-30 20:35:00   \n",
       "\n",
       "            dischtime  admission_age                    race  \\\n",
       "0 2131-01-20 05:15:00      77.018296  BLACK/AFRICAN AMERICAN   \n",
       "1 2129-08-18 16:53:00      81.592179                   WHITE   \n",
       "2 2130-09-29 18:55:00      82.729467                   WHITE   \n",
       "3 2112-12-10 17:56:00      77.917014                   WHITE   \n",
       "4 2156-05-03 16:36:00      81.330235                   WHITE   \n",
       "\n",
       "      admission_type  \n",
       "0  OBSERVATION ADMIT  \n",
       "1           EW EMER.  \n",
       "2           EW EMER.  \n",
       "3  OBSERVATION ADMIT  \n",
       "4           EW EMER.  "
      ]
     },
     "execution_count": 53,
     "metadata": {},
     "output_type": "execute_result"
    }
   ],
   "source": [
    "details.head()"
   ]
  },
  {
   "cell_type": "code",
   "execution_count": 54,
   "metadata": {},
   "outputs": [
    {
     "data": {
      "text/html": [
       "<div>\n",
       "<style scoped>\n",
       "    .dataframe tbody tr th:only-of-type {\n",
       "        vertical-align: middle;\n",
       "    }\n",
       "\n",
       "    .dataframe tbody tr th {\n",
       "        vertical-align: top;\n",
       "    }\n",
       "\n",
       "    .dataframe thead th {\n",
       "        text-align: right;\n",
       "    }\n",
       "</style>\n",
       "<table border=\"1\" class=\"dataframe\">\n",
       "  <thead>\n",
       "    <tr style=\"text-align: right;\">\n",
       "      <th></th>\n",
       "      <th>stay_id</th>\n",
       "      <th>gender</th>\n",
       "      <th>admission_age</th>\n",
       "      <th>race</th>\n",
       "      <th>admission_type</th>\n",
       "    </tr>\n",
       "  </thead>\n",
       "  <tbody>\n",
       "    <tr>\n",
       "      <th>0</th>\n",
       "      <td>37510196</td>\n",
       "      <td>F</td>\n",
       "      <td>77.018296</td>\n",
       "      <td>BLACK/AFRICAN AMERICAN</td>\n",
       "      <td>OBSERVATION ADMIT</td>\n",
       "    </tr>\n",
       "    <tr>\n",
       "      <th>1</th>\n",
       "      <td>33685454</td>\n",
       "      <td>F</td>\n",
       "      <td>81.592179</td>\n",
       "      <td>WHITE</td>\n",
       "      <td>EW EMER.</td>\n",
       "    </tr>\n",
       "    <tr>\n",
       "      <th>2</th>\n",
       "      <td>31090461</td>\n",
       "      <td>F</td>\n",
       "      <td>82.729467</td>\n",
       "      <td>WHITE</td>\n",
       "      <td>EW EMER.</td>\n",
       "    </tr>\n",
       "    <tr>\n",
       "      <th>3</th>\n",
       "      <td>32610785</td>\n",
       "      <td>F</td>\n",
       "      <td>77.917014</td>\n",
       "      <td>WHITE</td>\n",
       "      <td>OBSERVATION ADMIT</td>\n",
       "    </tr>\n",
       "    <tr>\n",
       "      <th>5</th>\n",
       "      <td>35479615</td>\n",
       "      <td>F</td>\n",
       "      <td>81.359694</td>\n",
       "      <td>WHITE</td>\n",
       "      <td>EW EMER.</td>\n",
       "    </tr>\n",
       "  </tbody>\n",
       "</table>\n",
       "</div>"
      ],
      "text/plain": [
       "    stay_id gender  admission_age                    race     admission_type\n",
       "0  37510196      F      77.018296  BLACK/AFRICAN AMERICAN  OBSERVATION ADMIT\n",
       "1  33685454      F      81.592179                   WHITE           EW EMER.\n",
       "2  31090461      F      82.729467                   WHITE           EW EMER.\n",
       "3  32610785      F      77.917014                   WHITE  OBSERVATION ADMIT\n",
       "5  35479615      F      81.359694                   WHITE           EW EMER."
      ]
     },
     "execution_count": 54,
     "metadata": {},
     "output_type": "execute_result"
    }
   ],
   "source": [
    "details.drop(['hadm_id', 'subject_id', 'admittime', 'dischtime'], axis=1, inplace=True)\n",
    "icustays = data.stay_id.unique().tolist()\n",
    "\n",
    "details = details[details.stay_id.isin(icustays)]\n",
    "details.head()"
   ]
  },
  {
   "cell_type": "code",
   "execution_count": 55,
   "metadata": {},
   "outputs": [
    {
     "data": {
      "text/html": [
       "<div>\n",
       "<style scoped>\n",
       "    .dataframe tbody tr th:only-of-type {\n",
       "        vertical-align: middle;\n",
       "    }\n",
       "\n",
       "    .dataframe tbody tr th {\n",
       "        vertical-align: top;\n",
       "    }\n",
       "\n",
       "    .dataframe thead th {\n",
       "        text-align: right;\n",
       "    }\n",
       "</style>\n",
       "<table border=\"1\" class=\"dataframe\">\n",
       "  <thead>\n",
       "    <tr style=\"text-align: right;\">\n",
       "      <th></th>\n",
       "      <th>stay_id</th>\n",
       "      <th>gender</th>\n",
       "      <th>admission_age</th>\n",
       "      <th>race</th>\n",
       "      <th>admission_type</th>\n",
       "    </tr>\n",
       "  </thead>\n",
       "  <tbody>\n",
       "    <tr>\n",
       "      <th>0</th>\n",
       "      <td>37510196</td>\n",
       "      <td>F</td>\n",
       "      <td>77.018296</td>\n",
       "      <td>BLACK/AFRICAN AMERICAN</td>\n",
       "      <td>OBSERVATION ADMIT</td>\n",
       "    </tr>\n",
       "    <tr>\n",
       "      <th>1</th>\n",
       "      <td>33685454</td>\n",
       "      <td>F</td>\n",
       "      <td>81.592179</td>\n",
       "      <td>WHITE</td>\n",
       "      <td>EW EMER.</td>\n",
       "    </tr>\n",
       "    <tr>\n",
       "      <th>2</th>\n",
       "      <td>31090461</td>\n",
       "      <td>F</td>\n",
       "      <td>82.729467</td>\n",
       "      <td>WHITE</td>\n",
       "      <td>EW EMER.</td>\n",
       "    </tr>\n",
       "    <tr>\n",
       "      <th>3</th>\n",
       "      <td>32610785</td>\n",
       "      <td>F</td>\n",
       "      <td>77.917014</td>\n",
       "      <td>WHITE</td>\n",
       "      <td>OBSERVATION ADMIT</td>\n",
       "    </tr>\n",
       "    <tr>\n",
       "      <th>5</th>\n",
       "      <td>35479615</td>\n",
       "      <td>F</td>\n",
       "      <td>81.359694</td>\n",
       "      <td>WHITE</td>\n",
       "      <td>EW EMER.</td>\n",
       "    </tr>\n",
       "  </tbody>\n",
       "</table>\n",
       "</div>"
      ],
      "text/plain": [
       "    stay_id gender  admission_age                    race     admission_type\n",
       "0  37510196      F      77.018296  BLACK/AFRICAN AMERICAN  OBSERVATION ADMIT\n",
       "1  33685454      F      81.592179                   WHITE           EW EMER.\n",
       "2  31090461      F      82.729467                   WHITE           EW EMER.\n",
       "3  32610785      F      77.917014                   WHITE  OBSERVATION ADMIT\n",
       "5  35479615      F      81.359694                   WHITE           EW EMER."
      ]
     },
     "execution_count": 55,
     "metadata": {},
     "output_type": "execute_result"
    }
   ],
   "source": [
    "details = details[details.stay_id.isin(icustays)]\n",
    "details.head()"
   ]
  },
  {
   "cell_type": "code",
   "execution_count": 56,
   "metadata": {},
   "outputs": [
    {
     "data": {
      "text/plain": [
       "stay_id             int64\n",
       "gender             object\n",
       "admission_age     float64\n",
       "race               object\n",
       "admission_type     object\n",
       "dtype: object"
      ]
     },
     "execution_count": 56,
     "metadata": {},
     "output_type": "execute_result"
    }
   ],
   "source": [
    "details.dtypes"
   ]
  },
  {
   "cell_type": "code",
   "execution_count": 57,
   "metadata": {},
   "outputs": [
    {
     "data": {
      "text/plain": [
       "25691"
      ]
     },
     "execution_count": 57,
     "metadata": {},
     "output_type": "execute_result"
    }
   ],
   "source": [
    "details.stay_id.nunique()"
   ]
  },
  {
   "cell_type": "code",
   "execution_count": 58,
   "metadata": {},
   "outputs": [
    {
     "data": {
      "text/plain": [
       "(2, 33, 8)"
      ]
     },
     "execution_count": 58,
     "metadata": {},
     "output_type": "execute_result"
    }
   ],
   "source": [
    "details.gender.nunique(), details.race.nunique(), details.admission_type.nunique()"
   ]
  },
  {
   "cell_type": "code",
   "execution_count": 59,
   "metadata": {},
   "outputs": [],
   "source": [
    "details.race.replace({'ASIAN - ASIAN INDIAN': 'ASIAN', 'ASIAN - CHINESE': 'ASIAN',\n",
    "                      'ASIAN - KOREAN': 'ASIAN', 'ASIAN - SOUTH EAST ASIAN': 'ASIAN',\n",
    "                      'BLACK/AFRICAN AMERICAN': 'BLACK', 'BLACK/CARIBBEAN ISLAND': 'BLACK',\n",
    "                      'BLACK/AFRICAN': 'BLACK', 'BLACK/AFRICAN AMERICAN': 'BLACK',\n",
    "                      'HISPANIC OR LATINO': 'HISPANIC/LATINO',\n",
    "                      'HISPANIC/LATINO - CENTRAL AMERICAN': 'HISPANIC/LATINO',\n",
    "                      'HISPANIC/LATINO - COLUMBIAN': 'HISPANIC/LATINO', 'HISPANIC/LATINO - CUBAN': 'HISPANIC/LATINO',\n",
    "                      'HISPANIC/LATINO - DOMINICAN': 'HISPANIC/LATINO', 'HISPANIC/LATINO - GUATEMALAN': 'HISPANIC/LATINO',\n",
    "                      'HISPANIC/LATINO - HONDURAN': 'HISPANIC/LATINO', 'HISPANIC/LATINO - MEXICAN': 'HISPANIC/LATINO',\n",
    "                      'HISPANIC/LATINO - PUERTO RICAN': 'HISPANIC/LATINO',\n",
    "                      'HISPANIC/LATINO - SALVADORAN': 'HISPANIC/LATINO',\n",
    "                      'WHITE - BRAZILIAN': 'WHITE', 'WHITE - EASTERN EUROPEAN': 'WHITE',\n",
    "                      'WHITE - OTHER EUROPEAN': 'WHITE', 'WHITE - RUSSIAN': 'WHITE',\n",
    "                      'UNABLE TO OBTAIN': 'UNKNOWN', 'PATIENT DECLINED TO ANSWER': 'UNKNOWN',\n",
    "                      'OTHER': 'UNKNOWN','BLACK/CAPE VERDEAN': 'BLACK'\n",
    "                     }, inplace=True)"
   ]
  },
  {
   "cell_type": "code",
   "execution_count": 60,
   "metadata": {},
   "outputs": [
    {
     "data": {
      "text/plain": [
       "(2, 10, 8)"
      ]
     },
     "execution_count": 60,
     "metadata": {},
     "output_type": "execute_result"
    }
   ],
   "source": [
    "details.gender.nunique(), details.race.nunique(), details.admission_type.nunique()"
   ]
  },
  {
   "cell_type": "code",
   "execution_count": 61,
   "metadata": {},
   "outputs": [
    {
     "data": {
      "text/plain": [
       "Counter({'F': 11130, 'M': 14561})"
      ]
     },
     "execution_count": 61,
     "metadata": {},
     "output_type": "execute_result"
    }
   ],
   "source": [
    "Counter(details.gender.values)"
   ]
  },
  {
   "cell_type": "code",
   "execution_count": 62,
   "metadata": {},
   "outputs": [
    {
     "data": {
      "text/plain": [
       "count    25691.000000\n",
       "mean        64.403473\n",
       "std         15.663131\n",
       "min         18.002527\n",
       "25%         55.158227\n",
       "50%         66.597893\n",
       "75%         76.585708\n",
       "max         88.992883\n",
       "Name: admission_age, dtype: float64"
      ]
     },
     "execution_count": 62,
     "metadata": {},
     "output_type": "execute_result"
    }
   ],
   "source": [
    "details.admission_age.describe()"
   ]
  },
  {
   "cell_type": "code",
   "execution_count": 63,
   "metadata": {},
   "outputs": [],
   "source": [
    "details = pd.get_dummies(details).astype('float32')"
   ]
  },
  {
   "cell_type": "code",
   "execution_count": 64,
   "metadata": {},
   "outputs": [
    {
     "data": {
      "text/plain": [
       "(25691, 22)"
      ]
     },
     "execution_count": 64,
     "metadata": {},
     "output_type": "execute_result"
    }
   ],
   "source": [
    "details.shape"
   ]
  },
  {
   "cell_type": "code",
   "execution_count": 65,
   "metadata": {},
   "outputs": [
    {
     "data": {
      "text/html": [
       "<div>\n",
       "<style scoped>\n",
       "    .dataframe tbody tr th:only-of-type {\n",
       "        vertical-align: middle;\n",
       "    }\n",
       "\n",
       "    .dataframe tbody tr th {\n",
       "        vertical-align: top;\n",
       "    }\n",
       "\n",
       "    .dataframe thead th {\n",
       "        text-align: right;\n",
       "    }\n",
       "</style>\n",
       "<table border=\"1\" class=\"dataframe\">\n",
       "  <thead>\n",
       "    <tr style=\"text-align: right;\">\n",
       "      <th></th>\n",
       "      <th>stay_id</th>\n",
       "      <th>admission_age</th>\n",
       "      <th>gender_F</th>\n",
       "      <th>gender_M</th>\n",
       "      <th>race_AMERICAN INDIAN/ALASKA NATIVE</th>\n",
       "      <th>race_ASIAN</th>\n",
       "      <th>race_BLACK</th>\n",
       "      <th>race_HISPANIC/LATINO</th>\n",
       "      <th>race_MULTIPLE RACE/ETHNICITY</th>\n",
       "      <th>race_NATIVE HAWAIIAN OR OTHER PACIFIC ISLANDER</th>\n",
       "      <th>...</th>\n",
       "      <th>race_UNKNOWN</th>\n",
       "      <th>race_WHITE</th>\n",
       "      <th>admission_type_DIRECT EMER.</th>\n",
       "      <th>admission_type_DIRECT OBSERVATION</th>\n",
       "      <th>admission_type_ELECTIVE</th>\n",
       "      <th>admission_type_EU OBSERVATION</th>\n",
       "      <th>admission_type_EW EMER.</th>\n",
       "      <th>admission_type_OBSERVATION ADMIT</th>\n",
       "      <th>admission_type_SURGICAL SAME DAY ADMISSION</th>\n",
       "      <th>admission_type_URGENT</th>\n",
       "    </tr>\n",
       "  </thead>\n",
       "  <tbody>\n",
       "    <tr>\n",
       "      <th>0</th>\n",
       "      <td>37510196.0</td>\n",
       "      <td>77.018295</td>\n",
       "      <td>1.0</td>\n",
       "      <td>0.0</td>\n",
       "      <td>0.0</td>\n",
       "      <td>0.0</td>\n",
       "      <td>1.0</td>\n",
       "      <td>0.0</td>\n",
       "      <td>0.0</td>\n",
       "      <td>0.0</td>\n",
       "      <td>...</td>\n",
       "      <td>0.0</td>\n",
       "      <td>0.0</td>\n",
       "      <td>0.0</td>\n",
       "      <td>0.0</td>\n",
       "      <td>0.0</td>\n",
       "      <td>0.0</td>\n",
       "      <td>0.0</td>\n",
       "      <td>1.0</td>\n",
       "      <td>0.0</td>\n",
       "      <td>0.0</td>\n",
       "    </tr>\n",
       "    <tr>\n",
       "      <th>1</th>\n",
       "      <td>33685456.0</td>\n",
       "      <td>81.592178</td>\n",
       "      <td>1.0</td>\n",
       "      <td>0.0</td>\n",
       "      <td>0.0</td>\n",
       "      <td>0.0</td>\n",
       "      <td>0.0</td>\n",
       "      <td>0.0</td>\n",
       "      <td>0.0</td>\n",
       "      <td>0.0</td>\n",
       "      <td>...</td>\n",
       "      <td>0.0</td>\n",
       "      <td>1.0</td>\n",
       "      <td>0.0</td>\n",
       "      <td>0.0</td>\n",
       "      <td>0.0</td>\n",
       "      <td>0.0</td>\n",
       "      <td>1.0</td>\n",
       "      <td>0.0</td>\n",
       "      <td>0.0</td>\n",
       "      <td>0.0</td>\n",
       "    </tr>\n",
       "    <tr>\n",
       "      <th>2</th>\n",
       "      <td>31090460.0</td>\n",
       "      <td>82.729469</td>\n",
       "      <td>1.0</td>\n",
       "      <td>0.0</td>\n",
       "      <td>0.0</td>\n",
       "      <td>0.0</td>\n",
       "      <td>0.0</td>\n",
       "      <td>0.0</td>\n",
       "      <td>0.0</td>\n",
       "      <td>0.0</td>\n",
       "      <td>...</td>\n",
       "      <td>0.0</td>\n",
       "      <td>1.0</td>\n",
       "      <td>0.0</td>\n",
       "      <td>0.0</td>\n",
       "      <td>0.0</td>\n",
       "      <td>0.0</td>\n",
       "      <td>1.0</td>\n",
       "      <td>0.0</td>\n",
       "      <td>0.0</td>\n",
       "      <td>0.0</td>\n",
       "    </tr>\n",
       "    <tr>\n",
       "      <th>3</th>\n",
       "      <td>32610784.0</td>\n",
       "      <td>77.917015</td>\n",
       "      <td>1.0</td>\n",
       "      <td>0.0</td>\n",
       "      <td>0.0</td>\n",
       "      <td>0.0</td>\n",
       "      <td>0.0</td>\n",
       "      <td>0.0</td>\n",
       "      <td>0.0</td>\n",
       "      <td>0.0</td>\n",
       "      <td>...</td>\n",
       "      <td>0.0</td>\n",
       "      <td>1.0</td>\n",
       "      <td>0.0</td>\n",
       "      <td>0.0</td>\n",
       "      <td>0.0</td>\n",
       "      <td>0.0</td>\n",
       "      <td>0.0</td>\n",
       "      <td>1.0</td>\n",
       "      <td>0.0</td>\n",
       "      <td>0.0</td>\n",
       "    </tr>\n",
       "    <tr>\n",
       "      <th>5</th>\n",
       "      <td>35479616.0</td>\n",
       "      <td>81.359695</td>\n",
       "      <td>1.0</td>\n",
       "      <td>0.0</td>\n",
       "      <td>0.0</td>\n",
       "      <td>0.0</td>\n",
       "      <td>0.0</td>\n",
       "      <td>0.0</td>\n",
       "      <td>0.0</td>\n",
       "      <td>0.0</td>\n",
       "      <td>...</td>\n",
       "      <td>0.0</td>\n",
       "      <td>1.0</td>\n",
       "      <td>0.0</td>\n",
       "      <td>0.0</td>\n",
       "      <td>0.0</td>\n",
       "      <td>0.0</td>\n",
       "      <td>1.0</td>\n",
       "      <td>0.0</td>\n",
       "      <td>0.0</td>\n",
       "      <td>0.0</td>\n",
       "    </tr>\n",
       "  </tbody>\n",
       "</table>\n",
       "<p>5 rows × 22 columns</p>\n",
       "</div>"
      ],
      "text/plain": [
       "      stay_id  admission_age  gender_F  gender_M  \\\n",
       "0  37510196.0      77.018295       1.0       0.0   \n",
       "1  33685456.0      81.592178       1.0       0.0   \n",
       "2  31090460.0      82.729469       1.0       0.0   \n",
       "3  32610784.0      77.917015       1.0       0.0   \n",
       "5  35479616.0      81.359695       1.0       0.0   \n",
       "\n",
       "   race_AMERICAN INDIAN/ALASKA NATIVE  race_ASIAN  race_BLACK  \\\n",
       "0                                 0.0         0.0         1.0   \n",
       "1                                 0.0         0.0         0.0   \n",
       "2                                 0.0         0.0         0.0   \n",
       "3                                 0.0         0.0         0.0   \n",
       "5                                 0.0         0.0         0.0   \n",
       "\n",
       "   race_HISPANIC/LATINO  race_MULTIPLE RACE/ETHNICITY  \\\n",
       "0                   0.0                           0.0   \n",
       "1                   0.0                           0.0   \n",
       "2                   0.0                           0.0   \n",
       "3                   0.0                           0.0   \n",
       "5                   0.0                           0.0   \n",
       "\n",
       "   race_NATIVE HAWAIIAN OR OTHER PACIFIC ISLANDER  ...  race_UNKNOWN  \\\n",
       "0                                             0.0  ...           0.0   \n",
       "1                                             0.0  ...           0.0   \n",
       "2                                             0.0  ...           0.0   \n",
       "3                                             0.0  ...           0.0   \n",
       "5                                             0.0  ...           0.0   \n",
       "\n",
       "   race_WHITE  admission_type_DIRECT EMER.  admission_type_DIRECT OBSERVATION  \\\n",
       "0         0.0                          0.0                                0.0   \n",
       "1         1.0                          0.0                                0.0   \n",
       "2         1.0                          0.0                                0.0   \n",
       "3         1.0                          0.0                                0.0   \n",
       "5         1.0                          0.0                                0.0   \n",
       "\n",
       "   admission_type_ELECTIVE  admission_type_EU OBSERVATION  \\\n",
       "0                      0.0                            0.0   \n",
       "1                      0.0                            0.0   \n",
       "2                      0.0                            0.0   \n",
       "3                      0.0                            0.0   \n",
       "5                      0.0                            0.0   \n",
       "\n",
       "   admission_type_EW EMER.  admission_type_OBSERVATION ADMIT  \\\n",
       "0                      0.0                               1.0   \n",
       "1                      1.0                               0.0   \n",
       "2                      1.0                               0.0   \n",
       "3                      0.0                               1.0   \n",
       "5                      1.0                               0.0   \n",
       "\n",
       "   admission_type_SURGICAL SAME DAY ADMISSION  admission_type_URGENT  \n",
       "0                                         0.0                    0.0  \n",
       "1                                         0.0                    0.0  \n",
       "2                                         0.0                    0.0  \n",
       "3                                         0.0                    0.0  \n",
       "5                                         0.0                    0.0  \n",
       "\n",
       "[5 rows x 22 columns]"
      ]
     },
     "execution_count": 65,
     "metadata": {},
     "output_type": "execute_result"
    }
   ],
   "source": [
    "details.head()"
   ]
  },
  {
   "cell_type": "code",
   "execution_count": 66,
   "metadata": {},
   "outputs": [],
   "source": [
    "data = pd.merge(data, details, how='left', on='stay_id')"
   ]
  },
  {
   "cell_type": "code",
   "execution_count": 67,
   "metadata": {},
   "outputs": [
    {
     "data": {
      "text/plain": [
       "Index(['charttime', 'stay_id', 'heartrate', 'sysbp', 'diasbp', 'meanbp',\n",
       "       'resprate', 'tempc', 'spo2', 'aniongap', 'bicarbonate', 'chloride',\n",
       "       'hematocrit', 'hemoglobin', 'platelet', 'potassium', 'ptt', 'inr', 'pt',\n",
       "       'sodium', 'bun', 'wbc', 'glucose', 'creatinine', 'uo_rt_6hr',\n",
       "       'uo_rt_12hr', 'uo_rt_24hr', 'aki_stage', 'ventilation', 'vasopressor',\n",
       "       'rrt', 'sedative', 'admission_age', 'gender_F', 'gender_M',\n",
       "       'race_AMERICAN INDIAN/ALASKA NATIVE', 'race_ASIAN', 'race_BLACK',\n",
       "       'race_HISPANIC/LATINO', 'race_MULTIPLE RACE/ETHNICITY',\n",
       "       'race_NATIVE HAWAIIAN OR OTHER PACIFIC ISLANDER', 'race_PORTUGUESE',\n",
       "       'race_SOUTH AMERICAN', 'race_UNKNOWN', 'race_WHITE',\n",
       "       'admission_type_DIRECT EMER.', 'admission_type_DIRECT OBSERVATION',\n",
       "       'admission_type_ELECTIVE', 'admission_type_EU OBSERVATION',\n",
       "       'admission_type_EW EMER.', 'admission_type_OBSERVATION ADMIT',\n",
       "       'admission_type_SURGICAL SAME DAY ADMISSION', 'admission_type_URGENT'],\n",
       "      dtype='object')"
      ]
     },
     "execution_count": 67,
     "metadata": {},
     "output_type": "execute_result"
    }
   ],
   "source": [
    "data.columns"
   ]
  },
  {
   "cell_type": "code",
   "execution_count": 48,
   "metadata": {},
   "outputs": [
    {
     "data": {
      "text/plain": [
       "Index(['charttime', 'stay_id', 'heartrate', 'sysbp', 'diasbp', 'meanbp',\n",
       "       'resprate', 'tempc', 'spo2', 'aniongap', 'bicarbonate', 'chloride',\n",
       "       'hematocrit', 'hemoglobin', 'platelet', 'potassium', 'ptt', 'inr', 'pt',\n",
       "       'sodium', 'bun', 'wbc', 'glucose', 'creatinine', 'uo_rt_6hr',\n",
       "       'uo_rt_12hr', 'uo_rt_24hr', 'aki_stage', 'ventilation', 'vasopressor',\n",
       "       'rrt', 'sedative', 'admission_age', 'gender_F', 'gender_M',\n",
       "       'race_AMERICAN INDIAN/ALASKA NATIVE', 'race_ASIAN', 'race_BLACK',\n",
       "       'race_HISPANIC/LATINO', 'race_MULTIPLE RACE/ETHNICITY',\n",
       "       'race_NATIVE HAWAIIAN OR OTHER PACIFIC ISLANDER', 'race_PORTUGUESE',\n",
       "       'race_SOUTH AMERICAN', 'race_UNKNOWN', 'race_WHITE',\n",
       "       'admission_type_DIRECT EMER.', 'admission_type_DIRECT OBSERVATION',\n",
       "       'admission_type_ELECTIVE', 'admission_type_EW EMER.',\n",
       "       'admission_type_OBSERVATION ADMIT',\n",
       "       'admission_type_SURGICAL SAME DAY ADMISSION', 'admission_type_URGENT'],\n",
       "      dtype='object')"
      ]
     },
     "execution_count": 48,
     "metadata": {},
     "output_type": "execute_result"
    }
   ],
   "source": [
    "data.columns"
   ]
  },
  {
   "cell_type": "code",
   "execution_count": 70,
   "metadata": {},
   "outputs": [
    {
     "data": {
      "text/plain": [
       "4"
      ]
     },
     "execution_count": 70,
     "metadata": {},
     "output_type": "execute_result"
    }
   ],
   "source": [
    "aki = data.aki_stage.unique().tolist()\n",
    "len(aki)"
   ]
  },
  {
   "cell_type": "code",
   "execution_count": 75,
   "metadata": {},
   "outputs": [],
   "source": [
    "data.to_csv(OUTPUT_FILENAME, sep='\\t', index=False)"
   ]
  },
  {
   "cell_type": "code",
   "execution_count": 76,
   "metadata": {},
   "outputs": [],
   "source": [
    "cur.close()\n",
    "con.close()"
   ]
  },
  {
   "cell_type": "code",
   "execution_count": null,
   "metadata": {},
   "outputs": [],
   "source": []
  }
 ],
 "metadata": {
  "kernelspec": {
   "display_name": "Python 3",
   "language": "python",
   "name": "python3"
  },
  "language_info": {
   "codemirror_mode": {
    "name": "ipython",
    "version": 3
   },
   "file_extension": ".py",
   "mimetype": "text/x-python",
   "name": "python",
   "nbconvert_exporter": "python",
   "pygments_lexer": "ipython3",
   "version": "3.6.13"
  }
 },
 "nbformat": 4,
 "nbformat_minor": 4
}
