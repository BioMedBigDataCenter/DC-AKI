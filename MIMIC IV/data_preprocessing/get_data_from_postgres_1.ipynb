{
 "cells": [
  {
   "cell_type": "code",
   "execution_count": 5,
   "metadata": {},
   "outputs": [],
   "source": [
    "import pandas as pd\n",
    "import numpy as np\n",
    "import psycopg2\n",
    "import getpass\n",
    "import gc\n",
    "from tqdm import tqdm"
   ]
  },
  {
   "cell_type": "code",
   "execution_count": 6,
   "metadata": {},
   "outputs": [],
   "source": [
    "user = 'postgres'\n",
    "host = '10.10.116.166'\n",
    "#127.0.0.1\n",
    "#host = '127.0.0.1'\n",
    "port = 8088\n",
    "dbname = 'mimiciv'\n",
    "schema = 'public, mimiciv_derived, mimiciv_hosp, mimiciv_icu'"
   ]
  },
  {
   "cell_type": "code",
   "execution_count": 8,
   "metadata": {},
   "outputs": [
    {
     "name": "stdout",
     "output_type": "stream",
     "text": [
      "········\n"
     ]
    }
   ],
   "source": [
    "# 连接本地数据库\n",
    "con = psycopg2.connect(user=user, host=host, port=port,\n",
    "                      dbname=dbname, password=getpass.getpass())\n",
    "cur = con.cursor()\n"
   ]
  },
  {
   "cell_type": "code",
   "execution_count": 9,
   "metadata": {},
   "outputs": [],
   "source": [
    "OUTPUT_FILENAME = './data_seq_ori.tsv'\n",
    "VITALS = 'select * from vital_all_icu_0721'\n",
    "LABS = 'select * from labs_all_icu_mean_0721'\n",
    "KDIGO_STAGES = 'select * from kdigo_stages_0721'"
   ]
  },
  {
   "cell_type": "markdown",
   "metadata": {},
   "source": [
    "# vitals"
   ]
  },
  {
   "cell_type": "code",
   "execution_count": 10,
   "metadata": {},
   "outputs": [],
   "source": [
    "vitals = pd.read_sql_query(VITALS, con)"
   ]
  },
  {
   "cell_type": "code",
   "execution_count": 11,
   "metadata": {},
   "outputs": [
    {
     "data": {
      "text/html": [
       "<div>\n",
       "<style scoped>\n",
       "    .dataframe tbody tr th:only-of-type {\n",
       "        vertical-align: middle;\n",
       "    }\n",
       "\n",
       "    .dataframe tbody tr th {\n",
       "        vertical-align: top;\n",
       "    }\n",
       "\n",
       "    .dataframe thead th {\n",
       "        text-align: right;\n",
       "    }\n",
       "</style>\n",
       "<table border=\"1\" class=\"dataframe\">\n",
       "  <thead>\n",
       "    <tr style=\"text-align: right;\">\n",
       "      <th></th>\n",
       "      <th>hadm_id</th>\n",
       "      <th>stay_id</th>\n",
       "      <th>charttime</th>\n",
       "      <th>heartrate_mean</th>\n",
       "      <th>sysbp_mean</th>\n",
       "      <th>diasbp_mean</th>\n",
       "      <th>meanbp_mean</th>\n",
       "      <th>resprate_mean</th>\n",
       "      <th>tempc_mean</th>\n",
       "      <th>spo2_mean</th>\n",
       "      <th>glucose_mean</th>\n",
       "    </tr>\n",
       "  </thead>\n",
       "  <tbody>\n",
       "    <tr>\n",
       "      <th>0</th>\n",
       "      <td>26184834</td>\n",
       "      <td>37510196</td>\n",
       "      <td>2131-01-11 04:22:00</td>\n",
       "      <td>38.0</td>\n",
       "      <td>NaN</td>\n",
       "      <td>NaN</td>\n",
       "      <td>NaN</td>\n",
       "      <td>NaN</td>\n",
       "      <td>NaN</td>\n",
       "      <td>NaN</td>\n",
       "      <td>NaN</td>\n",
       "    </tr>\n",
       "    <tr>\n",
       "      <th>1</th>\n",
       "      <td>26184834</td>\n",
       "      <td>37510196</td>\n",
       "      <td>2131-01-11 04:25:00</td>\n",
       "      <td>NaN</td>\n",
       "      <td>180.0</td>\n",
       "      <td>12.0</td>\n",
       "      <td>46.0</td>\n",
       "      <td>NaN</td>\n",
       "      <td>NaN</td>\n",
       "      <td>NaN</td>\n",
       "      <td>NaN</td>\n",
       "    </tr>\n",
       "    <tr>\n",
       "      <th>2</th>\n",
       "      <td>26184834</td>\n",
       "      <td>37510196</td>\n",
       "      <td>2131-01-11 05:00:00</td>\n",
       "      <td>60.0</td>\n",
       "      <td>NaN</td>\n",
       "      <td>NaN</td>\n",
       "      <td>NaN</td>\n",
       "      <td>10.0</td>\n",
       "      <td>NaN</td>\n",
       "      <td>98.0</td>\n",
       "      <td>NaN</td>\n",
       "    </tr>\n",
       "    <tr>\n",
       "      <th>3</th>\n",
       "      <td>26184834</td>\n",
       "      <td>37510196</td>\n",
       "      <td>2131-01-11 05:01:00</td>\n",
       "      <td>NaN</td>\n",
       "      <td>167.0</td>\n",
       "      <td>49.0</td>\n",
       "      <td>70.0</td>\n",
       "      <td>NaN</td>\n",
       "      <td>NaN</td>\n",
       "      <td>NaN</td>\n",
       "      <td>NaN</td>\n",
       "    </tr>\n",
       "    <tr>\n",
       "      <th>4</th>\n",
       "      <td>26184834</td>\n",
       "      <td>37510196</td>\n",
       "      <td>2131-01-11 06:00:00</td>\n",
       "      <td>72.0</td>\n",
       "      <td>NaN</td>\n",
       "      <td>NaN</td>\n",
       "      <td>NaN</td>\n",
       "      <td>20.0</td>\n",
       "      <td>NaN</td>\n",
       "      <td>100.0</td>\n",
       "      <td>NaN</td>\n",
       "    </tr>\n",
       "  </tbody>\n",
       "</table>\n",
       "</div>"
      ],
      "text/plain": [
       "    hadm_id   stay_id           charttime  heartrate_mean  sysbp_mean  \\\n",
       "0  26184834  37510196 2131-01-11 04:22:00            38.0         NaN   \n",
       "1  26184834  37510196 2131-01-11 04:25:00             NaN       180.0   \n",
       "2  26184834  37510196 2131-01-11 05:00:00            60.0         NaN   \n",
       "3  26184834  37510196 2131-01-11 05:01:00             NaN       167.0   \n",
       "4  26184834  37510196 2131-01-11 06:00:00            72.0         NaN   \n",
       "\n",
       "   diasbp_mean  meanbp_mean  resprate_mean  tempc_mean  spo2_mean  \\\n",
       "0          NaN          NaN            NaN         NaN        NaN   \n",
       "1         12.0         46.0            NaN         NaN        NaN   \n",
       "2          NaN          NaN           10.0         NaN       98.0   \n",
       "3         49.0         70.0            NaN         NaN        NaN   \n",
       "4          NaN          NaN           20.0         NaN      100.0   \n",
       "\n",
       "   glucose_mean  \n",
       "0           NaN  \n",
       "1           NaN  \n",
       "2           NaN  \n",
       "3           NaN  \n",
       "4           NaN  "
      ]
     },
     "execution_count": 11,
     "metadata": {},
     "output_type": "execute_result"
    }
   ],
   "source": [
    "vitals.drop(['subject_id'], axis=1, inplace=True)\n",
    "vitals.head()"
   ]
  },
  {
   "cell_type": "code",
   "execution_count": 12,
   "metadata": {
    "scrolled": true
   },
   "outputs": [
    {
     "data": {
      "text/plain": [
       "((6443813, 11),\n",
       " hadm_id                    int64\n",
       " stay_id                    int64\n",
       " charttime         datetime64[ns]\n",
       " heartrate_mean           float64\n",
       " sysbp_mean               float64\n",
       " diasbp_mean              float64\n",
       " meanbp_mean              float64\n",
       " resprate_mean            float64\n",
       " tempc_mean               float64\n",
       " spo2_mean                float64\n",
       " glucose_mean             float64\n",
       " dtype: object)"
      ]
     },
     "execution_count": 12,
     "metadata": {},
     "output_type": "execute_result"
    }
   ],
   "source": [
    "vitals.shape, vitals.dtypes"
   ]
  },
  {
   "cell_type": "code",
   "execution_count": 13,
   "metadata": {},
   "outputs": [
    {
     "data": {
      "text/plain": [
       "(27499, 28658)"
      ]
     },
     "execution_count": 13,
     "metadata": {},
     "output_type": "execute_result"
    }
   ],
   "source": [
    "vitals.hadm_id.nunique(), vitals.stay_id.nunique()"
   ]
  },
  {
   "cell_type": "code",
   "execution_count": 14,
   "metadata": {},
   "outputs": [],
   "source": [
    "vitals.columns = ['hadm_id', 'stay_id', 'charttime', 'heartrate', 'sysbp', 'diasbp', 'meanbp', 'resprate', 'tempc', 'spo2', 'glucose']\n",
    "vitals.dropna(subset=vitals.columns[3:], how='all', inplace=True)\n",
    "vitals.sort_values(['stay_id', 'charttime'], inplace=True, ascending=True)"
   ]
  },
  {
   "cell_type": "code",
   "execution_count": 15,
   "metadata": {},
   "outputs": [
    {
     "data": {
      "text/plain": [
       "((6439069, 11),\n",
       " hadm_id      False\n",
       " stay_id      False\n",
       " charttime    False\n",
       " heartrate     True\n",
       " sysbp         True\n",
       " diasbp        True\n",
       " meanbp        True\n",
       " resprate      True\n",
       " tempc         True\n",
       " spo2          True\n",
       " glucose       True\n",
       " dtype: bool)"
      ]
     },
     "execution_count": 15,
     "metadata": {},
     "output_type": "execute_result"
    }
   ],
   "source": [
    "vitals.shape, pd.isna(vitals).any()"
   ]
  },
  {
   "cell_type": "code",
   "execution_count": 16,
   "metadata": {},
   "outputs": [
    {
     "data": {
      "text/plain": [
       "(27499, 28658)"
      ]
     },
     "execution_count": 16,
     "metadata": {},
     "output_type": "execute_result"
    }
   ],
   "source": [
    "vitals.hadm_id.nunique(), vitals.stay_id.nunique()"
   ]
  },
  {
   "cell_type": "markdown",
   "metadata": {},
   "source": [
    "# labs"
   ]
  },
  {
   "cell_type": "code",
   "execution_count": 17,
   "metadata": {},
   "outputs": [],
   "source": [
    "labs = pd.read_sql_query(LABS, con)"
   ]
  },
  {
   "cell_type": "code",
   "execution_count": 18,
   "metadata": {},
   "outputs": [
    {
     "data": {
      "text/html": [
       "<div>\n",
       "<style scoped>\n",
       "    .dataframe tbody tr th:only-of-type {\n",
       "        vertical-align: middle;\n",
       "    }\n",
       "\n",
       "    .dataframe tbody tr th {\n",
       "        vertical-align: top;\n",
       "    }\n",
       "\n",
       "    .dataframe thead th {\n",
       "        text-align: right;\n",
       "    }\n",
       "</style>\n",
       "<table border=\"1\" class=\"dataframe\">\n",
       "  <thead>\n",
       "    <tr style=\"text-align: right;\">\n",
       "      <th></th>\n",
       "      <th>hadm_id</th>\n",
       "      <th>stay_id</th>\n",
       "      <th>charttime</th>\n",
       "      <th>aniongap_mean</th>\n",
       "      <th>albumin_mean</th>\n",
       "      <th>bands_mean</th>\n",
       "      <th>bicarbonate_mean</th>\n",
       "      <th>bilirubin_mean</th>\n",
       "      <th>creatinine_mean</th>\n",
       "      <th>chloride_mean</th>\n",
       "      <th>...</th>\n",
       "      <th>hemoglobin_mean</th>\n",
       "      <th>lactate_mean</th>\n",
       "      <th>platelet_mean</th>\n",
       "      <th>potassium_mean</th>\n",
       "      <th>ptt_mean</th>\n",
       "      <th>inr_mean</th>\n",
       "      <th>pt_mean</th>\n",
       "      <th>sodium_mean</th>\n",
       "      <th>bun_mean</th>\n",
       "      <th>wbc_mean</th>\n",
       "    </tr>\n",
       "  </thead>\n",
       "  <tbody>\n",
       "    <tr>\n",
       "      <th>0</th>\n",
       "      <td>26184834</td>\n",
       "      <td>37510196</td>\n",
       "      <td>2131-01-11 06:31:00</td>\n",
       "      <td>11.0</td>\n",
       "      <td>3.5</td>\n",
       "      <td>1.0</td>\n",
       "      <td>33.0</td>\n",
       "      <td>0.4</td>\n",
       "      <td>1.1</td>\n",
       "      <td>96.0</td>\n",
       "      <td>...</td>\n",
       "      <td>11.4</td>\n",
       "      <td>NaN</td>\n",
       "      <td>171.0</td>\n",
       "      <td>4.0</td>\n",
       "      <td>21.3</td>\n",
       "      <td>1.4</td>\n",
       "      <td>15.3</td>\n",
       "      <td>136.0</td>\n",
       "      <td>30.0</td>\n",
       "      <td>18.4</td>\n",
       "    </tr>\n",
       "    <tr>\n",
       "      <th>1</th>\n",
       "      <td>26184834</td>\n",
       "      <td>37510196</td>\n",
       "      <td>2131-01-11 06:37:00</td>\n",
       "      <td>NaN</td>\n",
       "      <td>NaN</td>\n",
       "      <td>NaN</td>\n",
       "      <td>NaN</td>\n",
       "      <td>NaN</td>\n",
       "      <td>NaN</td>\n",
       "      <td>90.0</td>\n",
       "      <td>...</td>\n",
       "      <td>12.1</td>\n",
       "      <td>1.5</td>\n",
       "      <td>NaN</td>\n",
       "      <td>3.9</td>\n",
       "      <td>NaN</td>\n",
       "      <td>NaN</td>\n",
       "      <td>NaN</td>\n",
       "      <td>134.0</td>\n",
       "      <td>NaN</td>\n",
       "      <td>NaN</td>\n",
       "    </tr>\n",
       "    <tr>\n",
       "      <th>2</th>\n",
       "      <td>26184834</td>\n",
       "      <td>37510196</td>\n",
       "      <td>2131-01-11 11:33:00</td>\n",
       "      <td>NaN</td>\n",
       "      <td>NaN</td>\n",
       "      <td>NaN</td>\n",
       "      <td>NaN</td>\n",
       "      <td>NaN</td>\n",
       "      <td>NaN</td>\n",
       "      <td>NaN</td>\n",
       "      <td>...</td>\n",
       "      <td>NaN</td>\n",
       "      <td>1.1</td>\n",
       "      <td>NaN</td>\n",
       "      <td>NaN</td>\n",
       "      <td>NaN</td>\n",
       "      <td>NaN</td>\n",
       "      <td>NaN</td>\n",
       "      <td>NaN</td>\n",
       "      <td>NaN</td>\n",
       "      <td>NaN</td>\n",
       "    </tr>\n",
       "    <tr>\n",
       "      <th>3</th>\n",
       "      <td>26184834</td>\n",
       "      <td>37510196</td>\n",
       "      <td>2131-01-11 16:06:00</td>\n",
       "      <td>NaN</td>\n",
       "      <td>NaN</td>\n",
       "      <td>NaN</td>\n",
       "      <td>NaN</td>\n",
       "      <td>NaN</td>\n",
       "      <td>NaN</td>\n",
       "      <td>NaN</td>\n",
       "      <td>...</td>\n",
       "      <td>NaN</td>\n",
       "      <td>NaN</td>\n",
       "      <td>NaN</td>\n",
       "      <td>NaN</td>\n",
       "      <td>106.5</td>\n",
       "      <td>NaN</td>\n",
       "      <td>NaN</td>\n",
       "      <td>NaN</td>\n",
       "      <td>NaN</td>\n",
       "      <td>NaN</td>\n",
       "    </tr>\n",
       "    <tr>\n",
       "      <th>4</th>\n",
       "      <td>26184834</td>\n",
       "      <td>37510196</td>\n",
       "      <td>2131-01-11 22:00:00</td>\n",
       "      <td>NaN</td>\n",
       "      <td>NaN</td>\n",
       "      <td>NaN</td>\n",
       "      <td>NaN</td>\n",
       "      <td>NaN</td>\n",
       "      <td>NaN</td>\n",
       "      <td>NaN</td>\n",
       "      <td>...</td>\n",
       "      <td>NaN</td>\n",
       "      <td>NaN</td>\n",
       "      <td>NaN</td>\n",
       "      <td>NaN</td>\n",
       "      <td>36.5</td>\n",
       "      <td>NaN</td>\n",
       "      <td>NaN</td>\n",
       "      <td>NaN</td>\n",
       "      <td>NaN</td>\n",
       "      <td>NaN</td>\n",
       "    </tr>\n",
       "  </tbody>\n",
       "</table>\n",
       "<p>5 rows × 22 columns</p>\n",
       "</div>"
      ],
      "text/plain": [
       "    hadm_id   stay_id           charttime  aniongap_mean  albumin_mean  \\\n",
       "0  26184834  37510196 2131-01-11 06:31:00           11.0           3.5   \n",
       "1  26184834  37510196 2131-01-11 06:37:00            NaN           NaN   \n",
       "2  26184834  37510196 2131-01-11 11:33:00            NaN           NaN   \n",
       "3  26184834  37510196 2131-01-11 16:06:00            NaN           NaN   \n",
       "4  26184834  37510196 2131-01-11 22:00:00            NaN           NaN   \n",
       "\n",
       "   bands_mean  bicarbonate_mean  bilirubin_mean  creatinine_mean  \\\n",
       "0         1.0              33.0             0.4              1.1   \n",
       "1         NaN               NaN             NaN              NaN   \n",
       "2         NaN               NaN             NaN              NaN   \n",
       "3         NaN               NaN             NaN              NaN   \n",
       "4         NaN               NaN             NaN              NaN   \n",
       "\n",
       "   chloride_mean  ...  hemoglobin_mean  lactate_mean  platelet_mean  \\\n",
       "0           96.0  ...             11.4           NaN          171.0   \n",
       "1           90.0  ...             12.1           1.5            NaN   \n",
       "2            NaN  ...              NaN           1.1            NaN   \n",
       "3            NaN  ...              NaN           NaN            NaN   \n",
       "4            NaN  ...              NaN           NaN            NaN   \n",
       "\n",
       "   potassium_mean  ptt_mean  inr_mean  pt_mean  sodium_mean  bun_mean  \\\n",
       "0             4.0      21.3       1.4     15.3        136.0      30.0   \n",
       "1             3.9       NaN       NaN      NaN        134.0       NaN   \n",
       "2             NaN       NaN       NaN      NaN          NaN       NaN   \n",
       "3             NaN     106.5       NaN      NaN          NaN       NaN   \n",
       "4             NaN      36.5       NaN      NaN          NaN       NaN   \n",
       "\n",
       "   wbc_mean  \n",
       "0      18.4  \n",
       "1       NaN  \n",
       "2       NaN  \n",
       "3       NaN  \n",
       "4       NaN  \n",
       "\n",
       "[5 rows x 22 columns]"
      ]
     },
     "execution_count": 18,
     "metadata": {},
     "output_type": "execute_result"
    }
   ],
   "source": [
    "labs.drop(['subject_id'], axis=1, inplace=True)\n",
    "labs.head()"
   ]
  },
  {
   "cell_type": "code",
   "execution_count": 19,
   "metadata": {},
   "outputs": [
    {
     "data": {
      "text/plain": [
       "((594731, 22),\n",
       " hadm_id                      int64\n",
       " stay_id                      int64\n",
       " charttime           datetime64[ns]\n",
       " aniongap_mean              float64\n",
       " albumin_mean               float64\n",
       " bands_mean                 float64\n",
       " bicarbonate_mean           float64\n",
       " bilirubin_mean             float64\n",
       " creatinine_mean            float64\n",
       " chloride_mean              float64\n",
       " glucose_mean               float64\n",
       " hematocrit_mean            float64\n",
       " hemoglobin_mean            float64\n",
       " lactate_mean               float64\n",
       " platelet_mean              float64\n",
       " potassium_mean             float64\n",
       " ptt_mean                   float64\n",
       " inr_mean                   float64\n",
       " pt_mean                    float64\n",
       " sodium_mean                float64\n",
       " bun_mean                   float64\n",
       " wbc_mean                   float64\n",
       " dtype: object)"
      ]
     },
     "execution_count": 19,
     "metadata": {},
     "output_type": "execute_result"
    }
   ],
   "source": [
    "labs.shape, labs.dtypes"
   ]
  },
  {
   "cell_type": "code",
   "execution_count": 20,
   "metadata": {},
   "outputs": [
    {
     "data": {
      "text/plain": [
       "(27499, 28658)"
      ]
     },
     "execution_count": 20,
     "metadata": {},
     "output_type": "execute_result"
    }
   ],
   "source": [
    "labs.hadm_id.nunique(), labs.stay_id.nunique()"
   ]
  },
  {
   "cell_type": "code",
   "execution_count": 21,
   "metadata": {},
   "outputs": [],
   "source": [
    "labs.columns = ['hadm_id', 'stay_id', 'charttime', 'aniongap', 'albumin', 'bands', 'bicarbonate', \n",
    "                'bilirubin', 'creatinine', 'chloride', 'glucose', 'hematocrit', 'hemoglobin', 'lactate', \n",
    "                'platelet', 'potassium', 'ptt', 'inr', 'pt', 'sodium', 'bun', 'wbc']\n",
    "labs.dropna(subset=labs.columns[3:], how='all', inplace=True)\n",
    "labs.sort_values(['stay_id', 'charttime'], inplace=True, ascending=True)"
   ]
  },
  {
   "cell_type": "code",
   "execution_count": 22,
   "metadata": {},
   "outputs": [
    {
     "data": {
      "text/plain": [
       "((594662, 22),\n",
       " hadm_id        False\n",
       " stay_id        False\n",
       " charttime      False\n",
       " aniongap        True\n",
       " albumin         True\n",
       " bands           True\n",
       " bicarbonate     True\n",
       " bilirubin       True\n",
       " creatinine      True\n",
       " chloride        True\n",
       " glucose         True\n",
       " hematocrit      True\n",
       " hemoglobin      True\n",
       " lactate         True\n",
       " platelet        True\n",
       " potassium       True\n",
       " ptt             True\n",
       " inr             True\n",
       " pt              True\n",
       " sodium          True\n",
       " bun             True\n",
       " wbc             True\n",
       " dtype: bool)"
      ]
     },
     "execution_count": 22,
     "metadata": {},
     "output_type": "execute_result"
    }
   ],
   "source": [
    "labs.shape, pd.isna(labs).any()"
   ]
  },
  {
   "cell_type": "code",
   "execution_count": 23,
   "metadata": {},
   "outputs": [
    {
     "data": {
      "text/plain": [
       "(27439, 28590)"
      ]
     },
     "execution_count": 23,
     "metadata": {},
     "output_type": "execute_result"
    }
   ],
   "source": [
    "labs.hadm_id.nunique(), labs.stay_id.nunique()"
   ]
  },
  {
   "cell_type": "markdown",
   "metadata": {},
   "source": [
    "# kdigo stages"
   ]
  },
  {
   "cell_type": "code",
   "execution_count": 24,
   "metadata": {},
   "outputs": [],
   "source": [
    "kdigo_stages = pd.read_sql_query(KDIGO_STAGES, con)"
   ]
  },
  {
   "cell_type": "code",
   "execution_count": 25,
   "metadata": {
    "scrolled": true
   },
   "outputs": [
    {
     "data": {
      "text/html": [
       "<div>\n",
       "<style scoped>\n",
       "    .dataframe tbody tr th:only-of-type {\n",
       "        vertical-align: middle;\n",
       "    }\n",
       "\n",
       "    .dataframe tbody tr th {\n",
       "        vertical-align: top;\n",
       "    }\n",
       "\n",
       "    .dataframe thead th {\n",
       "        text-align: right;\n",
       "    }\n",
       "</style>\n",
       "<table border=\"1\" class=\"dataframe\">\n",
       "  <thead>\n",
       "    <tr style=\"text-align: right;\">\n",
       "      <th></th>\n",
       "      <th>hadm_id</th>\n",
       "      <th>stay_id</th>\n",
       "      <th>charttime</th>\n",
       "      <th>creat</th>\n",
       "      <th>uo_rt_6hr</th>\n",
       "      <th>uo_rt_12hr</th>\n",
       "      <th>uo_rt_24hr</th>\n",
       "      <th>aki_stage</th>\n",
       "    </tr>\n",
       "  </thead>\n",
       "  <tbody>\n",
       "    <tr>\n",
       "      <th>0</th>\n",
       "      <td>20007905</td>\n",
       "      <td>34104518</td>\n",
       "      <td>2189-08-01 18:20:00</td>\n",
       "      <td>NaN</td>\n",
       "      <td>1.6216</td>\n",
       "      <td>1.0628</td>\n",
       "      <td>0.9226</td>\n",
       "      <td>0</td>\n",
       "    </tr>\n",
       "    <tr>\n",
       "      <th>1</th>\n",
       "      <td>20007905</td>\n",
       "      <td>34104518</td>\n",
       "      <td>2189-08-01 16:00:00</td>\n",
       "      <td>NaN</td>\n",
       "      <td>1.3023</td>\n",
       "      <td>0.8424</td>\n",
       "      <td>0.7597</td>\n",
       "      <td>0</td>\n",
       "    </tr>\n",
       "    <tr>\n",
       "      <th>2</th>\n",
       "      <td>20007905</td>\n",
       "      <td>34104518</td>\n",
       "      <td>2189-08-01 08:21:00</td>\n",
       "      <td>NaN</td>\n",
       "      <td>0.4662</td>\n",
       "      <td>0.5204</td>\n",
       "      <td>0.4544</td>\n",
       "      <td>1</td>\n",
       "    </tr>\n",
       "    <tr>\n",
       "      <th>3</th>\n",
       "      <td>20007905</td>\n",
       "      <td>34104518</td>\n",
       "      <td>2189-08-01 05:21:00</td>\n",
       "      <td>1.1</td>\n",
       "      <td>NaN</td>\n",
       "      <td>NaN</td>\n",
       "      <td>NaN</td>\n",
       "      <td>0</td>\n",
       "    </tr>\n",
       "    <tr>\n",
       "      <th>4</th>\n",
       "      <td>20007905</td>\n",
       "      <td>34104518</td>\n",
       "      <td>2189-07-31 23:00:00</td>\n",
       "      <td>NaN</td>\n",
       "      <td>0.5837</td>\n",
       "      <td>0.4475</td>\n",
       "      <td>0.5895</td>\n",
       "      <td>2</td>\n",
       "    </tr>\n",
       "  </tbody>\n",
       "</table>\n",
       "</div>"
      ],
      "text/plain": [
       "    hadm_id   stay_id           charttime  creat  uo_rt_6hr  uo_rt_12hr  \\\n",
       "0  20007905  34104518 2189-08-01 18:20:00    NaN     1.6216      1.0628   \n",
       "1  20007905  34104518 2189-08-01 16:00:00    NaN     1.3023      0.8424   \n",
       "2  20007905  34104518 2189-08-01 08:21:00    NaN     0.4662      0.5204   \n",
       "3  20007905  34104518 2189-08-01 05:21:00    1.1        NaN         NaN   \n",
       "4  20007905  34104518 2189-07-31 23:00:00    NaN     0.5837      0.4475   \n",
       "\n",
       "   uo_rt_24hr  aki_stage  \n",
       "0      0.9226          0  \n",
       "1      0.7597          0  \n",
       "2      0.4544          1  \n",
       "3         NaN          0  \n",
       "4      0.5895          2  "
      ]
     },
     "execution_count": 25,
     "metadata": {},
     "output_type": "execute_result"
    }
   ],
   "source": [
    "kdigo_stages.drop(['subject_id', 'icu_intime', 'icu_outtime'], axis=1, inplace=True)\n",
    "kdigo_stages.head()"
   ]
  },
  {
   "cell_type": "code",
   "execution_count": 26,
   "metadata": {},
   "outputs": [
    {
     "data": {
      "text/plain": [
       "((2669937, 8),\n",
       " hadm_id                int64\n",
       " stay_id                int64\n",
       " charttime     datetime64[ns]\n",
       " creat                float64\n",
       " uo_rt_6hr            float64\n",
       " uo_rt_12hr           float64\n",
       " uo_rt_24hr           float64\n",
       " aki_stage              int64\n",
       " dtype: object)"
      ]
     },
     "execution_count": 26,
     "metadata": {},
     "output_type": "execute_result"
    }
   ],
   "source": [
    "kdigo_stages.shape, kdigo_stages.dtypes"
   ]
  },
  {
   "cell_type": "code",
   "execution_count": 27,
   "metadata": {},
   "outputs": [],
   "source": [
    "kdigo_stages.dropna(subset=kdigo_stages.columns[3:], how='all', inplace=True)"
   ]
  },
  {
   "cell_type": "code",
   "execution_count": 28,
   "metadata": {},
   "outputs": [
    {
     "data": {
      "text/plain": [
       "((2669937, 8),\n",
       " hadm_id       False\n",
       " stay_id       False\n",
       " charttime     False\n",
       " creat          True\n",
       " uo_rt_6hr      True\n",
       " uo_rt_12hr     True\n",
       " uo_rt_24hr     True\n",
       " aki_stage     False\n",
       " dtype: bool)"
      ]
     },
     "execution_count": 28,
     "metadata": {},
     "output_type": "execute_result"
    }
   ],
   "source": [
    "kdigo_stages.shape, pd.isna(kdigo_stages).any()"
   ]
  },
  {
   "cell_type": "code",
   "execution_count": 29,
   "metadata": {},
   "outputs": [
    {
     "data": {
      "text/plain": [
       "(27499, 28658)"
      ]
     },
     "execution_count": 29,
     "metadata": {},
     "output_type": "execute_result"
    }
   ],
   "source": [
    "kdigo_stages.hadm_id.nunique(), kdigo_stages.stay_id.nunique()"
   ]
  },
  {
   "cell_type": "markdown",
   "metadata": {},
   "source": [
    "# merge glucose in vitals and labs, scr in kdigo_stages and labs"
   ]
  },
  {
   "cell_type": "code",
   "execution_count": 30,
   "metadata": {},
   "outputs": [],
   "source": [
    "glucose = vitals[['hadm_id', 'stay_id', 'charttime', 'glucose']].copy()\n",
    "glucose.dropna(subset=['glucose'], inplace=True)\n",
    "glucose_lab = labs[['hadm_id', 'stay_id', 'charttime', 'glucose']].copy()\n",
    "glucose_lab.dropna(subset=['glucose'], inplace=True)"
   ]
  },
  {
   "cell_type": "code",
   "execution_count": 31,
   "metadata": {},
   "outputs": [
    {
     "data": {
      "text/plain": [
       "((874512, 4), (351350, 4))"
      ]
     },
     "execution_count": 31,
     "metadata": {},
     "output_type": "execute_result"
    }
   ],
   "source": [
    "glucose.shape, glucose_lab.shape"
   ]
  },
  {
   "cell_type": "code",
   "execution_count": 32,
   "metadata": {},
   "outputs": [
    {
     "data": {
      "text/plain": [
       "(880650, 4)"
      ]
     },
     "execution_count": 32,
     "metadata": {},
     "output_type": "execute_result"
    }
   ],
   "source": [
    "glucose = glucose.append(glucose_lab, ignore_index=True)\n",
    "glucose.drop_duplicates(keep='first', inplace=True)\n",
    "glucose.shape"
   ]
  },
  {
   "cell_type": "code",
   "execution_count": 33,
   "metadata": {},
   "outputs": [],
   "source": [
    "vitals.drop(['glucose'], axis=1, inplace=True)\n",
    "vitals.dropna(subset=vitals.columns[3:], how='all', inplace=True)\n",
    "labs.drop(['glucose'], axis=1, inplace=True)\n",
    "labs.dropna(subset=labs.columns[3:], how='all', inplace=True)"
   ]
  },
  {
   "cell_type": "code",
   "execution_count": 34,
   "metadata": {},
   "outputs": [],
   "source": [
    "scr = kdigo_stages[['hadm_id', 'stay_id', 'charttime', 'creat']].copy()\n",
    "scr.dropna(subset=['creat'], inplace=True)\n",
    "scr_lab = labs[['hadm_id', 'stay_id', 'charttime', 'creatinine']].copy()\n",
    "scr_lab.dropna(subset=['creatinine'], inplace=True)"
   ]
  },
  {
   "cell_type": "code",
   "execution_count": 35,
   "metadata": {},
   "outputs": [
    {
     "data": {
      "text/plain": [
       "((277151, 4), (276543, 4))"
      ]
     },
     "execution_count": 35,
     "metadata": {},
     "output_type": "execute_result"
    }
   ],
   "source": [
    "scr.shape, scr_lab.shape"
   ]
  },
  {
   "cell_type": "code",
   "execution_count": 36,
   "metadata": {},
   "outputs": [
    {
     "data": {
      "text/plain": [
       "(277152, 4)"
      ]
     },
     "execution_count": 36,
     "metadata": {},
     "output_type": "execute_result"
    }
   ],
   "source": [
    "scr.rename(columns={'creat': 'creatinine'}, inplace=True)\n",
    "scr = scr.append(scr_lab, ignore_index=True)\n",
    "scr.drop_duplicates(keep='first', inplace=True)\n",
    "scr.shape"
   ]
  },
  {
   "cell_type": "code",
   "execution_count": 37,
   "metadata": {},
   "outputs": [],
   "source": [
    "kdigo_stages.drop(['creat'], axis=1, inplace=True)\n",
    "kdigo_stages.dropna(subset=kdigo_stages.columns[3:], how='all', inplace=True)\n",
    "labs.drop(['creatinine'], axis=1, inplace=True)\n",
    "labs.dropna(subset=labs.columns[3:], how='all', inplace=True)"
   ]
  },
  {
   "cell_type": "markdown",
   "metadata": {},
   "source": [
    "# merge vitals, labs, glucose, scr and kdigo_stages"
   ]
  },
  {
   "cell_type": "code",
   "execution_count": 38,
   "metadata": {},
   "outputs": [
    {
     "data": {
      "text/plain": [
       "0"
      ]
     },
     "execution_count": 38,
     "metadata": {},
     "output_type": "execute_result"
    }
   ],
   "source": [
    "merge_axis = ['hadm_id', 'stay_id', 'charttime']\n",
    "data = pd.merge(vitals, labs, on=merge_axis, how='outer')\n",
    "data = pd.merge(data, glucose, on=merge_axis, how='outer')\n",
    "data = pd.merge(data, scr, on=merge_axis, how='outer')\n",
    "data = pd.merge(data, kdigo_stages, on=merge_axis, how='outer')\n",
    "del vitals, labs, glucose, glucose_lab, scr, scr_lab, kdigo_stages\n",
    "gc.collect()"
   ]
  },
  {
   "cell_type": "code",
   "execution_count": 39,
   "metadata": {},
   "outputs": [
    {
     "data": {
      "text/plain": [
       "Index(['hadm_id', 'stay_id', 'charttime', 'heartrate', 'sysbp', 'diasbp',\n",
       "       'meanbp', 'resprate', 'tempc', 'spo2', 'aniongap', 'albumin', 'bands',\n",
       "       'bicarbonate', 'bilirubin', 'chloride', 'hematocrit', 'hemoglobin',\n",
       "       'lactate', 'platelet', 'potassium', 'ptt', 'inr', 'pt', 'sodium', 'bun',\n",
       "       'wbc', 'glucose', 'creatinine', 'uo_rt_6hr', 'uo_rt_12hr', 'uo_rt_24hr',\n",
       "       'aki_stage'],\n",
       "      dtype='object')"
      ]
     },
     "execution_count": 39,
     "metadata": {},
     "output_type": "execute_result"
    }
   ],
   "source": [
    "data.columns"
   ]
  },
  {
   "cell_type": "code",
   "execution_count": 40,
   "metadata": {},
   "outputs": [
    {
     "data": {
      "text/plain": [
       "(6955511, 33)"
      ]
     },
     "execution_count": 40,
     "metadata": {},
     "output_type": "execute_result"
    }
   ],
   "source": [
    "data.shape"
   ]
  },
  {
   "cell_type": "code",
   "execution_count": 41,
   "metadata": {},
   "outputs": [
    {
     "data": {
      "text/plain": [
       "(27499, 28658)"
      ]
     },
     "execution_count": 41,
     "metadata": {},
     "output_type": "execute_result"
    }
   ],
   "source": [
    "data.hadm_id.nunique(), data.stay_id.nunique()"
   ]
  },
  {
   "cell_type": "code",
   "execution_count": 42,
   "metadata": {},
   "outputs": [
    {
     "data": {
      "text/plain": [
       "hadm_id      False\n",
       "stay_id      False\n",
       "charttime    False\n",
       "dtype: bool"
      ]
     },
     "execution_count": 42,
     "metadata": {},
     "output_type": "execute_result"
    }
   ],
   "source": [
    "pd.isna(data[data.columns[:3]]).any()"
   ]
  },
  {
   "cell_type": "code",
   "execution_count": 43,
   "metadata": {},
   "outputs": [],
   "source": [
    "data.sort_values(['hadm_id', 'stay_id', 'charttime'], inplace=True, ascending=True, ignore_index=True)"
   ]
  },
  {
   "cell_type": "code",
   "execution_count": 45,
   "metadata": {},
   "outputs": [],
   "source": [
    "data.to_csv(OUTPUT_FILENAME, sep='\\t', index=False)"
   ]
  },
  {
   "cell_type": "code",
   "execution_count": 46,
   "metadata": {},
   "outputs": [],
   "source": [
    "cur.close()\n",
    "con.close()"
   ]
  }
 ],
 "metadata": {
  "kernelspec": {
   "display_name": "Python 3",
   "language": "python",
   "name": "python3"
  },
  "language_info": {
   "codemirror_mode": {
    "name": "ipython",
    "version": 3
   },
   "file_extension": ".py",
   "mimetype": "text/x-python",
   "name": "python",
   "nbconvert_exporter": "python",
   "pygments_lexer": "ipython3",
   "version": "3.6.13"
  }
 },
 "nbformat": 4,
 "nbformat_minor": 4
}
