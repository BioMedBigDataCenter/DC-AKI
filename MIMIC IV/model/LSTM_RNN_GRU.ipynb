{
 "cells": [
  {
   "cell_type": "code",
   "execution_count": 1,
   "metadata": {},
   "outputs": [],
   "source": [
    "import os\n",
    "import gc\n",
    "import pandas as pd\n",
    "import numpy as np\n",
    "from datetime import datetime\n",
    "from math import ceil\n",
    "from tqdm import tqdm\n",
    "from collections import Counter\n",
    "\n",
    "from sklearn.preprocessing import StandardScaler\n",
    "from sklearn.model_selection import train_test_split\n",
    "from sklearn.metrics import roc_curve, roc_auc_score, recall_score, accuracy_score, auc, f1_score, matthews_corrcoef, precision_score, precision_recall_curve, confusion_matrix\n",
    "\n",
    "import tensorflow as tf\n",
    "#tf.enable_eager_execution()\n",
    "from tensorflow.keras.preprocessing.sequence import pad_sequences\n",
    "from tensorflow.keras import Sequential, optimizers\n",
    "from tensorflow.keras.models import load_model, Model\n",
    "from tensorflow.keras.layers import LSTM, Dense, Activation, Dropout, Input, GRU\n",
    "from tensorflow.keras.losses import BinaryCrossentropy\n",
    "from tensorflow.keras.metrics import AUC\n",
    "from tensorflow.keras.backend import clear_session\n",
    "from tensorflow.keras.callbacks import ModelCheckpoint\n",
    "from tensorflow.keras.utils import to_categorical\n",
    "\n",
    "from tensorflow.compat.v1.keras.layers import LSTM\n",
    "\n",
    "seed = 8888\n",
    "os.environ['PYTHONHASHSEED']=str(seed)\n",
    "np.random.seed(seed)\n",
    "tf.set_random_seed(seed)\n",
    "\n",
    "to_save = {}\n",
    "to_save['random_seed'] = seed"
   ]
  },
  {
   "cell_type": "code",
   "execution_count": 2,
   "metadata": {},
   "outputs": [],
   "source": [
    "def find_optimal_cutoff(TPRs, FPRs, thresholds):\n",
    "    \"\"\"\n",
    "    Find the optimal classification threshold, where the distance between TPR and FPR is maximum\n",
    "    :param TPRs: TPR values at different thresholds\n",
    "    :param FPRs: FPR values at different thresholds\n",
    "    :param thresholds: Different classification thresholds\n",
    "    :return: optimal classification threshold, (optimal TPR, optimal FPR)\n",
    "    \"\"\"\n",
    "    distance = TPRs - FPRs\n",
    "    idx = np.argmax(distance)  # Only the first occurrence is returned.\n",
    "    optimal_threshold = thresholds[idx]\n",
    "    optimal_point = (TPRs[idx], FPRs[idx])\n",
    "    \n",
    "    return optimal_threshold, optimal_point\n",
    "\n",
    "\n",
    "def roc_values(y_true, y_proba):\n",
    "    \"\"\"\n",
    "    Get FPRs, TPRs, AUC value, optimal classification threshold, optimal TPR and optimal FPR of ROC curve\n",
    "    :param y_true: True values list of sample labels\n",
    "    :param y_proba: Model-predicted probability of AKI\n",
    "    :return: FPRs, TPRs, AUC value, optimal classification threshold, (optimal TPR, optimal FPR)\n",
    "    \"\"\"\n",
    "    fprs, tprs, thresholds = roc_curve(y_true, y_proba, pos_label=1)\n",
    "    roc_auc = auc(fprs, tprs)\n",
    "    optimal_threshold, optimal_point = find_optimal_cutoff(TPRs=tprs, FPRs=fprs, thresholds=thresholds)\n",
    "    \n",
    "    return fprs, tprs, roc_auc, optimal_threshold, optimal_point\n",
    "\n",
    "\n",
    "def get_set(id_list, id_col, time_col, data):\n",
    "    \"\"\"\n",
    "    Get patient data for the specified ID list\n",
    "    :param id_col: Name of ID column\n",
    "    :param time_col: Name of timestamp column\n",
    "    :param data: DataFrame of patient data\n",
    "    :return: Patient data for the specified ID list\n",
    "    \"\"\"\n",
    "    data = data[data[id_col].isin(id_list)].sort_values(by=[id_col, time_col], ascending=True)\n",
    "    data.reset_index(drop=True, inplace=True)\n",
    "    \n",
    "    return data\n",
    "\n",
    "\n",
    "def performance(label, proba, pred):\n",
    "    \"\"\"\n",
    "    Get model evaluation metrics\n",
    "    :param label: True values list of sample labels\n",
    "    :param proba: Model-predicted probability of AKI\n",
    "    :param pred: Predicted values under the optimal classification threshold\n",
    "    :return: Accuracy, Recall, MCC, Precision, F1-score, AUC, FPR\n",
    "    \"\"\"\n",
    "    acc = accuracy_score(label, pred)\n",
    "    recall = recall_score(label, pred, pos_label=1)\n",
    "    mcc = matthews_corrcoef(label, pred)\n",
    "    precision = precision_score(label, pred)\n",
    "    f1 = f1_score(label, pred)\n",
    "    roc_auc = roc_auc_score(label, proba)\n",
    "    tn, fp, fn, tp = confusion_matrix(label, pred).ravel()\n",
    "    fpr = fp/(fp+tn)\n",
    "    \n",
    "    print(f'accuracy: {acc:.4f}')\n",
    "    print(f'recall: {recall:.4f}')\n",
    "    print(f'AUC: {roc_auc:.4f}')\n",
    "    print(f'MCC: {mcc:.4f}')\n",
    "    print(f'precision: {precision:.4f}')\n",
    "    print(f'F1: {f1:.4f}')\n",
    "    print(f'FPR: {fpr:.4f}')\n",
    "    \n",
    "    return acc, recall, mcc, precision, f1, roc_auc, fpr"
   ]
  },
  {
   "cell_type": "code",
   "execution_count": 3,
   "metadata": {},
   "outputs": [],
   "source": [
    "BATCH_SIZE = 128\n",
    "EPOCHS = 100\n",
    "\n",
    "# Imputing(feature and label)\n",
    "FILL_WITH_ZERO = True\n",
    "FILL_VALUE = 0\n",
    "\n",
    "LABEL_COLUMN = 'aki_stage'\n",
    "# Resample interval\n",
    "RSMP = 6\n",
    "# Advance prediction time\n",
    "SFT = 48\n",
    "# FEATURE_SET = 'SCr_lab_vit_dem_med_pro'\n",
    "\n",
    "DATA_PATH = f'./data_con.tsv'\n",
    "#DATA_PATH = f'./con0726/data_con_eICU0814.tsv'\n",
    "DATA_EXTERNAL_PATH = f'./data0727/data_external_rsmp{RSMP}.tsv'\n",
    "MODEL_SAVE_PATH = './GRU24.h5'\n",
    "TEST_RESULT_PATH = f'./predict_result/rsmp{RSMP}_sft{SFT}_continuous.csv'\n",
    "EXTERNAL_RESULT_PATH = f'./predict_result/rsmp{RSMP}_sft{SFT}_continuous_external.csv' \n",
    "TRAINING_PARAM_PATH = './result.xls'\n",
    "\n",
    "to_save['batch_size'] = BATCH_SIZE\n",
    "to_save['epoch'] = EPOCHS\n",
    "to_save['imputation'] = 'fill with zero'\n",
    "to_save['resample_interval'] = RSMP\n",
    "to_save['prediction_ahead'] = SFT\n",
    "to_save['data_dev_path'] = DATA_PATH\n",
    "to_save['data_external_path'] = DATA_EXTERNAL_PATH\n",
    "to_save['model_path'] = MODEL_SAVE_PATH\n",
    "to_save['test_result_path'] = TEST_RESULT_PATH\n",
    "to_save['external_result_path'] = EXTERNAL_RESULT_PATH"
   ]
  },
  {
   "cell_type": "code",
   "execution_count": 4,
   "metadata": {},
   "outputs": [
    {
     "name": "stdout",
     "output_type": "stream",
     "text": [
      "Sample num: 25691\n"
     ]
    },
    {
     "data": {
      "text/plain": [
       "(533208, 53)"
      ]
     },
     "execution_count": 4,
     "metadata": {},
     "output_type": "execute_result"
    }
   ],
   "source": [
    "data_ori = pd.read_csv(DATA_PATH, sep='\\t')\n",
    "if 'patient_id' in data_ori.columns:\n",
    "    data_ori.rename(columns={'patient_id': 'stay_id', '检验日期': 'charttime'}, inplace=True)\n",
    "id_col, time_col = 'stay_id', 'charttime'\n",
    "print(f'Sample num: {data_ori.stay_id.nunique()}')\n",
    "data_ori.shape"
   ]
  },
  {
   "cell_type": "code",
   "execution_count": 5,
   "metadata": {},
   "outputs": [
    {
     "data": {
      "text/html": [
       "<div>\n",
       "<style scoped>\n",
       "    .dataframe tbody tr th:only-of-type {\n",
       "        vertical-align: middle;\n",
       "    }\n",
       "\n",
       "    .dataframe tbody tr th {\n",
       "        vertical-align: top;\n",
       "    }\n",
       "\n",
       "    .dataframe thead th {\n",
       "        text-align: right;\n",
       "    }\n",
       "</style>\n",
       "<table border=\"1\" class=\"dataframe\">\n",
       "  <thead>\n",
       "    <tr style=\"text-align: right;\">\n",
       "      <th></th>\n",
       "      <th>charttime</th>\n",
       "      <th>stay_id</th>\n",
       "      <th>heartrate</th>\n",
       "      <th>sysbp</th>\n",
       "      <th>diasbp</th>\n",
       "      <th>meanbp</th>\n",
       "      <th>resprate</th>\n",
       "      <th>tempc</th>\n",
       "      <th>spo2</th>\n",
       "      <th>aniongap</th>\n",
       "      <th>...</th>\n",
       "      <th>race_UNKNOWN</th>\n",
       "      <th>race_WHITE</th>\n",
       "      <th>admission_type_DIRECT EMER.</th>\n",
       "      <th>admission_type_DIRECT OBSERVATION</th>\n",
       "      <th>admission_type_ELECTIVE</th>\n",
       "      <th>admission_type_EU OBSERVATION</th>\n",
       "      <th>admission_type_EW EMER.</th>\n",
       "      <th>admission_type_OBSERVATION ADMIT</th>\n",
       "      <th>admission_type_SURGICAL SAME DAY ADMISSION</th>\n",
       "      <th>admission_type_URGENT</th>\n",
       "    </tr>\n",
       "  </thead>\n",
       "  <tbody>\n",
       "    <tr>\n",
       "      <th>0</th>\n",
       "      <td>2194-04-29 00:00:00</td>\n",
       "      <td>30000646</td>\n",
       "      <td>94.666667</td>\n",
       "      <td>102.200000</td>\n",
       "      <td>62.400000</td>\n",
       "      <td>71.400000</td>\n",
       "      <td>25.666667</td>\n",
       "      <td>37.111111</td>\n",
       "      <td>96.000000</td>\n",
       "      <td>12.0</td>\n",
       "      <td>...</td>\n",
       "      <td>0.0</td>\n",
       "      <td>0.0</td>\n",
       "      <td>0.0</td>\n",
       "      <td>0.0</td>\n",
       "      <td>0.0</td>\n",
       "      <td>0.0</td>\n",
       "      <td>1.0</td>\n",
       "      <td>0.0</td>\n",
       "      <td>0.0</td>\n",
       "      <td>0.0</td>\n",
       "    </tr>\n",
       "    <tr>\n",
       "      <th>1</th>\n",
       "      <td>2194-04-29 06:00:00</td>\n",
       "      <td>30000646</td>\n",
       "      <td>89.880000</td>\n",
       "      <td>92.227273</td>\n",
       "      <td>51.380952</td>\n",
       "      <td>59.952381</td>\n",
       "      <td>29.826087</td>\n",
       "      <td>37.722222</td>\n",
       "      <td>96.375000</td>\n",
       "      <td>12.0</td>\n",
       "      <td>...</td>\n",
       "      <td>0.0</td>\n",
       "      <td>0.0</td>\n",
       "      <td>0.0</td>\n",
       "      <td>0.0</td>\n",
       "      <td>0.0</td>\n",
       "      <td>0.0</td>\n",
       "      <td>1.0</td>\n",
       "      <td>0.0</td>\n",
       "      <td>0.0</td>\n",
       "      <td>0.0</td>\n",
       "    </tr>\n",
       "    <tr>\n",
       "      <th>2</th>\n",
       "      <td>2194-04-29 12:00:00</td>\n",
       "      <td>30000646</td>\n",
       "      <td>72.500000</td>\n",
       "      <td>94.500000</td>\n",
       "      <td>60.333333</td>\n",
       "      <td>68.166667</td>\n",
       "      <td>18.833333</td>\n",
       "      <td>36.833333</td>\n",
       "      <td>98.666667</td>\n",
       "      <td>NaN</td>\n",
       "      <td>...</td>\n",
       "      <td>0.0</td>\n",
       "      <td>0.0</td>\n",
       "      <td>0.0</td>\n",
       "      <td>0.0</td>\n",
       "      <td>0.0</td>\n",
       "      <td>0.0</td>\n",
       "      <td>1.0</td>\n",
       "      <td>0.0</td>\n",
       "      <td>0.0</td>\n",
       "      <td>0.0</td>\n",
       "    </tr>\n",
       "    <tr>\n",
       "      <th>3</th>\n",
       "      <td>2194-04-29 18:00:00</td>\n",
       "      <td>30000646</td>\n",
       "      <td>83.888889</td>\n",
       "      <td>91.235294</td>\n",
       "      <td>56.294118</td>\n",
       "      <td>64.000000</td>\n",
       "      <td>22.944444</td>\n",
       "      <td>37.000000</td>\n",
       "      <td>94.500000</td>\n",
       "      <td>13.0</td>\n",
       "      <td>...</td>\n",
       "      <td>0.0</td>\n",
       "      <td>0.0</td>\n",
       "      <td>0.0</td>\n",
       "      <td>0.0</td>\n",
       "      <td>0.0</td>\n",
       "      <td>0.0</td>\n",
       "      <td>1.0</td>\n",
       "      <td>0.0</td>\n",
       "      <td>0.0</td>\n",
       "      <td>0.0</td>\n",
       "    </tr>\n",
       "    <tr>\n",
       "      <th>4</th>\n",
       "      <td>2194-04-30 00:00:00</td>\n",
       "      <td>30000646</td>\n",
       "      <td>79.125000</td>\n",
       "      <td>84.125000</td>\n",
       "      <td>52.875000</td>\n",
       "      <td>60.000000</td>\n",
       "      <td>16.250000</td>\n",
       "      <td>36.583333</td>\n",
       "      <td>96.000000</td>\n",
       "      <td>10.0</td>\n",
       "      <td>...</td>\n",
       "      <td>0.0</td>\n",
       "      <td>0.0</td>\n",
       "      <td>0.0</td>\n",
       "      <td>0.0</td>\n",
       "      <td>0.0</td>\n",
       "      <td>0.0</td>\n",
       "      <td>1.0</td>\n",
       "      <td>0.0</td>\n",
       "      <td>0.0</td>\n",
       "      <td>0.0</td>\n",
       "    </tr>\n",
       "  </tbody>\n",
       "</table>\n",
       "<p>5 rows × 53 columns</p>\n",
       "</div>"
      ],
      "text/plain": [
       "             charttime   stay_id  heartrate       sysbp     diasbp     meanbp  \\\n",
       "0  2194-04-29 00:00:00  30000646  94.666667  102.200000  62.400000  71.400000   \n",
       "1  2194-04-29 06:00:00  30000646  89.880000   92.227273  51.380952  59.952381   \n",
       "2  2194-04-29 12:00:00  30000646  72.500000   94.500000  60.333333  68.166667   \n",
       "3  2194-04-29 18:00:00  30000646  83.888889   91.235294  56.294118  64.000000   \n",
       "4  2194-04-30 00:00:00  30000646  79.125000   84.125000  52.875000  60.000000   \n",
       "\n",
       "    resprate      tempc       spo2  aniongap  ...  race_UNKNOWN  race_WHITE  \\\n",
       "0  25.666667  37.111111  96.000000      12.0  ...           0.0         0.0   \n",
       "1  29.826087  37.722222  96.375000      12.0  ...           0.0         0.0   \n",
       "2  18.833333  36.833333  98.666667       NaN  ...           0.0         0.0   \n",
       "3  22.944444  37.000000  94.500000      13.0  ...           0.0         0.0   \n",
       "4  16.250000  36.583333  96.000000      10.0  ...           0.0         0.0   \n",
       "\n",
       "   admission_type_DIRECT EMER.  admission_type_DIRECT OBSERVATION  \\\n",
       "0                          0.0                                0.0   \n",
       "1                          0.0                                0.0   \n",
       "2                          0.0                                0.0   \n",
       "3                          0.0                                0.0   \n",
       "4                          0.0                                0.0   \n",
       "\n",
       "   admission_type_ELECTIVE  admission_type_EU OBSERVATION  \\\n",
       "0                      0.0                            0.0   \n",
       "1                      0.0                            0.0   \n",
       "2                      0.0                            0.0   \n",
       "3                      0.0                            0.0   \n",
       "4                      0.0                            0.0   \n",
       "\n",
       "   admission_type_EW EMER.  admission_type_OBSERVATION ADMIT  \\\n",
       "0                      1.0                               0.0   \n",
       "1                      1.0                               0.0   \n",
       "2                      1.0                               0.0   \n",
       "3                      1.0                               0.0   \n",
       "4                      1.0                               0.0   \n",
       "\n",
       "   admission_type_SURGICAL SAME DAY ADMISSION  admission_type_URGENT  \n",
       "0                                         0.0                    0.0  \n",
       "1                                         0.0                    0.0  \n",
       "2                                         0.0                    0.0  \n",
       "3                                         0.0                    0.0  \n",
       "4                                         0.0                    0.0  \n",
       "\n",
       "[5 rows x 53 columns]"
      ]
     },
     "execution_count": 5,
     "metadata": {},
     "output_type": "execute_result"
    }
   ],
   "source": [
    "data_ori.head()"
   ]
  },
  {
   "cell_type": "code",
   "execution_count": 6,
   "metadata": {},
   "outputs": [
    {
     "data": {
      "text/plain": [
       "Index(['charttime', 'stay_id', 'heartrate', 'sysbp', 'diasbp', 'meanbp',\n",
       "       'resprate', 'tempc', 'spo2', 'aniongap', 'bicarbonate', 'chloride',\n",
       "       'hematocrit', 'hemoglobin', 'platelet', 'potassium', 'ptt', 'inr', 'pt',\n",
       "       'sodium', 'bun', 'wbc', 'glucose', 'creatinine', 'uo_rt_6hr',\n",
       "       'uo_rt_12hr', 'uo_rt_24hr', 'aki_stage', 'ventilation', 'vasopressor',\n",
       "       'rrt', 'sedative', 'admission_age', 'gender_F', 'gender_M',\n",
       "       'race_AMERICAN INDIAN/ALASKA NATIVE', 'race_ASIAN', 'race_BLACK',\n",
       "       'race_HISPANIC/LATINO', 'race_MULTIPLE RACE/ETHNICITY',\n",
       "       'race_NATIVE HAWAIIAN OR OTHER PACIFIC ISLANDER', 'race_PORTUGUESE',\n",
       "       'race_SOUTH AMERICAN', 'race_UNKNOWN', 'race_WHITE',\n",
       "       'admission_type_DIRECT EMER.', 'admission_type_DIRECT OBSERVATION',\n",
       "       'admission_type_ELECTIVE', 'admission_type_EU OBSERVATION',\n",
       "       'admission_type_EW EMER.', 'admission_type_OBSERVATION ADMIT',\n",
       "       'admission_type_SURGICAL SAME DAY ADMISSION', 'admission_type_URGENT'],\n",
       "      dtype='object')"
      ]
     },
     "execution_count": 6,
     "metadata": {},
     "output_type": "execute_result"
    }
   ],
   "source": [
    "data_ori.columns"
   ]
  },
  {
   "cell_type": "code",
   "execution_count": 7,
   "metadata": {},
   "outputs": [],
   "source": [
    "data_ori = data_ori.rename(columns={'akistage': 'aki_stage'})"
   ]
  },
  {
   "cell_type": "code",
   "execution_count": 8,
   "metadata": {},
   "outputs": [],
   "source": [
    "others = [id_col, time_col, LABEL_COLUMN]\n",
    "# common_feat = ['hemoglobin', 'chloride', 'sodium', 'potassium', 'creatinine', 'admission_age', 'gender_F', 'gender_M']\n",
    "# data_ori = data_ori[['icustay_id', 'charttime', 'aki_stage']+common_feat].copy()"
   ]
  },
  {
   "cell_type": "code",
   "execution_count": 14,
   "metadata": {},
   "outputs": [
    {
     "name": "stdout",
     "output_type": "stream",
     "text": [
      "Sample_num: 25691\n",
      "AKI_label: [0. 1.]\n"
     ]
    },
    {
     "data": {
      "text/plain": [
       "(327680, 53)"
      ]
     },
     "execution_count": 14,
     "metadata": {},
     "output_type": "execute_result"
    }
   ],
   "source": [
    "data = data_ori.copy()\n",
    "# Label imputing\n",
    "data[LABEL_COLUMN].fillna(FILL_VALUE, inplace=True)\n",
    "data[LABEL_COLUMN] = data.groupby(id_col)[LABEL_COLUMN].shift(-(SFT/RSMP))\n",
    "data.dropna(subset=[LABEL_COLUMN], how='all', inplace=True)\n",
    "data[LABEL_COLUMN].replace([2, 3], [1, 1], inplace=True)\n",
    "    \n",
    "print(f'Sample_num: {data[id_col].nunique()}')\n",
    "print(f'AKI_label: {data[LABEL_COLUMN].unique()}')\n",
    "data.shape"
   ]
  },
  {
   "cell_type": "code",
   "execution_count": 15,
   "metadata": {
    "scrolled": true
   },
   "outputs": [
    {
     "name": "stdout",
     "output_type": "stream",
     "text": [
      "Sample num: 25691, Feature num: 50\n",
      "\n",
      "features: ['admission_age', 'admission_type_DIRECT EMER.', 'admission_type_DIRECT OBSERVATION', 'admission_type_ELECTIVE', 'admission_type_EU OBSERVATION', 'admission_type_EW EMER.', 'admission_type_OBSERVATION ADMIT', 'admission_type_SURGICAL SAME DAY ADMISSION', 'admission_type_URGENT', 'aniongap', 'bicarbonate', 'bun', 'chloride', 'creatinine', 'diasbp', 'gender_F', 'gender_M', 'glucose', 'heartrate', 'hematocrit', 'hemoglobin', 'inr', 'meanbp', 'platelet', 'potassium', 'pt', 'ptt', 'race_AMERICAN INDIAN/ALASKA NATIVE', 'race_ASIAN', 'race_BLACK', 'race_HISPANIC/LATINO', 'race_MULTIPLE RACE/ETHNICITY', 'race_NATIVE HAWAIIAN OR OTHER PACIFIC ISLANDER', 'race_PORTUGUESE', 'race_SOUTH AMERICAN', 'race_UNKNOWN', 'race_WHITE', 'resprate', 'rrt', 'sedative', 'sodium', 'spo2', 'sysbp', 'tempc', 'uo_rt_12hr', 'uo_rt_24hr', 'uo_rt_6hr', 'vasopressor', 'ventilation', 'wbc']\n"
     ]
    }
   ],
   "source": [
    "icustays = data.stay_id.unique().tolist()\n",
    "features = data.columns.difference(others).tolist()\n",
    "\n",
    "print(f'Sample num: {len(icustays)}, Feature num: {len(features)}\\n')\n",
    "print(f'features: {features}')\n",
    "\n",
    "to_save['sample_num'] = len(icustays)\n",
    "to_save['feature_num'] = len(features)"
   ]
  },
  {
   "cell_type": "code",
   "execution_count": 16,
   "metadata": {},
   "outputs": [],
   "source": [
    "new_column_order = [col for col in data.columns if col != 'aki_stage'] + ['aki_stage']\n",
    "data = data[new_column_order]"
   ]
  },
  {
   "cell_type": "code",
   "execution_count": 17,
   "metadata": {},
   "outputs": [
    {
     "name": "stdout",
     "output_type": "stream",
     "text": [
      "['charttime', 'stay_id', 'heartrate', 'sysbp', 'diasbp', 'meanbp', 'resprate', 'tempc', 'spo2', 'aniongap', 'bicarbonate', 'chloride', 'hematocrit', 'hemoglobin', 'platelet', 'potassium', 'ptt', 'inr', 'pt', 'sodium', 'bun', 'wbc', 'glucose', 'creatinine', 'uo_rt_6hr', 'uo_rt_12hr', 'uo_rt_24hr', 'ventilation', 'vasopressor', 'rrt', 'sedative', 'admission_age', 'gender_F', 'gender_M', 'race_AMERICAN INDIAN/ALASKA NATIVE', 'race_ASIAN', 'race_BLACK', 'race_HISPANIC/LATINO', 'race_MULTIPLE RACE/ETHNICITY', 'race_NATIVE HAWAIIAN OR OTHER PACIFIC ISLANDER', 'race_PORTUGUESE', 'race_SOUTH AMERICAN', 'race_UNKNOWN', 'race_WHITE', 'admission_type_DIRECT EMER.', 'admission_type_DIRECT OBSERVATION', 'admission_type_ELECTIVE', 'admission_type_EU OBSERVATION', 'admission_type_EW EMER.', 'admission_type_OBSERVATION ADMIT', 'admission_type_SURGICAL SAME DAY ADMISSION', 'admission_type_URGENT', 'aki_stage']\n"
     ]
    }
   ],
   "source": [
    "column_order = data.columns.tolist()\n",
    "print(column_order)"
   ]
  },
  {
   "cell_type": "code",
   "execution_count": 13,
   "metadata": {},
   "outputs": [
    {
     "data": {
      "text/html": [
       "<div>\n",
       "<style scoped>\n",
       "    .dataframe tbody tr th:only-of-type {\n",
       "        vertical-align: middle;\n",
       "    }\n",
       "\n",
       "    .dataframe tbody tr th {\n",
       "        vertical-align: top;\n",
       "    }\n",
       "\n",
       "    .dataframe thead th {\n",
       "        text-align: right;\n",
       "    }\n",
       "</style>\n",
       "<table border=\"1\" class=\"dataframe\">\n",
       "  <thead>\n",
       "    <tr style=\"text-align: right;\">\n",
       "      <th></th>\n",
       "      <th>charttime</th>\n",
       "      <th>stay_id</th>\n",
       "      <th>heartrate</th>\n",
       "      <th>sysbp</th>\n",
       "      <th>diasbp</th>\n",
       "      <th>meanbp</th>\n",
       "      <th>resprate</th>\n",
       "      <th>tempc</th>\n",
       "      <th>spo2</th>\n",
       "      <th>aniongap</th>\n",
       "      <th>...</th>\n",
       "      <th>race_WHITE</th>\n",
       "      <th>admission_type_DIRECT EMER.</th>\n",
       "      <th>admission_type_DIRECT OBSERVATION</th>\n",
       "      <th>admission_type_ELECTIVE</th>\n",
       "      <th>admission_type_EU OBSERVATION</th>\n",
       "      <th>admission_type_EW EMER.</th>\n",
       "      <th>admission_type_OBSERVATION ADMIT</th>\n",
       "      <th>admission_type_SURGICAL SAME DAY ADMISSION</th>\n",
       "      <th>admission_type_URGENT</th>\n",
       "      <th>aki_stage</th>\n",
       "    </tr>\n",
       "  </thead>\n",
       "  <tbody>\n",
       "    <tr>\n",
       "      <th>0</th>\n",
       "      <td>2194-04-29 00:00:00</td>\n",
       "      <td>30000646</td>\n",
       "      <td>94.666667</td>\n",
       "      <td>102.200000</td>\n",
       "      <td>62.400000</td>\n",
       "      <td>71.400000</td>\n",
       "      <td>25.666667</td>\n",
       "      <td>37.111111</td>\n",
       "      <td>96.000000</td>\n",
       "      <td>12.0</td>\n",
       "      <td>...</td>\n",
       "      <td>0.0</td>\n",
       "      <td>0.0</td>\n",
       "      <td>0.0</td>\n",
       "      <td>0.0</td>\n",
       "      <td>0.0</td>\n",
       "      <td>1.0</td>\n",
       "      <td>0.0</td>\n",
       "      <td>0.0</td>\n",
       "      <td>0.0</td>\n",
       "      <td>0.0</td>\n",
       "    </tr>\n",
       "    <tr>\n",
       "      <th>1</th>\n",
       "      <td>2194-04-29 06:00:00</td>\n",
       "      <td>30000646</td>\n",
       "      <td>89.880000</td>\n",
       "      <td>92.227273</td>\n",
       "      <td>51.380952</td>\n",
       "      <td>59.952381</td>\n",
       "      <td>29.826087</td>\n",
       "      <td>37.722222</td>\n",
       "      <td>96.375000</td>\n",
       "      <td>12.0</td>\n",
       "      <td>...</td>\n",
       "      <td>0.0</td>\n",
       "      <td>0.0</td>\n",
       "      <td>0.0</td>\n",
       "      <td>0.0</td>\n",
       "      <td>0.0</td>\n",
       "      <td>1.0</td>\n",
       "      <td>0.0</td>\n",
       "      <td>0.0</td>\n",
       "      <td>0.0</td>\n",
       "      <td>0.0</td>\n",
       "    </tr>\n",
       "    <tr>\n",
       "      <th>2</th>\n",
       "      <td>2194-04-29 12:00:00</td>\n",
       "      <td>30000646</td>\n",
       "      <td>72.500000</td>\n",
       "      <td>94.500000</td>\n",
       "      <td>60.333333</td>\n",
       "      <td>68.166667</td>\n",
       "      <td>18.833333</td>\n",
       "      <td>36.833333</td>\n",
       "      <td>98.666667</td>\n",
       "      <td>NaN</td>\n",
       "      <td>...</td>\n",
       "      <td>0.0</td>\n",
       "      <td>0.0</td>\n",
       "      <td>0.0</td>\n",
       "      <td>0.0</td>\n",
       "      <td>0.0</td>\n",
       "      <td>1.0</td>\n",
       "      <td>0.0</td>\n",
       "      <td>0.0</td>\n",
       "      <td>0.0</td>\n",
       "      <td>0.0</td>\n",
       "    </tr>\n",
       "    <tr>\n",
       "      <th>3</th>\n",
       "      <td>2194-04-29 18:00:00</td>\n",
       "      <td>30000646</td>\n",
       "      <td>83.888889</td>\n",
       "      <td>91.235294</td>\n",
       "      <td>56.294118</td>\n",
       "      <td>64.000000</td>\n",
       "      <td>22.944444</td>\n",
       "      <td>37.000000</td>\n",
       "      <td>94.500000</td>\n",
       "      <td>13.0</td>\n",
       "      <td>...</td>\n",
       "      <td>0.0</td>\n",
       "      <td>0.0</td>\n",
       "      <td>0.0</td>\n",
       "      <td>0.0</td>\n",
       "      <td>0.0</td>\n",
       "      <td>1.0</td>\n",
       "      <td>0.0</td>\n",
       "      <td>0.0</td>\n",
       "      <td>0.0</td>\n",
       "      <td>0.0</td>\n",
       "    </tr>\n",
       "    <tr>\n",
       "      <th>4</th>\n",
       "      <td>2194-04-30 00:00:00</td>\n",
       "      <td>30000646</td>\n",
       "      <td>79.125000</td>\n",
       "      <td>84.125000</td>\n",
       "      <td>52.875000</td>\n",
       "      <td>60.000000</td>\n",
       "      <td>16.250000</td>\n",
       "      <td>36.583333</td>\n",
       "      <td>96.000000</td>\n",
       "      <td>10.0</td>\n",
       "      <td>...</td>\n",
       "      <td>0.0</td>\n",
       "      <td>0.0</td>\n",
       "      <td>0.0</td>\n",
       "      <td>0.0</td>\n",
       "      <td>0.0</td>\n",
       "      <td>1.0</td>\n",
       "      <td>0.0</td>\n",
       "      <td>0.0</td>\n",
       "      <td>0.0</td>\n",
       "      <td>0.0</td>\n",
       "    </tr>\n",
       "  </tbody>\n",
       "</table>\n",
       "<p>5 rows × 53 columns</p>\n",
       "</div>"
      ],
      "text/plain": [
       "             charttime   stay_id  heartrate       sysbp     diasbp     meanbp  \\\n",
       "0  2194-04-29 00:00:00  30000646  94.666667  102.200000  62.400000  71.400000   \n",
       "1  2194-04-29 06:00:00  30000646  89.880000   92.227273  51.380952  59.952381   \n",
       "2  2194-04-29 12:00:00  30000646  72.500000   94.500000  60.333333  68.166667   \n",
       "3  2194-04-29 18:00:00  30000646  83.888889   91.235294  56.294118  64.000000   \n",
       "4  2194-04-30 00:00:00  30000646  79.125000   84.125000  52.875000  60.000000   \n",
       "\n",
       "    resprate      tempc       spo2  aniongap  ...  race_WHITE  \\\n",
       "0  25.666667  37.111111  96.000000      12.0  ...         0.0   \n",
       "1  29.826087  37.722222  96.375000      12.0  ...         0.0   \n",
       "2  18.833333  36.833333  98.666667       NaN  ...         0.0   \n",
       "3  22.944444  37.000000  94.500000      13.0  ...         0.0   \n",
       "4  16.250000  36.583333  96.000000      10.0  ...         0.0   \n",
       "\n",
       "   admission_type_DIRECT EMER.  admission_type_DIRECT OBSERVATION  \\\n",
       "0                          0.0                                0.0   \n",
       "1                          0.0                                0.0   \n",
       "2                          0.0                                0.0   \n",
       "3                          0.0                                0.0   \n",
       "4                          0.0                                0.0   \n",
       "\n",
       "   admission_type_ELECTIVE  admission_type_EU OBSERVATION  \\\n",
       "0                      0.0                            0.0   \n",
       "1                      0.0                            0.0   \n",
       "2                      0.0                            0.0   \n",
       "3                      0.0                            0.0   \n",
       "4                      0.0                            0.0   \n",
       "\n",
       "   admission_type_EW EMER.  admission_type_OBSERVATION ADMIT  \\\n",
       "0                      1.0                               0.0   \n",
       "1                      1.0                               0.0   \n",
       "2                      1.0                               0.0   \n",
       "3                      1.0                               0.0   \n",
       "4                      1.0                               0.0   \n",
       "\n",
       "   admission_type_SURGICAL SAME DAY ADMISSION  admission_type_URGENT  \\\n",
       "0                                         0.0                    0.0   \n",
       "1                                         0.0                    0.0   \n",
       "2                                         0.0                    0.0   \n",
       "3                                         0.0                    0.0   \n",
       "4                                         0.0                    0.0   \n",
       "\n",
       "   aki_stage  \n",
       "0        0.0  \n",
       "1        0.0  \n",
       "2        0.0  \n",
       "3        0.0  \n",
       "4        0.0  \n",
       "\n",
       "[5 rows x 53 columns]"
      ]
     },
     "execution_count": 13,
     "metadata": {},
     "output_type": "execute_result"
    }
   ],
   "source": [
    "data.head()"
   ]
  },
  {
   "cell_type": "markdown",
   "metadata": {},
   "source": [
    "# Imputing"
   ]
  },
  {
   "cell_type": "code",
   "execution_count": 18,
   "metadata": {},
   "outputs": [
    {
     "name": "stdout",
     "output_type": "stream",
     "text": [
      "Imputing with zero!\n"
     ]
    }
   ],
   "source": [
    "print('Imputing with zero!')\n",
    "data.fillna(FILL_VALUE, inplace=True)"
   ]
  },
  {
   "cell_type": "markdown",
   "metadata": {},
   "source": [
    "# Train/Validation/Test set"
   ]
  },
  {
   "cell_type": "code",
   "execution_count": 19,
   "metadata": {},
   "outputs": [
    {
     "name": "stdout",
     "output_type": "stream",
     "text": [
      "Train samples: 20552\n",
      "Validation samples: 2569\n",
      "Test samples: 2570\n"
     ]
    }
   ],
   "source": [
    "train_id, val_test_id = train_test_split(icustays, test_size=0.2, random_state=seed)\n",
    "val_id, test_id = train_test_split(val_test_id, test_size=0.5, random_state=seed)\n",
    "print(f'Train samples: {len(train_id)}\\nValidation samples: {len(val_id)}\\nTest samples: {len(test_id)}')"
   ]
  },
  {
   "cell_type": "code",
   "execution_count": 20,
   "metadata": {},
   "outputs": [
    {
     "data": {
      "text/plain": [
       "((261879, 53), (32781, 53), (33020, 53))"
      ]
     },
     "execution_count": 20,
     "metadata": {},
     "output_type": "execute_result"
    }
   ],
   "source": [
    "train = get_set(id_list=train_id, id_col=id_col, time_col=time_col, data=data)\n",
    "val = get_set(val_id, id_col, time_col, data)\n",
    "test = get_set(test_id, id_col, time_col, data)\n",
    "\n",
    "train.shape, val.shape, test.shape"
   ]
  },
  {
   "cell_type": "code",
   "execution_count": 21,
   "metadata": {},
   "outputs": [
    {
     "name": "stdout",
     "output_type": "stream",
     "text": [
      "train: 0.6374\n",
      "val: 0.6357\n",
      "test: 0.6455\n"
     ]
    }
   ],
   "source": [
    "# 各集合中AKI病人占比\n",
    "aki_train = train[[id_col, LABEL_COLUMN]].copy().groupby([id_col]).max()\n",
    "aki_val = val[[id_col, LABEL_COLUMN]].copy().groupby([id_col]).max()\n",
    "aki_test = test[[id_col, LABEL_COLUMN]].copy().groupby([id_col]).max()\n",
    "\n",
    "print(f'train: {aki_train.aki_stage.sum()/len(aki_train):.4f}')\n",
    "print(f'val: {aki_val.aki_stage.sum()/len(aki_val):.4f}')      \n",
    "print(f'test: {aki_test.aki_stage.sum()/len(aki_test):.4f}')"
   ]
  },
  {
   "cell_type": "markdown",
   "metadata": {},
   "source": [
    "# Split features and label / Normalization"
   ]
  },
  {
   "cell_type": "code",
   "execution_count": 22,
   "metadata": {},
   "outputs": [],
   "source": [
    "train.sort_values(by=[id_col, time_col], ascending=True, inplace=True)\n",
    "val.sort_values(by=[id_col, time_col], ascending=True, inplace=True)\n",
    "test.sort_values(by=[id_col, time_col], ascending=True, inplace=True)"
   ]
  },
  {
   "cell_type": "code",
   "execution_count": 23,
   "metadata": {},
   "outputs": [],
   "source": [
    "train = train[others+features].copy()\n",
    "val = val[others+features].copy()\n",
    "test = test[others+features].copy()"
   ]
  },
  {
   "cell_type": "code",
   "execution_count": 24,
   "metadata": {},
   "outputs": [],
   "source": [
    "train_list = [train[train[id_col]==i].iloc[:, 2:].values for i in train_id]\n",
    "val_list = [val[val[id_col]==i].iloc[:, 2:].values for i in val_id]\n",
    "test_list = [test[test[id_col]==i].iloc[:, 2:].values for i in test_id]"
   ]
  },
  {
   "cell_type": "code",
   "execution_count": 25,
   "metadata": {},
   "outputs": [
    {
     "data": {
      "text/plain": [
       "116"
      ]
     },
     "execution_count": 25,
     "metadata": {},
     "output_type": "execute_result"
    }
   ],
   "source": [
    "# 将训练集中最长的时间序列长度设置为模型最长时间步\n",
    "maxlen = train.groupby('stay_id').size().max()\n",
    "to_save['time_seq_length'] = maxlen\n",
    "maxlen"
   ]
  },
  {
   "cell_type": "code",
   "execution_count": 26,
   "metadata": {},
   "outputs": [
    {
     "data": {
      "text/plain": [
       "((20552, 116, 51), (2569, 116, 51), (2570, 116, 51))"
      ]
     },
     "execution_count": 26,
     "metadata": {},
     "output_type": "execute_result"
    }
   ],
   "source": [
    "train_data = pad_sequences(\n",
    "    train_list, \n",
    "    dtype='float32', \n",
    "    padding='pre', \n",
    "    truncating='pre', \n",
    "    value=0, \n",
    "    maxlen=maxlen\n",
    ")\n",
    "val_data = pad_sequences(\n",
    "    val_list, \n",
    "    dtype='float32', \n",
    "    padding='pre', \n",
    "    truncating='pre', \n",
    "    value=0, \n",
    "    maxlen=maxlen\n",
    ")\n",
    "test_data = pad_sequences(\n",
    "    test_list, \n",
    "    dtype='float32', \n",
    "    padding='pre', \n",
    "    truncating='pre', \n",
    "    value=0, \n",
    "    maxlen=maxlen\n",
    ")\n",
    "train_data.shape, val_data.shape, test_data.shape"
   ]
  },
  {
   "cell_type": "code",
   "execution_count": 27,
   "metadata": {},
   "outputs": [],
   "source": [
    "# 将特征和标签分离\n",
    "train_label = train_data[:, :, 0]\n",
    "val_label = val_data[:, :, 0]\n",
    "test_label = test_data[:, :, 0]\n",
    "\n",
    "train_data = train_data[:, :, 1:]\n",
    "val_data = val_data[:, :, 1:]\n",
    "test_data = test_data[:, :, 1:]"
   ]
  },
  {
   "cell_type": "code",
   "execution_count": 28,
   "metadata": {},
   "outputs": [
    {
     "data": {
      "text/plain": [
       "((20552, 116, 50), (2569, 116, 50), (2570, 116, 50))"
      ]
     },
     "execution_count": 28,
     "metadata": {},
     "output_type": "execute_result"
    }
   ],
   "source": [
    "# feature normalization\n",
    "train_data = train_data.reshape(-1, len(features))\n",
    "val_data = val_data.reshape(-1, len(features))\n",
    "test_data = test_data.reshape(-1, len(features))\n",
    "\n",
    "feature_scaler = StandardScaler()\n",
    "feature_scaler.fit(train_data)\n",
    "\n",
    "train_data = feature_scaler.transform(train_data)\n",
    "train_data = train_data.reshape(-1, maxlen, len(features))\n",
    "\n",
    "val_data = feature_scaler.transform(val_data)\n",
    "val_data = val_data.reshape(-1, maxlen, len(features))\n",
    "\n",
    "test_data = feature_scaler.transform(test_data)\n",
    "test_data = test_data.reshape(-1, maxlen, len(features))\n",
    "\n",
    "train_data.shape, val_data.shape, test_data.shape"
   ]
  },
  {
   "cell_type": "code",
   "execution_count": 29,
   "metadata": {},
   "outputs": [
    {
     "data": {
      "text/plain": [
       "((20552, 116, 2), (2569, 116, 2), (2570, 116, 2))"
      ]
     },
     "execution_count": 29,
     "metadata": {},
     "output_type": "execute_result"
    }
   ],
   "source": [
    "# label one-hot\n",
    "train_label = train_label.reshape(-1, maxlen, 1)\n",
    "val_label = val_label.reshape(-1, maxlen, 1)\n",
    "test_label = test_label.reshape(-1, maxlen, 1)\n",
    "\n",
    "train_label = to_categorical(train_label)\n",
    "val_label = to_categorical(val_label)\n",
    "test_label = to_categorical(test_label)\n",
    "\n",
    "train_label.shape, val_label.shape, test_label.shape"
   ]
  },
  {
   "cell_type": "markdown",
   "metadata": {},
   "source": [
    "# LSTM"
   ]
  },
  {
   "cell_type": "code",
   "execution_count": 30,
   "metadata": {},
   "outputs": [],
   "source": [
    "from tensorflow.keras.layers import Input, Conv1D, MaxPooling1D, GRU, Bidirectional, Dense, Dropout, Attention\n",
    "def get_model(max_len, feature_num):\n",
    "    \n",
    "    clear_session()\n",
    "    inputs = Input(shape=(max_len, feature_num), dtype='float32')\n",
    "    x = Dense(64, activation='relu')(inputs)\n",
    "    x = LSTM(32, return_sequences=True,activation='relu')(x)\n",
    "    x = Dropout(0.5)(x)\n",
    "    x = LSTM(32, return_sequences=True,activation='relu')(x)\n",
    "    x = Dropout(0.5)(x)\n",
    "    x = LSTM(32, return_sequences=True,activation='relu')(x)\n",
    "    x = Dense(32, activation='relu')(x)\n",
    "    outputs = Dense(2, activation='sigmoid')(x)\n",
    "\n",
    "    model = Model(inputs, outputs)\n",
    "    model.summary()\n",
    "    \n",
    "    return model"
   ]
  },
  {
   "cell_type": "code",
   "execution_count": 31,
   "metadata": {},
   "outputs": [
    {
     "name": "stdout",
     "output_type": "stream",
     "text": [
      "WARNING:tensorflow:From D:\\Anaconda\\envs\\tensorflow\\lib\\site-packages\\tensorflow_core\\python\\ops\\resource_variable_ops.py:1630: calling BaseResourceVariable.__init__ (from tensorflow.python.ops.resource_variable_ops) with constraint is deprecated and will be removed in a future version.\n",
      "Instructions for updating:\n",
      "If using Keras pass *_constraint arguments to layers.\n",
      "Model: \"model\"\n",
      "_________________________________________________________________\n",
      "Layer (type)                 Output Shape              Param #   \n",
      "=================================================================\n",
      "input_1 (InputLayer)         [(None, 116, 50)]         0         \n",
      "_________________________________________________________________\n",
      "dense (Dense)                (None, 116, 64)           3264      \n",
      "_________________________________________________________________\n",
      "lstm (LSTM)                  (None, 116, 32)           12416     \n",
      "_________________________________________________________________\n",
      "dropout (Dropout)            (None, 116, 32)           0         \n",
      "_________________________________________________________________\n",
      "lstm_1 (LSTM)                (None, 116, 32)           8320      \n",
      "_________________________________________________________________\n",
      "dropout_1 (Dropout)          (None, 116, 32)           0         \n",
      "_________________________________________________________________\n",
      "lstm_2 (LSTM)                (None, 116, 32)           8320      \n",
      "_________________________________________________________________\n",
      "dense_1 (Dense)              (None, 116, 32)           1056      \n",
      "_________________________________________________________________\n",
      "dense_2 (Dense)              (None, 116, 2)            66        \n",
      "=================================================================\n",
      "Total params: 33,442\n",
      "Trainable params: 33,442\n",
      "Non-trainable params: 0\n",
      "_________________________________________________________________\n"
     ]
    }
   ],
   "source": [
    "model_LSTM = get_model(max_len=maxlen, feature_num=len(features))"
   ]
  },
  {
   "cell_type": "code",
   "execution_count": 32,
   "metadata": {},
   "outputs": [
    {
     "name": "stdout",
     "output_type": "stream",
     "text": [
      "WARNING:tensorflow:From D:\\Anaconda\\envs\\tensorflow\\lib\\site-packages\\tensorflow_core\\python\\ops\\nn_impl.py:183: where (from tensorflow.python.ops.array_ops) is deprecated and will be removed in a future version.\n",
      "Instructions for updating:\n",
      "Use tf.where in 2.0, which has the same broadcast rule as np.where\n"
     ]
    }
   ],
   "source": [
    "adam = optimizers.Adam(lr=0.001)\n",
    "loss = BinaryCrossentropy(from_logits=False)\n",
    "k_auc = AUC()\n",
    "\n",
    "checkpoint = ModelCheckpoint(\n",
    "    MODEL_SAVE_PATH, \n",
    "    monitor='val_auc', \n",
    "    mode='max', \n",
    "    save_best_only=True\n",
    ")\n",
    "\n",
    "model_LSTM.compile(\n",
    "    optimizer=adam, \n",
    "    loss=loss,\n",
    "    metrics=[k_auc]\n",
    ")\n",
    "\n",
    "to_save['lr'] = 0.001"
   ]
  },
  {
   "cell_type": "code",
   "execution_count": 33,
   "metadata": {},
   "outputs": [
    {
     "name": "stdout",
     "output_type": "stream",
     "text": [
      "Train on 13133 samples, validate on 1642 samples\n",
      "13133/13133 [==============================] - 34s 3ms/sample - loss: 0.6833 - auc: 0.9030 - val_loss: 0.6631 - val_auc: 0.9512\n",
      "40.645675\n"
     ]
    }
   ],
   "source": [
    "time_start = datetime.now()\n",
    "history = model_LSTM.fit(\n",
    "    train_data, train_label,\n",
    "    validation_data=(val_data, val_label), \n",
    "    batch_size=2048, \n",
    "    epochs=1, \n",
    "    callbacks=[checkpoint])\n",
    "train_time = (datetime.now() - time_start).total_seconds()\n",
    "to_save['train_time'] = train_time\n",
    "print(train_time)"
   ]
  },
  {
   "cell_type": "code",
   "execution_count": 34,
   "metadata": {},
   "outputs": [],
   "source": [
    "test_LSTM = model_LSTM.predict(test_data)"
   ]
  },
  {
   "cell_type": "code",
   "execution_count": 35,
   "metadata": {},
   "outputs": [
    {
     "data": {
      "text/plain": [
       "((1642, 78, 2), (1642, 78, 2))"
      ]
     },
     "execution_count": 35,
     "metadata": {},
     "output_type": "execute_result"
    }
   ],
   "source": [
    "test_LSTM.shape,test_label.shape"
   ]
  },
  {
   "cell_type": "code",
   "execution_count": 36,
   "metadata": {},
   "outputs": [],
   "source": [
    "true_label=test_label.copy()"
   ]
  },
  {
   "cell_type": "code",
   "execution_count": 37,
   "metadata": {},
   "outputs": [
    {
     "name": "stdout",
     "output_type": "stream",
     "text": [
      "ROC AUC: 0.9544377133494165\n"
     ]
    }
   ],
   "source": [
    "from sklearn.metrics import roc_auc_score\n",
    "\n",
    "# 将三维数组转换为一维数组\n",
    "reshaped_test_LSTM = test_LSTM.flatten()\n",
    "reshaped_true_label = true_label.flatten()\n",
    "\n",
    "# 计算 ROC AUC\n",
    "roc_auc_LSTM = roc_auc_score(reshaped_true_label, reshaped_test_LSTM)\n",
    "print(f\"ROC AUC: {roc_auc_LSTM}\")"
   ]
  },
  {
   "cell_type": "code",
   "execution_count": 38,
   "metadata": {},
   "outputs": [
    {
     "name": "stdout",
     "output_type": "stream",
     "text": [
      "PR AUC: 0.9257153359781192\n"
     ]
    }
   ],
   "source": [
    "from sklearn.metrics import precision_recall_curve, auc,f1_score\n",
    "precision_LSTM, recall_LSTM, thresholds_LSTM = precision_recall_curve(reshaped_true_label, reshaped_test_LSTM)\n",
    "# 计算 PR AUC\n",
    "pr_auc_LSTM = auc(recall_LSTM, precision_LSTM)\n",
    "\n",
    "\n",
    "print(\"PR AUC:\", pr_auc_LSTM)\n"
   ]
  },
  {
   "cell_type": "code",
   "execution_count": 39,
   "metadata": {},
   "outputs": [
    {
     "name": "stdout",
     "output_type": "stream",
     "text": [
      "0.9544377133494164\n"
     ]
    }
   ],
   "source": [
    "fpr_LSTM, tpr_LSTM, thresholds_LSTM = roc_curve(reshaped_true_label, reshaped_test_LSTM, drop_intermediate=False)\n",
    "roc_auc_LSTM = auc(fpr_LSTM, tpr_LSTM)\n",
    "print(roc_auc_LSTM)"
   ]
  },
  {
   "cell_type": "code",
   "execution_count": 40,
   "metadata": {},
   "outputs": [],
   "source": [
    "true_test = test_LSTM.copy()"
   ]
  },
  {
   "cell_type": "code",
   "execution_count": 41,
   "metadata": {},
   "outputs": [
    {
     "name": "stdout",
     "output_type": "stream",
     "text": [
      "ERROR! Session/line number was not unique in database. History logging moved to new session 901\n",
      "0.9410570058271235\n"
     ]
    }
   ],
   "source": [
    "threshold = 0.5\n",
    "reshaped_test_LSTM = (reshaped_test_LSTM > threshold).astype(int)\n",
    "f1 = f1_score(reshaped_true_label, reshaped_test_LSTM)\n",
    "print(f1)"
   ]
  },
  {
   "cell_type": "code",
   "execution_count": 42,
   "metadata": {},
   "outputs": [],
   "source": [
    "true_label=test_label.copy()"
   ]
  },
  {
   "cell_type": "markdown",
   "metadata": {},
   "source": [
    "# RNN"
   ]
  },
  {
   "cell_type": "code",
   "execution_count": 41,
   "metadata": {},
   "outputs": [],
   "source": [
    "from tensorflow.keras.layers import Input, Conv1D, MaxPooling1D, GRU, Bidirectional, Dense, Dropout, Attention,SimpleRNN\n",
    "def get_model(max_len, feature_num):\n",
    "    \n",
    "    clear_session()\n",
    "    inputs = Input(shape=(max_len, feature_num), dtype='float32')\n",
    "    x = Dense(32, activation='relu')(inputs)\n",
    "    x = SimpleRNN(64, return_sequences=True,activation='relu')(x)\n",
    "    x = Dropout(0.5)(x)\n",
    "    x = SimpleRNN(64, return_sequences=True,activation='relu')(x)\n",
    "    x = Dropout(0.5)(x)\n",
    "    x = SimpleRNN(64, return_sequences=True,activation='relu')(x)\n",
    "    x = Dropout(0.5)(x)\n",
    "    outputs = Dense(2, activation='sigmoid')(x)\n",
    "\n",
    "    model = Model(inputs, outputs)\n",
    "    model.summary()\n",
    "    \n",
    "    return model"
   ]
  },
  {
   "cell_type": "code",
   "execution_count": 42,
   "metadata": {},
   "outputs": [
    {
     "name": "stdout",
     "output_type": "stream",
     "text": [
      "Model: \"model\"\n",
      "_________________________________________________________________\n",
      "Layer (type)                 Output Shape              Param #   \n",
      "=================================================================\n",
      "input_1 (InputLayer)         [(None, 116, 50)]         0         \n",
      "_________________________________________________________________\n",
      "dense (Dense)                (None, 116, 32)           1632      \n",
      "_________________________________________________________________\n",
      "simple_rnn (SimpleRNN)       (None, 116, 64)           6208      \n",
      "_________________________________________________________________\n",
      "dropout (Dropout)            (None, 116, 64)           0         \n",
      "_________________________________________________________________\n",
      "simple_rnn_1 (SimpleRNN)     (None, 116, 64)           8256      \n",
      "_________________________________________________________________\n",
      "dropout_1 (Dropout)          (None, 116, 64)           0         \n",
      "_________________________________________________________________\n",
      "simple_rnn_2 (SimpleRNN)     (None, 116, 64)           8256      \n",
      "_________________________________________________________________\n",
      "dropout_2 (Dropout)          (None, 116, 64)           0         \n",
      "_________________________________________________________________\n",
      "dense_1 (Dense)              (None, 116, 2)            130       \n",
      "=================================================================\n",
      "Total params: 24,482\n",
      "Trainable params: 24,482\n",
      "Non-trainable params: 0\n",
      "_________________________________________________________________\n"
     ]
    }
   ],
   "source": [
    "model_RNN = get_model(max_len=maxlen, feature_num=len(features))"
   ]
  },
  {
   "cell_type": "code",
   "execution_count": 43,
   "metadata": {},
   "outputs": [],
   "source": [
    "adam = optimizers.Adam(lr=0.001)\n",
    "loss = BinaryCrossentropy(from_logits=False)\n",
    "k_auc = AUC()\n",
    "\n",
    "checkpoint = ModelCheckpoint(\n",
    "    MODEL_SAVE_PATH, \n",
    "    monitor='val_auc', \n",
    "    mode='max', \n",
    "    save_best_only=True\n",
    ")\n",
    "\n",
    "model_RNN.compile(\n",
    "    optimizer=adam, \n",
    "    loss=loss,\n",
    "    metrics=[k_auc]\n",
    ")\n",
    "\n",
    "to_save['lr'] = 0.001"
   ]
  },
  {
   "cell_type": "code",
   "execution_count": 44,
   "metadata": {},
   "outputs": [
    {
     "name": "stdout",
     "output_type": "stream",
     "text": [
      "Train on 20552 samples, validate on 2569 samples\n",
      "20552/20552 [==============================] - 26s 1ms/sample - loss: 0.5977 - auc: 0.8570 - val_loss: 0.1688 - val_auc: 0.9845\n",
      "27.291415\n"
     ]
    }
   ],
   "source": [
    "time_start = datetime.now()\n",
    "history = model_RNN.fit(\n",
    "    train_data, train_label,\n",
    "    validation_data=(val_data, val_label), \n",
    "    batch_size=2048, \n",
    "    epochs=1, \n",
    "    callbacks=[checkpoint])\n",
    "train_time = (datetime.now() - time_start).total_seconds()\n",
    "to_save['train_time'] = train_time\n",
    "print(train_time)"
   ]
  },
  {
   "cell_type": "code",
   "execution_count": 71,
   "metadata": {},
   "outputs": [
    {
     "name": "stdout",
     "output_type": "stream",
     "text": [
      "0.9142877365949001\n"
     ]
    }
   ],
   "source": [
    "fpr_RNN, tpr_RNN, thresholds_our = roc_curve(reshaped_true_label, reshaped_test_RNN)\n",
    "roc_auc_RNN = auc(fpr_RNN, tpr_RNN)\n",
    "print(roc_auc_RNN)"
   ]
  },
  {
   "cell_type": "code",
   "execution_count": 72,
   "metadata": {},
   "outputs": [
    {
     "name": "stdout",
     "output_type": "stream",
     "text": [
      "PR AUC: 0.8757921886763834\n",
      "0.941053687907677\n"
     ]
    }
   ],
   "source": [
    "from sklearn.metrics import precision_recall_curve, auc,f1_score\n",
    "precision_RNN, recall_RNN, thresholds = precision_recall_curve(reshaped_true_label, reshaped_test_RNN)\n",
    "# 计算 PR AUC\n",
    "pr_auc_RNN= auc(recall_RNN, precision_RNN)\n",
    "\n",
    "\n",
    "print(\"PR AUC:\", pr_auc_RNN)\n",
    "threshold = 0.5\n",
    "reshaped_test_RNN = (reshaped_test_RNN > threshold).astype(int)\n",
    "f1 = f1_score(reshaped_true_label, reshaped_test_RNN)\n",
    "print(f1)"
   ]
  },
  {
   "cell_type": "markdown",
   "metadata": {},
   "source": [
    "# GRU"
   ]
  },
  {
   "cell_type": "code",
   "execution_count": 46,
   "metadata": {},
   "outputs": [],
   "source": [
    "from tensorflow.keras.layers import Input, Conv1D, MaxPooling1D, GRU, Bidirectional, Dense, Dropout, Attention\n",
    "def get_model(max_len, feature_num):\n",
    "    \n",
    "    clear_session()\n",
    "    inputs = Input(shape=(max_len, feature_num), dtype='float32')\n",
    "    x = Dense(64, activation='relu')(inputs)\n",
    "    x = GRU(64, return_sequences=True,activation='relu')(x)\n",
    "    x = Dropout(0.5)(x)\n",
    "    x = GRU(64, return_sequences=True,activation='relu')(x)\n",
    "    x = Dropout(0.5)(x)\n",
    "    x = GRU(64, return_sequences=True,activation='relu')(x)\n",
    "    x = Dropout(0.5)(x)\n",
    "    x = Dense(64, activation='relu')(x)\n",
    "    outputs = Dense(2, activation='sigmoid')(x)\n",
    "\n",
    "    model = Model(inputs, outputs)\n",
    "    model.summary()\n",
    "    return model"
   ]
  },
  {
   "cell_type": "code",
   "execution_count": 47,
   "metadata": {},
   "outputs": [
    {
     "name": "stdout",
     "output_type": "stream",
     "text": [
      "Model: \"model\"\n",
      "_________________________________________________________________\n",
      "Layer (type)                 Output Shape              Param #   \n",
      "=================================================================\n",
      "input_1 (InputLayer)         [(None, 116, 50)]         0         \n",
      "_________________________________________________________________\n",
      "dense (Dense)                (None, 116, 64)           3264      \n",
      "_________________________________________________________________\n",
      "gru (GRU)                    (None, 116, 64)           24768     \n",
      "_________________________________________________________________\n",
      "dropout (Dropout)            (None, 116, 64)           0         \n",
      "_________________________________________________________________\n",
      "gru_1 (GRU)                  (None, 116, 64)           24768     \n",
      "_________________________________________________________________\n",
      "dropout_1 (Dropout)          (None, 116, 64)           0         \n",
      "_________________________________________________________________\n",
      "gru_2 (GRU)                  (None, 116, 64)           24768     \n",
      "_________________________________________________________________\n",
      "dropout_2 (Dropout)          (None, 116, 64)           0         \n",
      "_________________________________________________________________\n",
      "dense_1 (Dense)              (None, 116, 64)           4160      \n",
      "_________________________________________________________________\n",
      "dense_2 (Dense)              (None, 116, 2)            130       \n",
      "=================================================================\n",
      "Total params: 81,858\n",
      "Trainable params: 81,858\n",
      "Non-trainable params: 0\n",
      "_________________________________________________________________\n"
     ]
    }
   ],
   "source": [
    "model_GRU = get_model(max_len=maxlen, feature_num=len(features))"
   ]
  },
  {
   "cell_type": "code",
   "execution_count": 48,
   "metadata": {},
   "outputs": [],
   "source": [
    "adam = optimizers.Adam(lr=0.001)\n",
    "loss = BinaryCrossentropy(from_logits=False)\n",
    "k_auc = AUC()\n",
    "\n",
    "checkpoint = ModelCheckpoint(\n",
    "    MODEL_SAVE_PATH, \n",
    "    monitor='val_auc', \n",
    "    mode='max', \n",
    "    save_best_only=True\n",
    ")\n",
    "\n",
    "model_GRU.compile(\n",
    "    optimizer=adam, \n",
    "    loss=loss,\n",
    "    metrics=[k_auc]\n",
    ")\n",
    "\n",
    "to_save['lr'] = 0.001"
   ]
  },
  {
   "cell_type": "code",
   "execution_count": null,
   "metadata": {},
   "outputs": [
    {
     "name": "stdout",
     "output_type": "stream",
     "text": [
      "Train on 20552 samples, validate on 2569 samples\n",
      " 4096/20552 [====>.........................] - ETA: 35s - loss: 0.6840 - auc: 0.7986"
     ]
    }
   ],
   "source": [
    "time_start = datetime.now()\n",
    "history = model_GRU.fit(\n",
    "    train_data, train_label,\n",
    "    validation_data=(val_data, val_label), \n",
    "    batch_size=2048, \n",
    "    epochs=1, \n",
    "    callbacks=[checkpoint])\n",
    "train_time = (datetime.now() - time_start).total_seconds()\n",
    "to_save['train_time'] = train_time\n",
    "print(train_time)"
   ]
  },
  {
   "cell_type": "code",
   "execution_count": 77,
   "metadata": {},
   "outputs": [
    {
     "name": "stdout",
     "output_type": "stream",
     "text": [
      "ROC AUC: 0.9995876028126025\n"
     ]
    }
   ],
   "source": [
    "test_GRU = model_GRU.predict(test_data)\n",
    "from sklearn.metrics import roc_auc_score\n",
    "\n",
    "# 将三维数组转换为一维数组\n",
    "reshaped_test_GRU = test_GRU.flatten()\n",
    "#reshaped_true_label = true_label.flatten()\n",
    "\n",
    "# 计算 ROC AUC\n",
    "roc_auc_GRU = roc_auc_score(reshaped_true_label, reshaped_test_GRU)\n",
    "print(f\"ROC AUC: {roc_auc_GRU}\")"
   ]
  },
  {
   "cell_type": "code",
   "execution_count": 167,
   "metadata": {},
   "outputs": [
    {
     "name": "stdout",
     "output_type": "stream",
     "text": [
      "0.8380102040816326\n"
     ]
    }
   ],
   "source": [
    "fpr_GRU, tpr_GRU, thresholds_GRU = roc_curve(reshaped_true_label, reshaped_test_GRU)\n",
    "roc_auc_GRU = auc(fpr_GRU, tpr_GRU)\n",
    "print(roc_auc_GRU)"
   ]
  },
  {
   "cell_type": "code",
   "execution_count": 168,
   "metadata": {},
   "outputs": [
    {
     "name": "stdout",
     "output_type": "stream",
     "text": [
      "PR AUC: 0.78685834622901\n",
      "0.8928571428571429\n"
     ]
    }
   ],
   "source": [
    "from sklearn.metrics import precision_recall_curve, auc,f1_score\n",
    "precision_GRU, recall_GRU, thresholds = precision_recall_curve(reshaped_true_label, reshaped_test_GRU)\n",
    "# 计算 PR AUC\n",
    "pr_auc_GRU= auc(recall_GRU, precision_GRU)\n",
    "\n",
    "\n",
    "print(\"PR AUC:\", pr_auc_GRU)\n",
    "threshold = 0.5\n",
    "reshaped_test_GRU = (reshaped_test_GRU > threshold).astype(int)\n",
    "f1 = f1_score(reshaped_true_label, reshaped_test_GRU)\n",
    "print(f1)"
   ]
  }
 ],
 "metadata": {
  "kernelspec": {
   "display_name": "Python 3",
   "language": "python",
   "name": "python3"
  },
  "language_info": {
   "codemirror_mode": {
    "name": "ipython",
    "version": 3
   },
   "file_extension": ".py",
   "mimetype": "text/x-python",
   "name": "python",
   "nbconvert_exporter": "python",
   "pygments_lexer": "ipython3",
   "version": "3.6.13"
  }
 },
 "nbformat": 4,
 "nbformat_minor": 2
}
