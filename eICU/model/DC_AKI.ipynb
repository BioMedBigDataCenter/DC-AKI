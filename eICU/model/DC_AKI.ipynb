{
 "cells": [
  {
   "cell_type": "code",
   "execution_count": 7,
   "metadata": {},
   "outputs": [],
   "source": [
    "import os\n",
    "import gc\n",
    "import pandas as pd\n",
    "import numpy as np\n",
    "from datetime import datetime\n",
    "from math import ceil\n",
    "from tqdm import tqdm\n",
    "from collections import Counter\n",
    "\n",
    "from sklearn.preprocessing import StandardScaler\n",
    "from sklearn.model_selection import train_test_split\n",
    "from sklearn.metrics import roc_curve, roc_auc_score, recall_score, accuracy_score, auc, f1_score, matthews_corrcoef, precision_score, precision_recall_curve, confusion_matrix\n",
    "\n",
    "import tensorflow as tf\n",
    "#tf.enable_eager_execution()\n",
    "from tensorflow.keras.preprocessing.sequence import pad_sequences\n",
    "from tensorflow.keras import Sequential, optimizers\n",
    "from tensorflow.keras.models import load_model, Model\n",
    "from tensorflow.keras.layers import LSTM, Dense, Activation, Dropout, Input, GRU\n",
    "from tensorflow.keras.losses import BinaryCrossentropy\n",
    "from tensorflow.keras.metrics import AUC\n",
    "from tensorflow.keras.backend import clear_session\n",
    "from tensorflow.keras.callbacks import ModelCheckpoint\n",
    "from tensorflow.keras.utils import to_categorical\n",
    "\n",
    "from tensorflow.compat.v1.keras.layers import LSTM\n",
    "\n",
    "seed = 8888\n",
    "os.environ['PYTHONHASHSEED']=str(seed)\n",
    "np.random.seed(seed)\n",
    "tf.set_random_seed(seed)\n",
    "\n",
    "to_save = {}\n",
    "to_save['random_seed'] = seed"
   ]
  },
  {
   "cell_type": "code",
   "execution_count": 9,
   "metadata": {},
   "outputs": [
    {
     "name": "stdout",
     "output_type": "stream",
     "text": [
      "ERROR! Session/line number was not unique in database. History logging moved to new session 837\n"
     ]
    }
   ],
   "source": [
    "def find_optimal_cutoff(TPRs, FPRs, thresholds):\n",
    "    \"\"\"\n",
    "    Find the optimal classification threshold, where the distance between TPR and FPR is maximum\n",
    "    :param TPRs: TPR values at different thresholds\n",
    "    :param FPRs: FPR values at different thresholds\n",
    "    :param thresholds: Different classification thresholds\n",
    "    :return: optimal classification threshold, (optimal TPR, optimal FPR)\n",
    "    \"\"\"\n",
    "    distance = TPRs - FPRs\n",
    "    idx = np.argmax(distance)  # Only the first occurrence is returned.\n",
    "    optimal_threshold = thresholds[idx]\n",
    "    optimal_point = (TPRs[idx], FPRs[idx])\n",
    "    \n",
    "    return optimal_threshold, optimal_point\n",
    "\n",
    "\n",
    "def roc_values(y_true, y_proba):\n",
    "    \"\"\"\n",
    "    Get FPRs, TPRs, AUC value, optimal classification threshold, optimal TPR and optimal FPR of ROC curve\n",
    "    :param y_true: True values list of sample labels\n",
    "    :param y_proba: Model-predicted probability of AKI\n",
    "    :return: FPRs, TPRs, AUC value, optimal classification threshold, (optimal TPR, optimal FPR)\n",
    "    \"\"\"\n",
    "    fprs, tprs, thresholds = roc_curve(y_true, y_proba, pos_label=1)\n",
    "    roc_auc = auc(fprs, tprs)\n",
    "    optimal_threshold, optimal_point = find_optimal_cutoff(TPRs=tprs, FPRs=fprs, thresholds=thresholds)\n",
    "    \n",
    "    return fprs, tprs, roc_auc, optimal_threshold, optimal_point\n",
    "\n",
    "\n",
    "def get_set(id_list, id_col, time_col, data):\n",
    "    \"\"\"\n",
    "    Get patient data for the specified ID list\n",
    "    :param id_col: Name of ID column\n",
    "    :param time_col: Name of timestamp column\n",
    "    :param data: DataFrame of patient data\n",
    "    :return: Patient data for the specified ID list\n",
    "    \"\"\"\n",
    "    data = data[data[id_col].isin(id_list)].sort_values(by=[id_col, time_col], ascending=True)\n",
    "    data.reset_index(drop=True, inplace=True)\n",
    "    \n",
    "    return data\n",
    "\n",
    "\n",
    "def performance(label, proba, pred):\n",
    "    \"\"\"\n",
    "    Get model evaluation metrics\n",
    "    :param label: True values list of sample labels\n",
    "    :param proba: Model-predicted probability of AKI\n",
    "    :param pred: Predicted values under the optimal classification threshold\n",
    "    :return: Accuracy, Recall, MCC, Precision, F1-score, AUC, FPR\n",
    "    \"\"\"\n",
    "    acc = accuracy_score(label, pred)\n",
    "    recall = recall_score(label, pred, pos_label=1)\n",
    "    mcc = matthews_corrcoef(label, pred)\n",
    "    precision = precision_score(label, pred)\n",
    "    f1 = f1_score(label, pred)\n",
    "    roc_auc = roc_auc_score(label, proba)\n",
    "    tn, fp, fn, tp = confusion_matrix(label, pred).ravel()\n",
    "    fpr = fp/(fp+tn)\n",
    "    \n",
    "    print(f'accuracy: {acc:.4f}')\n",
    "    print(f'recall: {recall:.4f}')\n",
    "    print(f'AUC: {roc_auc:.4f}')\n",
    "    print(f'MCC: {mcc:.4f}')\n",
    "    print(f'precision: {precision:.4f}')\n",
    "    print(f'F1: {f1:.4f}')\n",
    "    print(f'FPR: {fpr:.4f}')\n",
    "    \n",
    "    return acc, recall, mcc, precision, f1, roc_auc, fpr"
   ]
  },
  {
   "cell_type": "code",
   "execution_count": 10,
   "metadata": {},
   "outputs": [],
   "source": [
    "BATCH_SIZE = 16\n",
    "EPOCHS = 5\n",
    "\n",
    "# Imputing(feature and label)\n",
    "FILL_WITH_ZERO = True\n",
    "FILL_VALUE = 0\n",
    "\n",
    "LABEL_COLUMN = 'aki_stage'\n",
    "# Resample interval\n",
    "RSMP = 6\n",
    "# Advance prediction time\n",
    "SFT = 48\n",
    "# FEATURE_SET = 'SCr_lab_vit_dem_med_pro'\n",
    "\n",
    "DATA_PATH = f'./data_con_eICU.tsv'\n",
    "MODEL_SAVE_PATH = './DC-AKI_eICU.h5'\n",
    "TEST_RESULT_PATH = f'./predict_result/DC-AKI_eICU_continuous.csv'\n",
    "TRAINING_PARAM_PATH = './result.xls'\n",
    "\n",
    "to_save['batch_size'] = BATCH_SIZE\n",
    "to_save['epoch'] = EPOCHS\n",
    "to_save['imputation'] = 'fill with zero'\n",
    "to_save['resample_interval'] = RSMP\n",
    "to_save['prediction_ahead'] = SFT\n",
    "to_save['data_dev_path'] = DATA_PATH\n",
    "to_save['data_external_path'] = DATA_EXTERNAL_PATH\n",
    "to_save['model_path'] = MODEL_SAVE_PATH\n",
    "to_save['test_result_path'] = TEST_RESULT_PATH\n",
    "to_save['external_result_path'] = EXTERNAL_RESULT_PATH"
   ]
  },
  {
   "cell_type": "code",
   "execution_count": 11,
   "metadata": {},
   "outputs": [
    {
     "name": "stdout",
     "output_type": "stream",
     "text": [
      "Sample num: 19799\n"
     ]
    },
    {
     "data": {
      "text/plain": [
       "(867140, 33)"
      ]
     },
     "execution_count": 11,
     "metadata": {},
     "output_type": "execute_result"
    }
   ],
   "source": [
    "data_ori = pd.read_csv(DATA_PATH, sep='\\t')\n",
    "if 'patient_id' in data_ori.columns:\n",
    "    data_ori.rename(columns={'patient_id': 'stay_id', '检验日期': 'charttime'}, inplace=True)\n",
    "id_col, time_col = 'stay_id', 'charttime'\n",
    "print(f'Sample num: {data_ori.stay_id.nunique()}')\n",
    "data_ori.shape"
   ]
  },
  {
   "cell_type": "code",
   "execution_count": 12,
   "metadata": {},
   "outputs": [
    {
     "data": {
      "text/html": [
       "<div>\n",
       "<style scoped>\n",
       "    .dataframe tbody tr th:only-of-type {\n",
       "        vertical-align: middle;\n",
       "    }\n",
       "\n",
       "    .dataframe tbody tr th {\n",
       "        vertical-align: top;\n",
       "    }\n",
       "\n",
       "    .dataframe thead th {\n",
       "        text-align: right;\n",
       "    }\n",
       "</style>\n",
       "<table border=\"1\" class=\"dataframe\">\n",
       "  <thead>\n",
       "    <tr style=\"text-align: right;\">\n",
       "      <th></th>\n",
       "      <th>stay_id</th>\n",
       "      <th>charttime</th>\n",
       "      <th>akistage</th>\n",
       "      <th>index</th>\n",
       "      <th>heartrate</th>\n",
       "      <th>sao2</th>\n",
       "      <th>ptt</th>\n",
       "      <th>pt</th>\n",
       "      <th>bun</th>\n",
       "      <th>age</th>\n",
       "      <th>...</th>\n",
       "      <th>unitadmitsource_Acute Care/Floor</th>\n",
       "      <th>unitadmitsource_Chest Pain Center</th>\n",
       "      <th>unitadmitsource_Direct Admit</th>\n",
       "      <th>unitadmitsource_Emergency Department</th>\n",
       "      <th>unitadmitsource_Floor</th>\n",
       "      <th>unitadmitsource_ICU</th>\n",
       "      <th>unitadmitsource_Observation</th>\n",
       "      <th>unitadmitsource_Other</th>\n",
       "      <th>unitadmitsource_Room</th>\n",
       "      <th>unitadmitsource_Step-Down Unit (SDU)</th>\n",
       "    </tr>\n",
       "  </thead>\n",
       "  <tbody>\n",
       "    <tr>\n",
       "      <th>0</th>\n",
       "      <td>141244</td>\n",
       "      <td>0 days 01:26:00</td>\n",
       "      <td>0.0</td>\n",
       "      <td>0</td>\n",
       "      <td>99.0</td>\n",
       "      <td>965.0</td>\n",
       "      <td>NaN</td>\n",
       "      <td>NaN</td>\n",
       "      <td>NaN</td>\n",
       "      <td>59.0</td>\n",
       "      <td>...</td>\n",
       "      <td>0.0</td>\n",
       "      <td>0.0</td>\n",
       "      <td>0.0</td>\n",
       "      <td>0.0</td>\n",
       "      <td>0.0</td>\n",
       "      <td>0.0</td>\n",
       "      <td>0.0</td>\n",
       "      <td>0.0</td>\n",
       "      <td>1.0</td>\n",
       "      <td>0.0</td>\n",
       "    </tr>\n",
       "    <tr>\n",
       "      <th>1</th>\n",
       "      <td>141244</td>\n",
       "      <td>0 days 01:28:00</td>\n",
       "      <td>0.0</td>\n",
       "      <td>1</td>\n",
       "      <td>95.0</td>\n",
       "      <td>2580.0</td>\n",
       "      <td>NaN</td>\n",
       "      <td>NaN</td>\n",
       "      <td>NaN</td>\n",
       "      <td>59.0</td>\n",
       "      <td>...</td>\n",
       "      <td>0.0</td>\n",
       "      <td>0.0</td>\n",
       "      <td>0.0</td>\n",
       "      <td>0.0</td>\n",
       "      <td>0.0</td>\n",
       "      <td>0.0</td>\n",
       "      <td>0.0</td>\n",
       "      <td>0.0</td>\n",
       "      <td>1.0</td>\n",
       "      <td>0.0</td>\n",
       "    </tr>\n",
       "    <tr>\n",
       "      <th>2</th>\n",
       "      <td>141244</td>\n",
       "      <td>0 days 01:30:00</td>\n",
       "      <td>0.0</td>\n",
       "      <td>2</td>\n",
       "      <td>95.0</td>\n",
       "      <td>2565.0</td>\n",
       "      <td>NaN</td>\n",
       "      <td>NaN</td>\n",
       "      <td>NaN</td>\n",
       "      <td>59.0</td>\n",
       "      <td>...</td>\n",
       "      <td>0.0</td>\n",
       "      <td>0.0</td>\n",
       "      <td>0.0</td>\n",
       "      <td>0.0</td>\n",
       "      <td>0.0</td>\n",
       "      <td>0.0</td>\n",
       "      <td>0.0</td>\n",
       "      <td>0.0</td>\n",
       "      <td>1.0</td>\n",
       "      <td>0.0</td>\n",
       "    </tr>\n",
       "    <tr>\n",
       "      <th>3</th>\n",
       "      <td>141244</td>\n",
       "      <td>0 days 01:32:00</td>\n",
       "      <td>0.0</td>\n",
       "      <td>3</td>\n",
       "      <td>98.0</td>\n",
       "      <td>2625.0</td>\n",
       "      <td>NaN</td>\n",
       "      <td>NaN</td>\n",
       "      <td>NaN</td>\n",
       "      <td>59.0</td>\n",
       "      <td>...</td>\n",
       "      <td>0.0</td>\n",
       "      <td>0.0</td>\n",
       "      <td>0.0</td>\n",
       "      <td>0.0</td>\n",
       "      <td>0.0</td>\n",
       "      <td>0.0</td>\n",
       "      <td>0.0</td>\n",
       "      <td>0.0</td>\n",
       "      <td>1.0</td>\n",
       "      <td>0.0</td>\n",
       "    </tr>\n",
       "    <tr>\n",
       "      <th>4</th>\n",
       "      <td>141244</td>\n",
       "      <td>0 days 01:34:00</td>\n",
       "      <td>0.0</td>\n",
       "      <td>4</td>\n",
       "      <td>95.0</td>\n",
       "      <td>3380.0</td>\n",
       "      <td>NaN</td>\n",
       "      <td>NaN</td>\n",
       "      <td>NaN</td>\n",
       "      <td>59.0</td>\n",
       "      <td>...</td>\n",
       "      <td>0.0</td>\n",
       "      <td>0.0</td>\n",
       "      <td>0.0</td>\n",
       "      <td>0.0</td>\n",
       "      <td>0.0</td>\n",
       "      <td>0.0</td>\n",
       "      <td>0.0</td>\n",
       "      <td>0.0</td>\n",
       "      <td>1.0</td>\n",
       "      <td>0.0</td>\n",
       "    </tr>\n",
       "  </tbody>\n",
       "</table>\n",
       "<p>5 rows × 33 columns</p>\n",
       "</div>"
      ],
      "text/plain": [
       "   stay_id        charttime  akistage  index  heartrate    sao2  ptt  pt  bun  \\\n",
       "0   141244  0 days 01:26:00       0.0      0       99.0   965.0  NaN NaN  NaN   \n",
       "1   141244  0 days 01:28:00       0.0      1       95.0  2580.0  NaN NaN  NaN   \n",
       "2   141244  0 days 01:30:00       0.0      2       95.0  2565.0  NaN NaN  NaN   \n",
       "3   141244  0 days 01:32:00       0.0      3       98.0  2625.0  NaN NaN  NaN   \n",
       "4   141244  0 days 01:34:00       0.0      4       95.0  3380.0  NaN NaN  NaN   \n",
       "\n",
       "    age  ...  unitadmitsource_Acute Care/Floor  \\\n",
       "0  59.0  ...                               0.0   \n",
       "1  59.0  ...                               0.0   \n",
       "2  59.0  ...                               0.0   \n",
       "3  59.0  ...                               0.0   \n",
       "4  59.0  ...                               0.0   \n",
       "\n",
       "   unitadmitsource_Chest Pain Center  unitadmitsource_Direct Admit  \\\n",
       "0                                0.0                           0.0   \n",
       "1                                0.0                           0.0   \n",
       "2                                0.0                           0.0   \n",
       "3                                0.0                           0.0   \n",
       "4                                0.0                           0.0   \n",
       "\n",
       "   unitadmitsource_Emergency Department  unitadmitsource_Floor  \\\n",
       "0                                   0.0                    0.0   \n",
       "1                                   0.0                    0.0   \n",
       "2                                   0.0                    0.0   \n",
       "3                                   0.0                    0.0   \n",
       "4                                   0.0                    0.0   \n",
       "\n",
       "   unitadmitsource_ICU  unitadmitsource_Observation  unitadmitsource_Other  \\\n",
       "0                  0.0                          0.0                    0.0   \n",
       "1                  0.0                          0.0                    0.0   \n",
       "2                  0.0                          0.0                    0.0   \n",
       "3                  0.0                          0.0                    0.0   \n",
       "4                  0.0                          0.0                    0.0   \n",
       "\n",
       "   unitadmitsource_Room  unitadmitsource_Step-Down Unit (SDU)  \n",
       "0                   1.0                                   0.0  \n",
       "1                   1.0                                   0.0  \n",
       "2                   1.0                                   0.0  \n",
       "3                   1.0                                   0.0  \n",
       "4                   1.0                                   0.0  \n",
       "\n",
       "[5 rows x 33 columns]"
      ]
     },
     "execution_count": 12,
     "metadata": {},
     "output_type": "execute_result"
    }
   ],
   "source": [
    "data_ori.head()"
   ]
  },
  {
   "cell_type": "code",
   "execution_count": 13,
   "metadata": {},
   "outputs": [
    {
     "data": {
      "text/plain": [
       "Index(['stay_id', 'charttime', 'akistage', 'index', 'heartrate', 'sao2', 'ptt',\n",
       "       'pt', 'bun', 'age', 'hospitaladmitoffset', 'gender_Female',\n",
       "       'gender_Male', 'gender_Unknown', 'ethnicity_',\n",
       "       'ethnicity_African American', 'ethnicity_Asian', 'ethnicity_Caucasian',\n",
       "       'ethnicity_Hispanic', 'ethnicity_Native American',\n",
       "       'ethnicity_Other/Unknown', 'unitadmitsource_', 'unitadmitsource_ACU',\n",
       "       'unitadmitsource_Acute Care/Floor', 'unitadmitsource_Chest Pain Center',\n",
       "       'unitadmitsource_Direct Admit', 'unitadmitsource_Emergency Department',\n",
       "       'unitadmitsource_Floor', 'unitadmitsource_ICU',\n",
       "       'unitadmitsource_Observation', 'unitadmitsource_Other',\n",
       "       'unitadmitsource_Room', 'unitadmitsource_Step-Down Unit (SDU)'],\n",
       "      dtype='object')"
      ]
     },
     "execution_count": 13,
     "metadata": {},
     "output_type": "execute_result"
    }
   ],
   "source": [
    "data_ori.columns"
   ]
  },
  {
   "cell_type": "code",
   "execution_count": 14,
   "metadata": {},
   "outputs": [],
   "source": [
    "data_ori = data_ori.rename(columns={'akistage': 'aki_stage'})"
   ]
  },
  {
   "cell_type": "code",
   "execution_count": 15,
   "metadata": {},
   "outputs": [],
   "source": [
    "others = [id_col, time_col, LABEL_COLUMN]"
   ]
  },
  {
   "cell_type": "code",
   "execution_count": 16,
   "metadata": {},
   "outputs": [
    {
     "name": "stdout",
     "output_type": "stream",
     "text": [
      "Sample_num: 17482\n",
      "AKI_label: [0. 1.]\n"
     ]
    },
    {
     "data": {
      "text/plain": [
       "(715739, 33)"
      ]
     },
     "execution_count": 16,
     "metadata": {},
     "output_type": "execute_result"
    }
   ],
   "source": [
    "data = data_ori.copy()\n",
    "# Label imputing\n",
    "data[LABEL_COLUMN].fillna(FILL_VALUE, inplace=True)\n",
    "data[LABEL_COLUMN] = data.groupby(id_col)[LABEL_COLUMN].shift(-(SFT/RSMP))\n",
    "data.dropna(subset=[LABEL_COLUMN], how='all', inplace=True)\n",
    "data[LABEL_COLUMN].replace([2, 3], [1, 1], inplace=True)\n",
    "    \n",
    "print(f'Sample_num: {data[id_col].nunique()}')\n",
    "print(f'AKI_label: {data[LABEL_COLUMN].unique()}')\n",
    "data.shape"
   ]
  },
  {
   "cell_type": "code",
   "execution_count": 17,
   "metadata": {},
   "outputs": [],
   "source": [
    "positive_samples = data[data['aki_stage'] == 1]\n",
    "negative_samples = data[data['aki_stage'] == 0]\n",
    "\n",
    "undersampled_negative = negative_samples.sample(n=100, replace=False, random_state=42)\n",
    "undersampled_data = pd.concat([positive_samples, undersampled_negative], axis=0)\n",
    "\n",
    "# 打乱数据，确保随机性\n",
    "undersampled = undersampled_data.sample(frac=1, random_state=42).reset_index(drop=True)\n",
    "data = undersampled.copy()"
   ]
  },
  {
   "cell_type": "code",
   "execution_count": 18,
   "metadata": {},
   "outputs": [
    {
     "name": "stdout",
     "output_type": "stream",
     "text": [
      "标签数量统计: Counter({0.0: 99, 1.0: 38})\n",
      "AKI病人占比: 0.2774\n"
     ]
    }
   ],
   "source": [
    "aki = data[[id_col, LABEL_COLUMN]].copy()\n",
    "aki = aki.groupby([id_col]).max()\n",
    "c = Counter(aki[LABEL_COLUMN].values)\n",
    "print(f'标签数量统计: {c}')\n",
    "print(f'AKI病人占比: {c[1]/len(aki):.4f}')\n",
    "to_save['AKI_ratio'] = c[1]/len(aki)"
   ]
  },
  {
   "cell_type": "code",
   "execution_count": 19,
   "metadata": {},
   "outputs": [],
   "source": [
    "#data.charttime = pd.to_datetime(data.charttime)\n",
    "data.sort_values(by=[id_col, time_col], ascending=True, inplace=True)\n",
    "data.reset_index(drop=True, inplace=True)"
   ]
  },
  {
   "cell_type": "code",
   "execution_count": 20,
   "metadata": {},
   "outputs": [],
   "source": [
    "new_column_order = [col for col in data.columns if col != 'aki_stage'] + ['aki_stage']\n",
    "data = data[new_column_order]"
   ]
  },
  {
   "cell_type": "code",
   "execution_count": 21,
   "metadata": {},
   "outputs": [
    {
     "name": "stdout",
     "output_type": "stream",
     "text": [
      "['stay_id', 'charttime', 'index', 'heartrate', 'sao2', 'ptt', 'pt', 'bun', 'age', 'hospitaladmitoffset', 'gender_Female', 'gender_Male', 'gender_Unknown', 'ethnicity_', 'ethnicity_African American', 'ethnicity_Asian', 'ethnicity_Caucasian', 'ethnicity_Hispanic', 'ethnicity_Native American', 'ethnicity_Other/Unknown', 'unitadmitsource_', 'unitadmitsource_ACU', 'unitadmitsource_Acute Care/Floor', 'unitadmitsource_Chest Pain Center', 'unitadmitsource_Direct Admit', 'unitadmitsource_Emergency Department', 'unitadmitsource_Floor', 'unitadmitsource_ICU', 'unitadmitsource_Observation', 'unitadmitsource_Other', 'unitadmitsource_Room', 'unitadmitsource_Step-Down Unit (SDU)', 'aki_stage']\n"
     ]
    }
   ],
   "source": [
    "column_order = data.columns.tolist()\n",
    "print(column_order)"
   ]
  },
  {
   "cell_type": "code",
   "execution_count": 22,
   "metadata": {
    "scrolled": false
   },
   "outputs": [],
   "source": [
    "data.drop(columns=['hospitaladmitoffset','index'], inplace=True)"
   ]
  },
  {
   "cell_type": "code",
   "execution_count": 28,
   "metadata": {
    "scrolled": true
   },
   "outputs": [
    {
     "name": "stdout",
     "output_type": "stream",
     "text": [
      "Sample num: 137, Feature num: 28\n",
      "\n",
      "features: ['age', 'bun', 'ethnicity_', 'ethnicity_African American', 'ethnicity_Asian', 'ethnicity_Caucasian', 'ethnicity_Hispanic', 'ethnicity_Native American', 'ethnicity_Other/Unknown', 'gender_Female', 'gender_Male', 'gender_Unknown', 'heartrate', 'pt', 'ptt', 'sao2', 'unitadmitsource_', 'unitadmitsource_ACU', 'unitadmitsource_Acute Care/Floor', 'unitadmitsource_Chest Pain Center', 'unitadmitsource_Direct Admit', 'unitadmitsource_Emergency Department', 'unitadmitsource_Floor', 'unitadmitsource_ICU', 'unitadmitsource_Observation', 'unitadmitsource_Other', 'unitadmitsource_Room', 'unitadmitsource_Step-Down Unit (SDU)']\n"
     ]
    }
   ],
   "source": [
    "icustays = data.stay_id.unique().tolist()\n",
    "features = data.columns.difference(others).tolist()\n",
    "\n",
    "print(f'Sample num: {len(icustays)}, Feature num: {len(features)}\\n')\n",
    "print(f'features: {features}')\n",
    "\n",
    "to_save['sample_num'] = len(icustays)\n",
    "to_save['feature_num'] = len(features)"
   ]
  },
  {
   "cell_type": "code",
   "execution_count": null,
   "metadata": {},
   "outputs": [],
   "source": [
    "columns_to_drop = ['index', 'hospitaladmitoffset']\n",
    "data.drop(columns=columns_to_drop, inplace=True)\n",
    "features.remove('index')"
   ]
  },
  {
   "cell_type": "code",
   "execution_count": null,
   "metadata": {},
   "outputs": [],
   "source": [
    "features.remove('hospitaladmitoffset')"
   ]
  },
  {
   "cell_type": "code",
   "execution_count": 24,
   "metadata": {},
   "outputs": [
    {
     "data": {
      "text/plain": [
       "Index(['stay_id', 'charttime', 'heartrate', 'sao2', 'ptt', 'pt', 'bun', 'age',\n",
       "       'gender_Female', 'gender_Male', 'gender_Unknown', 'ethnicity_',\n",
       "       'ethnicity_African American', 'ethnicity_Asian', 'ethnicity_Caucasian',\n",
       "       'ethnicity_Hispanic', 'ethnicity_Native American',\n",
       "       'ethnicity_Other/Unknown', 'unitadmitsource_', 'unitadmitsource_ACU',\n",
       "       'unitadmitsource_Acute Care/Floor', 'unitadmitsource_Chest Pain Center',\n",
       "       'unitadmitsource_Direct Admit', 'unitadmitsource_Emergency Department',\n",
       "       'unitadmitsource_Floor', 'unitadmitsource_ICU',\n",
       "       'unitadmitsource_Observation', 'unitadmitsource_Other',\n",
       "       'unitadmitsource_Room', 'unitadmitsource_Step-Down Unit (SDU)',\n",
       "       'aki_stage'],\n",
       "      dtype='object')"
      ]
     },
     "execution_count": 24,
     "metadata": {},
     "output_type": "execute_result"
    },
    {
     "name": "stdout",
     "output_type": "stream",
     "text": [
      "ERROR! Session/line number was not unique in database. History logging moved to new session 838\n"
     ]
    }
   ],
   "source": [
    "data.columns"
   ]
  },
  {
   "cell_type": "code",
   "execution_count": 25,
   "metadata": {},
   "outputs": [
    {
     "data": {
      "text/html": [
       "<div>\n",
       "<style scoped>\n",
       "    .dataframe tbody tr th:only-of-type {\n",
       "        vertical-align: middle;\n",
       "    }\n",
       "\n",
       "    .dataframe tbody tr th {\n",
       "        vertical-align: top;\n",
       "    }\n",
       "\n",
       "    .dataframe thead th {\n",
       "        text-align: right;\n",
       "    }\n",
       "</style>\n",
       "<table border=\"1\" class=\"dataframe\">\n",
       "  <thead>\n",
       "    <tr style=\"text-align: right;\">\n",
       "      <th></th>\n",
       "      <th>stay_id</th>\n",
       "      <th>charttime</th>\n",
       "      <th>heartrate</th>\n",
       "      <th>sao2</th>\n",
       "      <th>ptt</th>\n",
       "      <th>pt</th>\n",
       "      <th>bun</th>\n",
       "      <th>age</th>\n",
       "      <th>gender_Female</th>\n",
       "      <th>gender_Male</th>\n",
       "      <th>...</th>\n",
       "      <th>unitadmitsource_Chest Pain Center</th>\n",
       "      <th>unitadmitsource_Direct Admit</th>\n",
       "      <th>unitadmitsource_Emergency Department</th>\n",
       "      <th>unitadmitsource_Floor</th>\n",
       "      <th>unitadmitsource_ICU</th>\n",
       "      <th>unitadmitsource_Observation</th>\n",
       "      <th>unitadmitsource_Other</th>\n",
       "      <th>unitadmitsource_Room</th>\n",
       "      <th>unitadmitsource_Step-Down Unit (SDU)</th>\n",
       "      <th>aki_stage</th>\n",
       "    </tr>\n",
       "  </thead>\n",
       "  <tbody>\n",
       "    <tr>\n",
       "      <th>0</th>\n",
       "      <td>153993</td>\n",
       "      <td>0 days 02:02:00</td>\n",
       "      <td>98.0</td>\n",
       "      <td>916.0</td>\n",
       "      <td>NaN</td>\n",
       "      <td>NaN</td>\n",
       "      <td>NaN</td>\n",
       "      <td>59.0</td>\n",
       "      <td>1.0</td>\n",
       "      <td>0.0</td>\n",
       "      <td>...</td>\n",
       "      <td>0.0</td>\n",
       "      <td>0.0</td>\n",
       "      <td>0.0</td>\n",
       "      <td>1.0</td>\n",
       "      <td>0.0</td>\n",
       "      <td>0.0</td>\n",
       "      <td>0.0</td>\n",
       "      <td>0.0</td>\n",
       "      <td>0.0</td>\n",
       "      <td>0.0</td>\n",
       "    </tr>\n",
       "    <tr>\n",
       "      <th>1</th>\n",
       "      <td>162778</td>\n",
       "      <td>0 days 01:46:00</td>\n",
       "      <td>100.0</td>\n",
       "      <td>2898.0</td>\n",
       "      <td>NaN</td>\n",
       "      <td>NaN</td>\n",
       "      <td>NaN</td>\n",
       "      <td>59.0</td>\n",
       "      <td>1.0</td>\n",
       "      <td>0.0</td>\n",
       "      <td>...</td>\n",
       "      <td>0.0</td>\n",
       "      <td>0.0</td>\n",
       "      <td>0.0</td>\n",
       "      <td>1.0</td>\n",
       "      <td>0.0</td>\n",
       "      <td>0.0</td>\n",
       "      <td>0.0</td>\n",
       "      <td>0.0</td>\n",
       "      <td>0.0</td>\n",
       "      <td>0.0</td>\n",
       "    </tr>\n",
       "    <tr>\n",
       "      <th>2</th>\n",
       "      <td>181698</td>\n",
       "      <td>13 days 12:11:00</td>\n",
       "      <td>NaN</td>\n",
       "      <td>NaN</td>\n",
       "      <td>59.0</td>\n",
       "      <td>NaN</td>\n",
       "      <td>NaN</td>\n",
       "      <td>60.0</td>\n",
       "      <td>0.0</td>\n",
       "      <td>1.0</td>\n",
       "      <td>...</td>\n",
       "      <td>0.0</td>\n",
       "      <td>0.0</td>\n",
       "      <td>0.0</td>\n",
       "      <td>0.0</td>\n",
       "      <td>0.0</td>\n",
       "      <td>0.0</td>\n",
       "      <td>0.0</td>\n",
       "      <td>1.0</td>\n",
       "      <td>0.0</td>\n",
       "      <td>0.0</td>\n",
       "    </tr>\n",
       "    <tr>\n",
       "      <th>3</th>\n",
       "      <td>183795</td>\n",
       "      <td>0 days 01:00:00</td>\n",
       "      <td>96.0</td>\n",
       "      <td>182.0</td>\n",
       "      <td>NaN</td>\n",
       "      <td>NaN</td>\n",
       "      <td>NaN</td>\n",
       "      <td>72.0</td>\n",
       "      <td>1.0</td>\n",
       "      <td>0.0</td>\n",
       "      <td>...</td>\n",
       "      <td>0.0</td>\n",
       "      <td>0.0</td>\n",
       "      <td>0.0</td>\n",
       "      <td>0.0</td>\n",
       "      <td>0.0</td>\n",
       "      <td>0.0</td>\n",
       "      <td>0.0</td>\n",
       "      <td>1.0</td>\n",
       "      <td>0.0</td>\n",
       "      <td>0.0</td>\n",
       "    </tr>\n",
       "    <tr>\n",
       "      <th>4</th>\n",
       "      <td>188576</td>\n",
       "      <td>0 days 01:11:00</td>\n",
       "      <td>96.0</td>\n",
       "      <td>119.0</td>\n",
       "      <td>NaN</td>\n",
       "      <td>NaN</td>\n",
       "      <td>NaN</td>\n",
       "      <td>89.0</td>\n",
       "      <td>0.0</td>\n",
       "      <td>1.0</td>\n",
       "      <td>...</td>\n",
       "      <td>0.0</td>\n",
       "      <td>0.0</td>\n",
       "      <td>0.0</td>\n",
       "      <td>1.0</td>\n",
       "      <td>0.0</td>\n",
       "      <td>0.0</td>\n",
       "      <td>0.0</td>\n",
       "      <td>0.0</td>\n",
       "      <td>0.0</td>\n",
       "      <td>0.0</td>\n",
       "    </tr>\n",
       "  </tbody>\n",
       "</table>\n",
       "<p>5 rows × 31 columns</p>\n",
       "</div>"
      ],
      "text/plain": [
       "   stay_id         charttime  heartrate    sao2   ptt  pt  bun   age  \\\n",
       "0   153993   0 days 02:02:00       98.0   916.0   NaN NaN  NaN  59.0   \n",
       "1   162778   0 days 01:46:00      100.0  2898.0   NaN NaN  NaN  59.0   \n",
       "2   181698  13 days 12:11:00        NaN     NaN  59.0 NaN  NaN  60.0   \n",
       "3   183795   0 days 01:00:00       96.0   182.0   NaN NaN  NaN  72.0   \n",
       "4   188576   0 days 01:11:00       96.0   119.0   NaN NaN  NaN  89.0   \n",
       "\n",
       "   gender_Female  gender_Male  ...  unitadmitsource_Chest Pain Center  \\\n",
       "0            1.0          0.0  ...                                0.0   \n",
       "1            1.0          0.0  ...                                0.0   \n",
       "2            0.0          1.0  ...                                0.0   \n",
       "3            1.0          0.0  ...                                0.0   \n",
       "4            0.0          1.0  ...                                0.0   \n",
       "\n",
       "   unitadmitsource_Direct Admit  unitadmitsource_Emergency Department  \\\n",
       "0                           0.0                                   0.0   \n",
       "1                           0.0                                   0.0   \n",
       "2                           0.0                                   0.0   \n",
       "3                           0.0                                   0.0   \n",
       "4                           0.0                                   0.0   \n",
       "\n",
       "   unitadmitsource_Floor  unitadmitsource_ICU  unitadmitsource_Observation  \\\n",
       "0                    1.0                  0.0                          0.0   \n",
       "1                    1.0                  0.0                          0.0   \n",
       "2                    0.0                  0.0                          0.0   \n",
       "3                    0.0                  0.0                          0.0   \n",
       "4                    1.0                  0.0                          0.0   \n",
       "\n",
       "   unitadmitsource_Other  unitadmitsource_Room  \\\n",
       "0                    0.0                   0.0   \n",
       "1                    0.0                   0.0   \n",
       "2                    0.0                   1.0   \n",
       "3                    0.0                   1.0   \n",
       "4                    0.0                   0.0   \n",
       "\n",
       "   unitadmitsource_Step-Down Unit (SDU)  aki_stage  \n",
       "0                                   0.0        0.0  \n",
       "1                                   0.0        0.0  \n",
       "2                                   0.0        0.0  \n",
       "3                                   0.0        0.0  \n",
       "4                                   0.0        0.0  \n",
       "\n",
       "[5 rows x 31 columns]"
      ]
     },
     "execution_count": 25,
     "metadata": {},
     "output_type": "execute_result"
    }
   ],
   "source": [
    "data.head()"
   ]
  },
  {
   "cell_type": "markdown",
   "metadata": {},
   "source": [
    "# Imputing"
   ]
  },
  {
   "cell_type": "code",
   "execution_count": 26,
   "metadata": {},
   "outputs": [],
   "source": [
    "features=['unitadmitsource_Step-Down Unit (SDU)',\n",
    "          'gender_Female','sao2',\n",
    "          'ethnicity_Native American',\n",
    "          'ethnicity_African American','gender_Male','unitadmitsource_ICU','ethnicity_Other/Unknown',\n",
    "          'age','bun']"
   ]
  },
  {
   "cell_type": "code",
   "execution_count": 29,
   "metadata": {},
   "outputs": [
    {
     "name": "stdout",
     "output_type": "stream",
     "text": [
      "Imputing with zero!\n"
     ]
    }
   ],
   "source": [
    "print('Imputing with zero!')\n",
    "data.fillna(FILL_VALUE, inplace=True)"
   ]
  },
  {
   "cell_type": "markdown",
   "metadata": {},
   "source": [
    "# Train/Validation/Test set"
   ]
  },
  {
   "cell_type": "code",
   "execution_count": 30,
   "metadata": {},
   "outputs": [
    {
     "name": "stdout",
     "output_type": "stream",
     "text": [
      "Train samples: 109\n",
      "Validation samples: 14\n",
      "Test samples: 14\n"
     ]
    }
   ],
   "source": [
    "train_id, val_test_id = train_test_split(icustays, test_size=0.2, random_state=seed)\n",
    "val_id, test_id = train_test_split(val_test_id, test_size=0.5, random_state=seed)\n",
    "print(f'Train samples: {len(train_id)}\\nValidation samples: {len(val_id)}\\nTest samples: {len(test_id)}')"
   ]
  },
  {
   "cell_type": "code",
   "execution_count": 31,
   "metadata": {},
   "outputs": [
    {
     "data": {
      "text/plain": [
       "((110, 31), (14, 31), (14, 31))"
      ]
     },
     "execution_count": 31,
     "metadata": {},
     "output_type": "execute_result"
    }
   ],
   "source": [
    "train = get_set(id_list=train_id, id_col=id_col, time_col=time_col, data=data)\n",
    "val = get_set(val_id, id_col, time_col, data)\n",
    "test = get_set(test_id, id_col, time_col, data)\n",
    "\n",
    "train.shape, val.shape, test.shape"
   ]
  },
  {
   "cell_type": "code",
   "execution_count": 32,
   "metadata": {},
   "outputs": [
    {
     "name": "stdout",
     "output_type": "stream",
     "text": [
      "train: 0.2844\n",
      "val: 0.2857\n",
      "test: 0.2143\n"
     ]
    }
   ],
   "source": [
    "# 各集合中AKI病人占比\n",
    "aki_train = train[[id_col, LABEL_COLUMN]].copy().groupby([id_col]).max()\n",
    "aki_val = val[[id_col, LABEL_COLUMN]].copy().groupby([id_col]).max()\n",
    "aki_test = test[[id_col, LABEL_COLUMN]].copy().groupby([id_col]).max()\n",
    "\n",
    "print(f'train: {aki_train.aki_stage.sum()/len(aki_train):.4f}')\n",
    "print(f'val: {aki_val.aki_stage.sum()/len(aki_val):.4f}')      \n",
    "print(f'test: {aki_test.aki_stage.sum()/len(aki_test):.4f}')"
   ]
  },
  {
   "cell_type": "markdown",
   "metadata": {},
   "source": [
    "# Split features and label / Normalization"
   ]
  },
  {
   "cell_type": "code",
   "execution_count": 33,
   "metadata": {},
   "outputs": [],
   "source": [
    "train.sort_values(by=[id_col, time_col], ascending=True, inplace=True)\n",
    "val.sort_values(by=[id_col, time_col], ascending=True, inplace=True)\n",
    "test.sort_values(by=[id_col, time_col], ascending=True, inplace=True)"
   ]
  },
  {
   "cell_type": "code",
   "execution_count": 34,
   "metadata": {},
   "outputs": [],
   "source": [
    "train = train[others+features].copy()\n",
    "val = val[others+features].copy()\n",
    "test = test[others+features].copy()"
   ]
  },
  {
   "cell_type": "code",
   "execution_count": 35,
   "metadata": {},
   "outputs": [],
   "source": [
    "train_list = [train[train[id_col]==i].iloc[:, 2:].values for i in train_id]\n",
    "val_list = [val[val[id_col]==i].iloc[:, 2:].values for i in val_id]\n",
    "test_list = [test[test[id_col]==i].iloc[:, 2:].values for i in test_id]"
   ]
  },
  {
   "cell_type": "code",
   "execution_count": 36,
   "metadata": {},
   "outputs": [
    {
     "data": {
      "text/plain": [
       "2"
      ]
     },
     "execution_count": 36,
     "metadata": {},
     "output_type": "execute_result"
    }
   ],
   "source": [
    "# 将训练集中最长的时间序列长度设置为模型最长时间步\n",
    "maxlen = train.groupby('stay_id').size().max()\n",
    "to_save['time_seq_length'] = maxlen\n",
    "maxlen"
   ]
  },
  {
   "cell_type": "code",
   "execution_count": 37,
   "metadata": {},
   "outputs": [
    {
     "data": {
      "text/plain": [
       "((109, 2, 29), (14, 2, 29), (14, 2, 29))"
      ]
     },
     "execution_count": 37,
     "metadata": {},
     "output_type": "execute_result"
    }
   ],
   "source": [
    "train_data = pad_sequences(\n",
    "    train_list, \n",
    "    dtype='float32', \n",
    "    padding='pre', \n",
    "    truncating='pre', \n",
    "    value=0, \n",
    "    maxlen=maxlen\n",
    ")\n",
    "val_data = pad_sequences(\n",
    "    val_list, \n",
    "    dtype='float32', \n",
    "    padding='pre', \n",
    "    truncating='pre', \n",
    "    value=0, \n",
    "    maxlen=maxlen\n",
    ")\n",
    "test_data = pad_sequences(\n",
    "    test_list, \n",
    "    dtype='float32', \n",
    "    padding='pre', \n",
    "    truncating='pre', \n",
    "    value=0, \n",
    "    maxlen=maxlen\n",
    ")\n",
    "train_data.shape, val_data.shape, test_data.shape"
   ]
  },
  {
   "cell_type": "code",
   "execution_count": 38,
   "metadata": {},
   "outputs": [],
   "source": [
    "# 将特征和标签分离\n",
    "train_label = train_data[:, :, 0]\n",
    "val_label = val_data[:, :, 0]\n",
    "test_label = test_data[:, :, 0]\n",
    "\n",
    "train_data = train_data[:, :, 1:]\n",
    "val_data = val_data[:, :, 1:]\n",
    "test_data = test_data[:, :, 1:]"
   ]
  },
  {
   "cell_type": "code",
   "execution_count": 39,
   "metadata": {},
   "outputs": [
    {
     "data": {
      "text/plain": [
       "((109, 2, 28), (14, 2, 28), (14, 2, 28))"
      ]
     },
     "execution_count": 39,
     "metadata": {},
     "output_type": "execute_result"
    }
   ],
   "source": [
    "# feature normalization\n",
    "train_data = train_data.reshape(-1, len(features))\n",
    "val_data = val_data.reshape(-1, len(features))\n",
    "test_data = test_data.reshape(-1, len(features))\n",
    "\n",
    "feature_scaler = StandardScaler()\n",
    "feature_scaler.fit(train_data)\n",
    "\n",
    "train_data = feature_scaler.transform(train_data)\n",
    "train_data = train_data.reshape(-1, maxlen, len(features))\n",
    "\n",
    "val_data = feature_scaler.transform(val_data)\n",
    "val_data = val_data.reshape(-1, maxlen, len(features))\n",
    "\n",
    "test_data = feature_scaler.transform(test_data)\n",
    "test_data = test_data.reshape(-1, maxlen, len(features))\n",
    "\n",
    "train_data.shape, val_data.shape, test_data.shape"
   ]
  },
  {
   "cell_type": "code",
   "execution_count": 40,
   "metadata": {},
   "outputs": [
    {
     "data": {
      "text/plain": [
       "((109, 2, 2), (14, 2, 2), (14, 2, 2))"
      ]
     },
     "execution_count": 40,
     "metadata": {},
     "output_type": "execute_result"
    }
   ],
   "source": [
    "# label one-hot\n",
    "train_label = train_label.reshape(-1, maxlen, 1)\n",
    "val_label = val_label.reshape(-1, maxlen, 1)\n",
    "test_label = test_label.reshape(-1, maxlen, 1)\n",
    "\n",
    "train_label = to_categorical(train_label)\n",
    "val_label = to_categorical(val_label)\n",
    "test_label = to_categorical(test_label)\n",
    "\n",
    "train_label.shape, val_label.shape, test_label.shape"
   ]
  },
  {
   "cell_type": "markdown",
   "metadata": {},
   "source": [
    "# DC-AKI(base)"
   ]
  },
  {
   "cell_type": "code",
   "execution_count": 1,
   "metadata": {},
   "outputs": [],
   "source": [
    "from tensorflow.keras.layers import Input, Conv1D, MaxPooling1D, GRU, Bidirectional, Dense, Dropout, Attention\n",
    "def get_model(max_len, feature_num):\n",
    "    \n",
    "    clear_session()\n",
    "    inputs = Input(shape=(max_len, feature_num), dtype='float32')\n",
    "    x = Dense(64, activation='relu')(inputs)\n",
    "    outputs = Dense(2, activation='sigmoid')(x)\n",
    "\n",
    "    model = Model(inputs, outputs)\n",
    "    model.summary()\n",
    "    \n",
    "    return model"
   ]
  },
  {
   "cell_type": "code",
   "execution_count": null,
   "metadata": {},
   "outputs": [],
   "source": [
    "model = get_model(max_len=maxlen, feature_num=len(features))"
   ]
  },
  {
   "cell_type": "code",
   "execution_count": 82,
   "metadata": {},
   "outputs": [],
   "source": [
    "adam = optimizers.Adam(lr=0.001)\n",
    "loss = BinaryCrossentropy(from_logits=False)\n",
    "k_auc = AUC()\n",
    "\n",
    "checkpoint = ModelCheckpoint(\n",
    "    MODEL_SAVE_PATH, \n",
    "    monitor='val_auc', \n",
    "    mode='max', \n",
    "    save_best_only=True\n",
    ")\n",
    "\n",
    "model.compile(\n",
    "    optimizer=adam, \n",
    "    loss=loss,\n",
    "    metrics=[k_auc]\n",
    ")\n",
    "\n",
    "to_save['lr'] = 0.001"
   ]
  },
  {
   "cell_type": "code",
   "execution_count": 83,
   "metadata": {},
   "outputs": [
    {
     "name": "stdout",
     "output_type": "stream",
     "text": [
      "Train on 109 samples, validate on 14 samples\n",
      "Epoch 1/5\n",
      "109/109 [==============================] - 1s 6ms/sample - loss: 0.6176 - auc: 0.8283 - val_loss: 0.5882 - val_auc: 0.9126\n",
      "Epoch 2/5\n",
      "109/109 [==============================] - 0s 260us/sample - loss: 0.5946 - auc: 0.8510 - val_loss: 0.5693 - val_auc: 0.9107\n",
      "Epoch 3/5\n",
      "109/109 [==============================] - 0s 256us/sample - loss: 0.5755 - auc: 0.8636 - val_loss: 0.5498 - val_auc: 0.9101\n",
      "Epoch 4/5\n",
      "109/109 [==============================] - 0s 238us/sample - loss: 0.5555 - auc: 0.8770 - val_loss: 0.5314 - val_auc: 0.9120\n",
      "Epoch 5/5\n",
      "109/109 [==============================] - 0s 459us/sample - loss: 0.5370 - auc: 0.8874 - val_loss: 0.5140 - val_auc: 0.9139\n",
      "1.492318\n"
     ]
    }
   ],
   "source": [
    "time_start = datetime.now()\n",
    "history = model.fit(\n",
    "    train_data, train_label,\n",
    "    validation_data=(val_data, val_label), \n",
    "    batch_size=16, \n",
    "    epochs=5, \n",
    "    callbacks=[checkpoint])\n",
    "train_time = (datetime.now() - time_start).total_seconds()\n",
    "to_save['train_time'] = train_time\n",
    "print(train_time)"
   ]
  },
  {
   "cell_type": "code",
   "execution_count": 84,
   "metadata": {},
   "outputs": [
    {
     "name": "stdout",
     "output_type": "stream",
     "text": [
      "ROC AUC: 0.9081632653061225\n"
     ]
    }
   ],
   "source": [
    "test_BASE = model.predict(test_data)\n",
    "from sklearn.metrics import roc_auc_score\n",
    "\n",
    "# 将三维数组转换为一维数组\n",
    "reshaped_test_BASE = test_BASE.flatten()\n",
    "reshaped_true_label = test_label.flatten()\n",
    "\n",
    "# 计算 ROC AUC\n",
    "roc_auc = roc_auc_score(reshaped_true_label, reshaped_test_BASE)\n",
    "print(f\"ROC AUC: {roc_auc}\")"
   ]
  },
  {
   "cell_type": "code",
   "execution_count": 86,
   "metadata": {},
   "outputs": [
    {
     "name": "stdout",
     "output_type": "stream",
     "text": [
      "PR AUC: 0.8787243360529167\n",
      "0.8474576271186439\n"
     ]
    }
   ],
   "source": [
    "from sklearn.metrics import precision_recall_curve, auc,f1_score\n",
    "precision_BASE, recall_BASE, thresholds = precision_recall_curve(reshaped_true_label, reshaped_test_BASE)\n",
    "# 计算 PR AUC\n",
    "pr_auc_BASE = auc(recall_BASE, precision_BASE)\n",
    "\n",
    "\n",
    "print(\"PR AUC:\", pr_auc_BASE)\n",
    "threshold = 0.5\n",
    "reshaped_test_BASE = (reshaped_test_BASE > threshold).astype(int)\n",
    "f1 = f1_score(reshaped_true_label, reshaped_test_BASE)\n",
    "print(f1)"
   ]
  },
  {
   "cell_type": "code",
   "execution_count": 35,
   "metadata": {},
   "outputs": [],
   "source": [
    "test_result.to_csv(TEST_RESULT_PATH, index=False)"
   ]
  },
  {
   "cell_type": "markdown",
   "metadata": {},
   "source": [
    "# DC-AKI"
   ]
  },
  {
   "cell_type": "code",
   "execution_count": 41,
   "metadata": {},
   "outputs": [
    {
     "name": "stdout",
     "output_type": "stream",
     "text": [
      "ERROR! Session/line number was not unique in database. History logging moved to new session 839\n"
     ]
    }
   ],
   "source": [
    "from tensorflow.keras.layers import Input, Flatten, Conv1D, MaxPooling1D, GRU, Bidirectional, Dense, Dropout, Concatenate, Activation, GlobalMaxPooling1D, Multiply, Add\n",
    "from tensorflow.keras.models import Model\n",
    "from tensorflow.keras.layers import Reshape\n",
    "def get_model(max_len, feature_num):\n",
    "    x = Input(shape=(max_len, feature_num), dtype='float32')\n",
    "    x1 = Dense(64, activation='relu')(x)\n",
    "    x1 = GRU(32, return_sequences=True)(x1)\n",
    "    x1 = Dropout(0.5)(x1)\n",
    "    x1 = GRU(32, return_sequences=True)(x1)\n",
    "    x1 = Dropout(0.5)(x1)\n",
    "    attention = Dense(32, activation='tanh')(x1)\n",
    "    attention = Flatten()(attention)\n",
    "    attention = Activation('sigmoid')(attention)\n",
    "    attention_reshaped = Reshape((max_len, 32))(attention)\n",
    "    \n",
    "    # Multiply and Add layers for element-wise multiplication and addition\n",
    "    attention_mult = Multiply()([x1, attention_reshaped])\n",
    "    attention_sum = Add()([x1, attention_reshaped])\n",
    "    \n",
    "    y2 = Dense(64, activation='relu')(x)\n",
    "    y2 = Conv1D(filters=128, kernel_size=3, padding='same')(y2)\n",
    "    y2 = Dropout(0.5)(y2)\n",
    "    #y2 = GlobalMaxPooling1D()(y2)\n",
    "    y2 = Dense(64, activation='relu')(y2)\n",
    "    concatenated = Concatenate()([attention_mult, attention_sum, y2])\n",
    "    concatenated = Dense(32, activation='relu')(concatenated)\n",
    "    outputs = Dense(2, activation='sigmoid')(concatenated)\n",
    "    \n",
    "    model = Model(inputs=x, outputs=outputs)\n",
    "    model.summary()\n",
    "    \n",
    "    return model\n"
   ]
  },
  {
   "cell_type": "code",
   "execution_count": 42,
   "metadata": {},
   "outputs": [
    {
     "name": "stdout",
     "output_type": "stream",
     "text": [
      "Model: \"model\"\n",
      "__________________________________________________________________________________________________\n",
      "Layer (type)                    Output Shape         Param #     Connected to                     \n",
      "==================================================================================================\n",
      "input_1 (InputLayer)            [(None, 2, 28)]      0                                            \n",
      "__________________________________________________________________________________________________\n",
      "dense (Dense)                   (None, 2, 64)        1856        input_1[0][0]                    \n",
      "__________________________________________________________________________________________________\n",
      "gru (GRU)                       (None, 2, 32)        9312        dense[0][0]                      \n",
      "__________________________________________________________________________________________________\n",
      "dropout (Dropout)               (None, 2, 32)        0           gru[0][0]                        \n",
      "__________________________________________________________________________________________________\n",
      "gru_1 (GRU)                     (None, 2, 32)        6240        dropout[0][0]                    \n",
      "__________________________________________________________________________________________________\n",
      "dropout_1 (Dropout)             (None, 2, 32)        0           gru_1[0][0]                      \n",
      "__________________________________________________________________________________________________\n",
      "dense_1 (Dense)                 (None, 2, 32)        1056        dropout_1[0][0]                  \n",
      "__________________________________________________________________________________________________\n",
      "flatten (Flatten)               (None, 64)           0           dense_1[0][0]                    \n",
      "__________________________________________________________________________________________________\n",
      "dense_2 (Dense)                 (None, 2, 64)        1856        input_1[0][0]                    \n",
      "__________________________________________________________________________________________________\n",
      "activation (Activation)         (None, 64)           0           flatten[0][0]                    \n",
      "__________________________________________________________________________________________________\n",
      "conv1d (Conv1D)                 (None, 2, 128)       24704       dense_2[0][0]                    \n",
      "__________________________________________________________________________________________________\n",
      "reshape (Reshape)               (None, 2, 32)        0           activation[0][0]                 \n",
      "__________________________________________________________________________________________________\n",
      "dropout_2 (Dropout)             (None, 2, 128)       0           conv1d[0][0]                     \n",
      "__________________________________________________________________________________________________\n",
      "multiply (Multiply)             (None, 2, 32)        0           dropout_1[0][0]                  \n",
      "                                                                 reshape[0][0]                    \n",
      "__________________________________________________________________________________________________\n",
      "add (Add)                       (None, 2, 32)        0           dropout_1[0][0]                  \n",
      "                                                                 reshape[0][0]                    \n",
      "__________________________________________________________________________________________________\n",
      "dense_3 (Dense)                 (None, 2, 64)        8256        dropout_2[0][0]                  \n",
      "__________________________________________________________________________________________________\n",
      "concatenate (Concatenate)       (None, 2, 128)       0           multiply[0][0]                   \n",
      "                                                                 add[0][0]                        \n",
      "                                                                 dense_3[0][0]                    \n",
      "__________________________________________________________________________________________________\n",
      "dense_4 (Dense)                 (None, 2, 32)        4128        concatenate[0][0]                \n",
      "__________________________________________________________________________________________________\n",
      "dense_5 (Dense)                 (None, 2, 2)         66          dense_4[0][0]                    \n",
      "==================================================================================================\n",
      "Total params: 57,474\n",
      "Trainable params: 57,474\n",
      "Non-trainable params: 0\n",
      "__________________________________________________________________________________________________\n"
     ]
    }
   ],
   "source": [
    "model_our = get_model(max_len=maxlen, feature_num=len(features))"
   ]
  },
  {
   "cell_type": "code",
   "execution_count": 43,
   "metadata": {},
   "outputs": [],
   "source": [
    "adam = optimizers.Adam(lr=0.001)\n",
    "loss = BinaryCrossentropy(from_logits=False)\n",
    "k_auc = AUC()\n",
    "\n",
    "checkpoint = ModelCheckpoint(\n",
    "    MODEL_SAVE_PATH, \n",
    "    monitor='val_auc', \n",
    "    mode='max', \n",
    "    save_best_only=True\n",
    ")\n",
    "\n",
    "model_our.compile(\n",
    "    optimizer=adam, \n",
    "    loss=loss,\n",
    "    metrics=[k_auc]\n",
    ")\n",
    "\n",
    "to_save['lr'] = 0.001"
   ]
  },
  {
   "cell_type": "code",
   "execution_count": 44,
   "metadata": {},
   "outputs": [
    {
     "name": "stdout",
     "output_type": "stream",
     "text": [
      "Train on 109 samples, validate on 14 samples\n",
      "Epoch 1/5\n",
      "109/109 [==============================] - 7s 68ms/sample - loss: 0.5883 - auc: 0.8464 - val_loss: 0.4693 - val_auc: 0.8986\n",
      "Epoch 2/5\n",
      "109/109 [==============================] - 0s 2ms/sample - loss: 0.4005 - auc: 0.9163 - val_loss: 0.3563 - val_auc: 0.9343\n",
      "Epoch 3/5\n",
      "109/109 [==============================] - 0s 2ms/sample - loss: 0.3311 - auc: 0.9392 - val_loss: 0.3129 - val_auc: 0.9445\n",
      "Epoch 4/5\n",
      "109/109 [==============================] - 0s 2ms/sample - loss: 0.2968 - auc: 0.9519 - val_loss: 0.2859 - val_auc: 0.9483\n",
      "Epoch 5/5\n",
      "109/109 [==============================] - 0s 2ms/sample - loss: 0.2736 - auc: 0.9531 - val_loss: 0.2718 - val_auc: 0.9522\n",
      "14.845942\n"
     ]
    }
   ],
   "source": [
    "time_start = datetime.now()\n",
    "history = model_our.fit(\n",
    "    train_data, train_label,\n",
    "    validation_data=(val_data, val_label), \n",
    "    batch_size=16, \n",
    "    epochs=5, \n",
    "    callbacks=[checkpoint])\n",
    "train_time = (datetime.now() - time_start).total_seconds()\n",
    "to_save['train_time'] = train_time\n",
    "print(train_time)"
   ]
  },
  {
   "cell_type": "code",
   "execution_count": null,
   "metadata": {},
   "outputs": [],
   "source": [
    "from sklearn.model_selection import train_test_split, GroupKFold, KFold\n",
    "from tensorflow import keras\n",
    "from tqdm import tqdm\n",
    "\n",
    "COMPUTE_LSTM_IMPORTANCE = 1\n",
    "ONE_FOLD_ONLY = 1\n",
    "NUM_FOLDS = 28\n",
    "COLS = (['age', 'bun', 'ethnicity_', 'ethnicity_African American', 'ethnicity_Asian', 'ethnicity_Caucasian',\n",
    "         'ethnicity_Hispanic', 'ethnicity_Native American', 'ethnicity_Other/Unknown', 'gender_Female',\n",
    "         'gender_Male', 'gender_Unknown', 'heartrate', 'pt', 'ptt', 'sao2', 'unitadmitsource_', 'unitadmitsource_ACU',\n",
    "         'unitadmitsource_Acute Care/Floor', 'unitadmitsource_Chest Pain Center', 'unitadmitsource_Direct Admit',\n",
    "         'unitadmitsource_Emergency Department', 'unitadmitsource_Floor', 'unitadmitsource_ICU',\n",
    "         'unitadmitsource_Observation', 'unitadmitsource_Other', 'unitadmitsource_Room',\n",
    "         'unitadmitsource_Step-Down Unit (SDU)'])\n",
    "\n",
    "import matplotlib.pyplot as plt\n",
    "model = keras.models.load_model('./GRU24.h5')\n",
    "        # 计算特征重要性\n",
    "if COMPUTE_LSTM_IMPORTANCE:\n",
    "            results = []\n",
    "            print(' Computing GRU feature importance...')\n",
    "            \n",
    "\n",
    "            for k in tqdm(range(28)):\n",
    "                save_col = train_data[:,:,k].copy()\n",
    "                np.random.shuffle(train_data[:,:,k])\n",
    "                oof_preds = model.predict(train_data, verbose=0).squeeze() \n",
    "                mae = np.mean(np.abs( oof_preds-train_label))\n",
    "                results.append({'feature':COLS[k],'mae':mae})\n",
    "                train_data[:,:,k] = save_col\n",
    "            print()\n",
    "            df = pd.DataFrame(results)\n",
    "            df = df.sort_values('mae')\n",
    "            plt.figure(figsize=(10,10))\n",
    "            plt.barh(np.arange(len(COLS)+1),df.mae)\n",
    "            plt.yticks(np.arange(len(COLS)+1),df.feature.values)\n",
    "            plt.title('GRU Feature Importance',size=12)\n",
    "            plt.ylim((-1,len(COLS)+1))\n",
    "            plt.xlim((0.15, max(df.mae) + 0.1))  # 添加这行代码\n",
    "            plt.show()\n",
    "                               \n",
    "            # SAVE LSTM FEATURE IMPORTANCE\n",
    "            df = df.sort_values('mae',ascending=False)\n",
    "            df.to_csv(f'feature_importance_fold12_48.csv',index=False)\n",
    "                               \n",
    "        # ONLY DO ONE FOLD\n",
    "#if ONE_FOLD_ONLY: break"
   ]
  },
  {
   "cell_type": "code",
   "execution_count": 52,
   "metadata": {},
   "outputs": [
    {
     "name": "stdout",
     "output_type": "stream",
     "text": [
      "\n"
     ]
    },
    {
     "data": {
      "image/png": "[encoded data removed]",
      "text/plain": [
       "<Figure size 720x720 with 1 Axes>"
      ]
     },
     "metadata": {
      "needs_background": "light"
     },
     "output_type": "display_data"
    }
   ],
   "source": [
    "            print()\n",
    "            df = pd.DataFrame(results)\n",
    "            df = df.sort_values('mae')\n",
    "            plt.figure(figsize=(10,10))\n",
    "            plt.barh(np.arange(28),df.mae)\n",
    "            plt.yticks(np.arange(28),df.feature.values)\n",
    "            plt.title('Feature Importance',size=12)\n",
    "            plt.ylim((-1,28))\n",
    "            plt.xlim((0.1820, 0.1925))  # 添加这行代码\n",
    "            plt.show()\n",
    "                               \n",
    "            # SAVE LSTM FEATURE IMPORTANCE\n",
    "            df = df.sort_values('mae',ascending=False)\n",
    "            df.to_csv(f'GRU_feature_importance_fold12_48.csv',index=False)\n",
    "                               "
   ]
  },
  {
   "cell_type": "code",
   "execution_count": 91,
   "metadata": {},
   "outputs": [
    {
     "name": "stdout",
     "output_type": "stream",
     "text": [
      "ROC AUC: 0.9604591836734694\n"
     ]
    }
   ],
   "source": [
    "test_our = model_our.predict(test_data)\n",
    "from sklearn.metrics import roc_auc_score\n",
    "\n",
    "# 将三维数组转换为一维数组\n",
    "reshaped_test_our = test_our.flatten()\n",
    "reshaped_true_label = test_label.flatten()\n",
    "\n",
    "# 计算 ROC AUC\n",
    "roc_auc_our = roc_auc_score(reshaped_true_label, reshaped_test_our)\n",
    "print(f\"ROC AUC: {roc_auc_our}\")"
   ]
  },
  {
   "cell_type": "code",
   "execution_count": 92,
   "metadata": {},
   "outputs": [
    {
     "name": "stdout",
     "output_type": "stream",
     "text": [
      "0.9604591836734694\n"
     ]
    }
   ],
   "source": [
    "fpr_our, tpr_our, thresholds_our = roc_curve(reshaped_true_label, reshaped_test_our)\n",
    "roc_auc_our = auc(fpr_our, tpr_our)\n",
    "print(roc_auc_our)"
   ]
  },
  {
   "cell_type": "code",
   "execution_count": 93,
   "metadata": {},
   "outputs": [
    {
     "name": "stdout",
     "output_type": "stream",
     "text": [
      "ROC AUC: 0.9604591836734694\n"
     ]
    }
   ],
   "source": [
    "roc_auc_our = roc_auc_score(reshaped_true_label, reshaped_test_our)\n",
    "print(f\"ROC AUC: {roc_auc_our}\")"
   ]
  },
  {
   "cell_type": "code",
   "execution_count": 94,
   "metadata": {},
   "outputs": [
    {
     "name": "stdout",
     "output_type": "stream",
     "text": [
      "PR AUC: 0.9623602039462463\n",
      "0.8928571428571429\n"
     ]
    }
   ],
   "source": [
    "from sklearn.metrics import precision_recall_curve, auc,f1_score\n",
    "precision_our, recall_our, thresholds = precision_recall_curve(reshaped_true_label, reshaped_test_our)\n",
    "# 计算 PR AUC\n",
    "pr_auc_our= auc(recall_our, precision_our)\n",
    "print(\"PR AUC:\", pr_auc_our)\n",
    "threshold = 0.5\n",
    "reshaped_test_our = (reshaped_test_our > threshold).astype(int)\n",
    "f1 = f1_score(reshaped_true_label, reshaped_test_our)\n",
    "print(f1)"
   ]
  },
  {
   "cell_type": "markdown",
   "metadata": {},
   "source": [
    "# DC-AKI(GRU)"
   ]
  },
  {
   "cell_type": "code",
   "execution_count": 142,
   "metadata": {},
   "outputs": [],
   "source": [
    "from tensorflow.keras.layers import Input, Conv1D, MaxPooling1D, GRU, Bidirectional, Dense, Dropout, Attention\n",
    "def get_model(max_len, feature_num):\n",
    "    \n",
    "    clear_session()\n",
    "    inputs = Input(shape=(max_len, feature_num), dtype='float32')\n",
    "    x1 = Dense(64, activation='relu')(inputs)\n",
    "    x1 = GRU(64, return_sequences=True)(x1)\n",
    "    x1 = Dropout(0.5)(x1)\n",
    "    attention = Dense(64, activation='tanh')(x1)\n",
    "    attention = Flatten()(attention)\n",
    "    attention = Activation('sigmoid')(attention)\n",
    "    attention_reshaped = Reshape((max_len, 64))(attention)\n",
    "    attention_mult = Multiply()([x1, attention_reshaped])\n",
    "    attention_sum = Add()([x1, attention_reshaped])\n",
    "    outputs = Dense(2, activation='sigmoid')(attention_sum)\n",
    "\n",
    "    model = Model(inputs, outputs)\n",
    "    model.summary()\n",
    "    \n",
    "    return model"
   ]
  },
  {
   "cell_type": "code",
   "execution_count": 134,
   "metadata": {},
   "outputs": [
    {
     "name": "stdout",
     "output_type": "stream",
     "text": [
      "Model: \"model\"\n",
      "__________________________________________________________________________________________________\n",
      "Layer (type)                    Output Shape         Param #     Connected to                     \n",
      "==================================================================================================\n",
      "input_1 (InputLayer)            [(None, 2, 30)]      0                                            \n",
      "__________________________________________________________________________________________________\n",
      "dense (Dense)                   (None, 2, 64)        1984        input_1[0][0]                    \n",
      "__________________________________________________________________________________________________\n",
      "gru (GRU)                       (None, 2, 64)        24768       dense[0][0]                      \n",
      "__________________________________________________________________________________________________\n",
      "dropout (Dropout)               (None, 2, 64)        0           gru[0][0]                        \n",
      "__________________________________________________________________________________________________\n",
      "dense_1 (Dense)                 (None, 2, 64)        4160        dropout[0][0]                    \n",
      "__________________________________________________________________________________________________\n",
      "flatten (Flatten)               (None, 128)          0           dense_1[0][0]                    \n",
      "__________________________________________________________________________________________________\n",
      "activation (Activation)         (None, 128)          0           flatten[0][0]                    \n",
      "__________________________________________________________________________________________________\n",
      "reshape (Reshape)               (None, 2, 64)        0           activation[0][0]                 \n",
      "__________________________________________________________________________________________________\n",
      "add (Add)                       (None, 2, 64)        0           dropout[0][0]                    \n",
      "                                                                 reshape[0][0]                    \n",
      "__________________________________________________________________________________________________\n",
      "dense_2 (Dense)                 (None, 2, 2)         130         add[0][0]                        \n",
      "==================================================================================================\n",
      "Total params: 31,042\n",
      "Trainable params: 31,042\n",
      "Non-trainable params: 0\n",
      "__________________________________________________________________________________________________\n"
     ]
    }
   ],
   "source": [
    "model_GRU = get_model(max_len=maxlen, feature_num=len(features))"
   ]
  },
  {
   "cell_type": "code",
   "execution_count": 135,
   "metadata": {},
   "outputs": [],
   "source": [
    "adam = optimizers.Adam(lr=0.001)\n",
    "loss = BinaryCrossentropy(from_logits=False)\n",
    "k_auc = AUC()\n",
    "\n",
    "checkpoint = ModelCheckpoint(\n",
    "    MODEL_SAVE_PATH, \n",
    "    monitor='val_auc', \n",
    "    mode='max', \n",
    "    save_best_only=True\n",
    ")\n",
    "\n",
    "model_GRU.compile(\n",
    "    optimizer=adam, \n",
    "    loss=loss,\n",
    "    metrics=[k_auc]\n",
    ")\n",
    "\n",
    "to_save['lr'] = 0.001"
   ]
  },
  {
   "cell_type": "code",
   "execution_count": 136,
   "metadata": {},
   "outputs": [
    {
     "name": "stdout",
     "output_type": "stream",
     "text": [
      "Train on 109 samples, validate on 14 samples\n",
      "Epoch 1/5\n",
      "109/109 [==============================] - 1s 10ms/sample - loss: 0.9903 - auc: 0.1407 - val_loss: 0.8296 - val_auc: 0.1193\n",
      "Epoch 2/5\n",
      "109/109 [==============================] - 0s 545us/sample - loss: 0.7408 - auc: 0.3592 - val_loss: 0.6313 - val_auc: 0.7953\n",
      "Epoch 3/5\n",
      "109/109 [==============================] - 0s 451us/sample - loss: 0.5826 - auc: 0.8114 - val_loss: 0.5257 - val_auc: 0.7997\n",
      "Epoch 4/5\n",
      "109/109 [==============================] - 0s 276us/sample - loss: 0.5014 - auc: 0.8126 - val_loss: 0.4731 - val_auc: 0.7972\n",
      "Epoch 5/5\n",
      "109/109 [==============================] - 0s 633us/sample - loss: 0.4373 - auc: 0.8530 - val_loss: 0.4361 - val_auc: 0.8482\n",
      "2.462366\n"
     ]
    }
   ],
   "source": [
    "time_start = datetime.now()\n",
    "history = model_GRU.fit(\n",
    "    train_data, train_label,\n",
    "    validation_data=(val_data, val_label), \n",
    "    batch_size=16, \n",
    "    epochs=5, \n",
    "    callbacks=[checkpoint])\n",
    "train_time = (datetime.now() - time_start).total_seconds()\n",
    "to_save['train_time'] = train_time\n",
    "print(train_time)"
   ]
  },
  {
   "cell_type": "code",
   "execution_count": 137,
   "metadata": {},
   "outputs": [
    {
     "name": "stdout",
     "output_type": "stream",
     "text": [
      "ERROR! Session/line number was not unique in database. History logging moved to new session 753\n",
      "ROC AUC: 0.8558673469387755\n"
     ]
    }
   ],
   "source": [
    "test_GRU = model_GRU.predict(test_data)\n",
    "from sklearn.metrics import roc_auc_score\n",
    "\n",
    "# 将三维数组转换为一维数组\n",
    "reshaped_test_GRU = test_GRU.flatten()\n",
    "#reshaped_true_label = true_label.flatten()\n",
    "\n",
    "# 计算 ROC AUC\n",
    "roc_auc_GRU = roc_auc_score(reshaped_true_label, reshaped_test_GRU)\n",
    "print(f\"ROC AUC: {roc_auc_GRU}\")"
   ]
  },
  {
   "cell_type": "code",
   "execution_count": 138,
   "metadata": {},
   "outputs": [
    {
     "name": "stdout",
     "output_type": "stream",
     "text": [
      "PR AUC: 0.7952287362261029\n",
      "0.8928571428571429\n"
     ]
    }
   ],
   "source": [
    "from sklearn.metrics import precision_recall_curve, auc,f1_score\n",
    "precision_GRU, recall_GRU, thresholds = precision_recall_curve(reshaped_true_label, reshaped_test_GRU)\n",
    "# 计算 PR AUC\n",
    "pr_auc_GRU1 = auc(recall_GRU, precision_GRU)\n",
    "print(\"PR AUC:\", pr_auc_GRU)\n",
    "threshold = 0.5\n",
    "reshaped_test_GRU = (reshaped_test_GRU > threshold).astype(int)\n",
    "f1 = f1_score(reshaped_true_label, reshaped_test_GRU)\n",
    "print(f1)"
   ]
  },
  {
   "cell_type": "markdown",
   "metadata": {},
   "source": [
    "# DA-AKI(CNN)"
   ]
  },
  {
   "cell_type": "code",
   "execution_count": 147,
   "metadata": {},
   "outputs": [],
   "source": [
    "from tensorflow.keras.layers import Input,Flatten, Conv1D, MaxPooling1D, GRU, Bidirectional, Dense, Dropout, Concatenate, Activation, Dot,GlobalMaxPooling1D,SimpleRNN\n",
    "\n",
    "def get_model(max_len, feature_num):\n",
    "    x = Input(shape=(max_len, feature_num), dtype='float32')\n",
    "    y2 = Conv1D(filters=64, kernel_size=3, padding='same')(x)\n",
    "    y2 = Dropout(0.5)(y2)\n",
    "   # y2 = Dense(64, activation='relu')(y2)\n",
    "    outputs = Dense(2, activation='sigmoid')(y2)\n",
    "    \n",
    "    model = Model(inputs=x, outputs=outputs)\n",
    "    model.summary()\n",
    "    \n",
    "    return model"
   ]
  },
  {
   "cell_type": "code",
   "execution_count": 148,
   "metadata": {},
   "outputs": [
    {
     "name": "stdout",
     "output_type": "stream",
     "text": [
      "Model: \"model_1\"\n",
      "_________________________________________________________________\n",
      "Layer (type)                 Output Shape              Param #   \n",
      "=================================================================\n",
      "input_2 (InputLayer)         [(None, 2, 30)]           0         \n",
      "_________________________________________________________________\n",
      "conv1d (Conv1D)              (None, 2, 64)             5824      \n",
      "_________________________________________________________________\n",
      "dropout_2 (Dropout)          (None, 2, 64)             0         \n",
      "_________________________________________________________________\n",
      "dense_2 (Dense)              (None, 2, 2)              130       \n",
      "=================================================================\n",
      "Total params: 5,954\n",
      "Trainable params: 5,954\n",
      "Non-trainable params: 0\n",
      "_________________________________________________________________\n"
     ]
    }
   ],
   "source": [
    "model_CNN = get_model(max_len=maxlen, feature_num=len(features))"
   ]
  },
  {
   "cell_type": "code",
   "execution_count": 149,
   "metadata": {},
   "outputs": [],
   "source": [
    "adam = optimizers.Adam(lr=0.001)\n",
    "loss = BinaryCrossentropy(from_logits=False)\n",
    "k_auc = AUC()\n",
    "\n",
    "checkpoint = ModelCheckpoint(\n",
    "    MODEL_SAVE_PATH, \n",
    "    monitor='val_auc', \n",
    "    mode='max', \n",
    "    save_best_only=True\n",
    ")\n",
    "\n",
    "model_CNN.compile(\n",
    "    optimizer=adam, \n",
    "    loss=loss,\n",
    "    metrics=[k_auc]\n",
    ")\n",
    "\n",
    "to_save['lr'] = 0.001"
   ]
  },
  {
   "cell_type": "code",
   "execution_count": 150,
   "metadata": {},
   "outputs": [
    {
     "name": "stdout",
     "output_type": "stream",
     "text": [
      "Train on 109 samples, validate on 14 samples\n",
      "Epoch 1/5\n",
      " 16/109 [===>..........................] - ETA: 0s - loss: 0.7018 - auc_1: 0.5903WARNING:tensorflow:Can save best model only with val_auc available, skipping.\n"
     ]
    },
    {
     "name": "stderr",
     "output_type": "stream",
     "text": [
      "WARNING:tensorflow:Can save best model only with val_auc available, skipping.\n"
     ]
    },
    {
     "name": "stdout",
     "output_type": "stream",
     "text": [
      "109/109 [==============================] - 0s 3ms/sample - loss: 0.8202 - auc_1: 0.5290 - val_loss: 0.5917 - val_auc_1: 0.7640\n",
      "Epoch 2/5\n",
      " 16/109 [===>..........................] - ETA: 0s - loss: 0.7647 - auc_1: 0.6011WARNING:tensorflow:Can save best model only with val_auc available, skipping.\n"
     ]
    },
    {
     "name": "stderr",
     "output_type": "stream",
     "text": [
      "WARNING:tensorflow:Can save best model only with val_auc available, skipping.\n"
     ]
    },
    {
     "name": "stdout",
     "output_type": "stream",
     "text": [
      "109/109 [==============================] - 0s 258us/sample - loss: 0.6716 - auc_1: 0.6890 - val_loss: 0.4888 - val_auc_1: 0.8654\n",
      "Epoch 3/5\n",
      " 16/109 [===>..........................] - ETA: 0s - loss: 0.6688 - auc_1: 0.6841WARNING:tensorflow:Can save best model only with val_auc available, skipping.\n"
     ]
    },
    {
     "name": "stderr",
     "output_type": "stream",
     "text": [
      "WARNING:tensorflow:Can save best model only with val_auc available, skipping.\n"
     ]
    },
    {
     "name": "stdout",
     "output_type": "stream",
     "text": [
      "109/109 [==============================] - 0s 205us/sample - loss: 0.5293 - auc_1: 0.8183 - val_loss: 0.4221 - val_auc_1: 0.9094\n",
      "Epoch 4/5\n",
      " 16/109 [===>..........................] - ETA: 0s - loss: 0.4182 - auc_1: 0.8989WARNING:tensorflow:Can save best model only with val_auc available, skipping.\n"
     ]
    },
    {
     "name": "stderr",
     "output_type": "stream",
     "text": [
      "WARNING:tensorflow:Can save best model only with val_auc available, skipping.\n"
     ]
    },
    {
     "name": "stdout",
     "output_type": "stream",
     "text": [
      "109/109 [==============================] - 0s 160us/sample - loss: 0.4785 - auc_1: 0.8547 - val_loss: 0.3802 - val_auc_1: 0.9254\n",
      "Epoch 5/5\n",
      " 16/109 [===>..........................] - ETA: 0s - loss: 0.4189 - auc_1: 0.8994WARNING:tensorflow:Can save best model only with val_auc available, skipping.\n"
     ]
    },
    {
     "name": "stderr",
     "output_type": "stream",
     "text": [
      "WARNING:tensorflow:Can save best model only with val_auc available, skipping.\n"
     ]
    },
    {
     "name": "stdout",
     "output_type": "stream",
     "text": [
      "109/109 [==============================] - 0s 151us/sample - loss: 0.4115 - auc_1: 0.8983 - val_loss: 0.3525 - val_auc_1: 0.9349\n",
      "1.000562\n"
     ]
    }
   ],
   "source": [
    "time_start = datetime.now()\n",
    "history = model_CNN.fit(\n",
    "    train_data, train_label,\n",
    "    validation_data=(val_data, val_label), \n",
    "    batch_size=16, \n",
    "    epochs=5, \n",
    "    callbacks=[checkpoint])\n",
    "train_time = (datetime.now() - time_start).total_seconds()\n",
    "to_save['train_time'] = train_time\n",
    "print(train_time)"
   ]
  },
  {
   "cell_type": "code",
   "execution_count": 151,
   "metadata": {},
   "outputs": [
    {
     "data": {
      "text/plain": [
       "((56,), (56,))"
      ]
     },
     "execution_count": 151,
     "metadata": {},
     "output_type": "execute_result"
    }
   ],
   "source": [
    "reshaped_test_CNN.shape,reshaped_true_label.shape"
   ]
  },
  {
   "cell_type": "code",
   "execution_count": 152,
   "metadata": {},
   "outputs": [
    {
     "name": "stdout",
     "output_type": "stream",
     "text": [
      "ROC AUC: 0.8954081632653061\n"
     ]
    }
   ],
   "source": [
    "test_CNN = model_CNN.predict(test_data)\n",
    "from sklearn.metrics import roc_auc_score\n",
    "\n",
    "# 将三维数组转换为一维数组\n",
    "reshaped_test_CNN = test_CNN.flatten()\n",
    "reshaped_true_label = test_label.flatten()\n",
    "\n",
    "# 计算 ROC AUC\n",
    "roc_auc_CNN = roc_auc_score(reshaped_true_label, reshaped_test_CNN)\n",
    "print(f\"ROC AUC: {roc_auc_CNN}\")"
   ]
  },
  {
   "cell_type": "code",
   "execution_count": 153,
   "metadata": {},
   "outputs": [
    {
     "name": "stdout",
     "output_type": "stream",
     "text": [
      "PR AUC: 0.8286856907181944\n",
      "0.8620689655172413\n"
     ]
    }
   ],
   "source": [
    "from sklearn.metrics import precision_recall_curve, auc,f1_score\n",
    "precision_CNN, recall_CNN, thresholds = precision_recall_curve(reshaped_true_label, reshaped_test_CNN)\n",
    "# 计算 PR AUC\n",
    "pr_auc_CNN= auc(recall_CNN, precision_CNN)\n",
    "\n",
    "\n",
    "print(\"PR AUC:\", pr_auc_CNN)\n",
    "threshold = 0.5\n",
    "reshaped_test_CNN= (reshaped_test_CNN > threshold).astype(int)\n",
    "f1 = f1_score(reshaped_true_label, reshaped_test_CNN)\n",
    "print(f1)"
   ]
  }
 ],
 "metadata": {
  "kernelspec": {
   "display_name": "Python 3",
   "language": "python",
   "name": "python3"
  },
  "language_info": {
   "codemirror_mode": {
    "name": "ipython",
    "version": 3
   },
   "file_extension": ".py",
   "mimetype": "text/x-python",
   "name": "python",
   "nbconvert_exporter": "python",
   "pygments_lexer": "ipython3",
   "version": "3.6.13"
  }
 },
 "nbformat": 4,
 "nbformat_minor": 2
}
